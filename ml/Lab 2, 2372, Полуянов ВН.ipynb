{
 "cells": [
  {
   "metadata": {},
   "cell_type": "markdown",
   "source": [
    "# Набор данных о кино-индустрии\n",
    "- Предметная область: Индустрия кино. Анализ финансовых показателей проката, популярности жанров, прогнозирование доходов\n",
    "- Источник: https://www.kaggle.com/datasets/danielgrijalvas/movies\n",
    "- Тип данных: Реальные данные 7000+ фильмов за 1986-2020 года с ресурса IMDb\n",
    "\n",
    "Набор применим для:\n",
    "- Регрессии: Прогнозирования доходности проката фильма на основе доступных данных\n",
    "- Кластеризация: по бюджету и дохода фильма, по рейтингу\n",
    "\n",
    "Признаки:\n",
    "\n",
    "| Тип данных | Признак | Описание                     |\n",
    "|------------|---------|------------------------------|\n",
    "| name       | string  | Название фильма              |\n",
    "| rating     | string  | Возрастной рейтинг           |\n",
    "| genre      | string  | Жанр                         |\n",
    "| year       | int64   | Год выпуска                  |\n",
    "| released   | string  | Дата и место первого проката |\n",
    "| score      | float64 | Рейтинг IMDb                 |\n",
    "| votes      | float64 | Количество голосов           |\n",
    "| director   | string  | Режиссёр                     |\n",
    "| writer     | string  | Сценарист                    |\n",
    "| star       | string  | Главный актёр                |\n",
    "| country    | string  | Страна                       |\n",
    "| budget     | float64 | Бюджет                       |\n",
    "| gross      | float64 | Доход                        |\n",
    "| company    | string  | Продюсер                     |\n",
    "| runtime    | float64 | Продолжительность в минутах  |"
   ],
   "id": "cd7645b399af26b9"
  },
  {
   "metadata": {
    "ExecuteTime": {
     "end_time": "2024-10-02T23:20:11.806796Z",
     "start_time": "2024-10-02T23:20:11.795892Z"
    }
   },
   "cell_type": "code",
   "source": [
    "import pandas as pd\n",
    "import numpy as np\n",
    "import matplotlib.pyplot as plt\n",
    "import seaborn as sns\n",
    "\n",
    "import re\n",
    "from typing import Optional"
   ],
   "id": "initial_id",
   "execution_count": 220,
   "outputs": []
  },
  {
   "metadata": {
    "ExecuteTime": {
     "end_time": "2024-10-02T23:20:12.170741Z",
     "start_time": "2024-10-02T23:20:12.045016Z"
    }
   },
   "cell_type": "code",
   "source": [
    "df = pd.read_csv('raw/movies/movies.csv')\n",
    "df.drop('released', axis=1)\n",
    "df.sample(10, random_state=228)"
   ],
   "id": "b6d6af5b09b39063",
   "execution_count": 221,
   "outputs": []
  },
  {
   "metadata": {
    "ExecuteTime": {
     "end_time": "2024-10-02T23:20:12.222235Z",
     "start_time": "2024-10-02T23:20:12.172747Z"
    }
   },
   "cell_type": "code",
   "source": "df.info()",
   "id": "7616190e3b23cdf6",
   "execution_count": 222,
   "outputs": []
  },
  {
   "metadata": {},
   "cell_type": "markdown",
   "source": "Видно, что многие целочисленные признаки считались как вещественные. Поправим это",
   "id": "d66794740c5daca6"
  },
  {
   "metadata": {
    "ExecuteTime": {
     "end_time": "2024-10-02T23:20:12.274139Z",
     "start_time": "2024-10-02T23:20:12.224242Z"
    }
   },
   "cell_type": "code",
   "source": [
    "# Convert real values to integers if necessary.\n",
    "float_features = df.select_dtypes(include='float64').columns\n",
    "float_features = float_features.dropna()\n",
    "for feature in float_features:\n",
    "    func = lambda x: pd.isna(x) or (pd.notna(x) and x.is_integer())\n",
    "    if df[feature].apply(func).all():\n",
    "        df[feature] = df[feature].astype('Int64')"
   ],
   "id": "34101b4c55ae694",
   "execution_count": 223,
   "outputs": []
  },
  {
   "metadata": {},
   "cell_type": "markdown",
   "source": [
    "Год выпуска (year) часто не совпадает с годом первого показа из released, хотя последний является более важным признаком.\n",
    "\n",
    "Заменим значения year на год из released, если возможно, а released можно будет удалить"
   ],
   "id": "fd49e6d6e42df1d0"
  },
  {
   "metadata": {
    "ExecuteTime": {
     "end_time": "2024-10-02T23:20:12.297075Z",
     "start_time": "2024-10-02T23:20:12.276146Z"
    }
   },
   "cell_type": "code",
   "source": [
    "regex = r'(\\w+) (\\d+), (\\d+) \\((.+)\\)'\n",
    "for value in df['released']:\n",
    "    if not re.match(regex, str(value)):\n",
    "        print(value)\n",
    "\n",
    "df[df['released'].isna()]"
   ],
   "id": "bca8e27ac1f4c5fa",
   "execution_count": 224,
   "outputs": []
  },
  {
   "metadata": {},
   "cell_type": "markdown",
   "source": "Имеем значения вида '...{year} ({country})' и два вхождения с NaN, которые вскоре всё равно будут удалены, ведь по ним слишком мало информации",
   "id": "9e3b7fe7dcdece4e"
  },
  {
   "metadata": {
    "ExecuteTime": {
     "end_time": "2024-10-02T23:20:12.357899Z",
     "start_time": "2024-10-02T23:20:12.298228Z"
    }
   },
   "cell_type": "code",
   "source": [
    "def released_to_year(val_str: str) -> Optional[int]:\n",
    "    val_str = val_str.split('(')[0].strip()\n",
    "    return int(val_str[-4:])\n",
    "\n",
    "\n",
    "func = lambda x: released_to_year(x['released']) if str(x['released']) != 'nan' else x['year']\n",
    "df['year'] = df.apply(func, axis=1)\n",
    "df = df.drop('released', axis=1)"
   ],
   "id": "23317ce6ef20dd3b",
   "execution_count": 225,
   "outputs": []
  },
  {
   "metadata": {
    "ExecuteTime": {
     "end_time": "2024-10-02T23:20:12.374172Z",
     "start_time": "2024-10-02T23:20:12.360466Z"
    }
   },
   "cell_type": "code",
   "source": [
    "# Show how many NaN values are in the table.\n",
    "columns = df.columns\n",
    "total_rows = df.shape[0]\n",
    "no_misses_rows = []\n",
    "for col in columns:\n",
    "    nan_count = df[col].isna().sum()\n",
    "    not_empty = df[col].count()\n",
    "    if not_empty == total_rows:\n",
    "        no_misses_rows.append(col)\n",
    "    else:\n",
    "        print(f'{col}: NaN={nan_count}, Values={not_empty} of {total_rows} rows')\n",
    "print(f'Cols without any NaN/Empty: {', '.join(no_misses_rows)}')"
   ],
   "id": "5fee99e205673a8",
   "execution_count": 226,
   "outputs": []
  },
  {
   "metadata": {
    "ExecuteTime": {
     "end_time": "2024-10-02T23:20:13.345675Z",
     "start_time": "2024-10-02T23:20:12.375177Z"
    }
   },
   "cell_type": "code",
   "source": [
    "# Show distribution between budget & year.\n",
    "plt.figure(figsize=(10, 6))\n",
    "sns.scatterplot(data=df, x='year', y='budget', color='yellow')\n",
    "sns.lineplot(data=df, x='year', y='budget', color='red')\n",
    "plt.ylabel('Budget (mil)')\n",
    "plt.show()"
   ],
   "id": "95b39eee28df602b",
   "execution_count": 227,
   "outputs": []
  },
  {
   "metadata": {},
   "cell_type": "markdown",
   "source": "С годами бюджет фильмов растёт. Попробуем заменить NaN на медианные значения бюджета, опираясь на годовые показатели",
   "id": "ae228b42a8b0b8be"
  },
  {
   "metadata": {
    "ExecuteTime": {
     "end_time": "2024-10-02T23:20:13.380680Z",
     "start_time": "2024-10-02T23:20:13.347682Z"
    }
   },
   "cell_type": "code",
   "source": [
    "# Replace budget NaN values \n",
    "mean_per_year = df.groupby('year')['budget'].transform('mean').astype('Int64')\n",
    "df['budget'] = df['budget'].fillna(mean_per_year)\n",
    "print('NaN values left:', df.isna().sum().sum())\n",
    "df.isna().sum().sort_values(ascending=False)"
   ],
   "id": "8d7045cd8f9c05ed",
   "execution_count": 228,
   "outputs": []
  },
  {
   "metadata": {},
   "cell_type": "markdown",
   "source": "Записи с неопределенными показателями дохода можно удалить за ненадобностью, останется относительно мало включений с NaN - их тоже можно удалить",
   "id": "9ec7ae3b80f2fd62"
  },
  {
   "metadata": {
    "ExecuteTime": {
     "end_time": "2024-10-02T23:20:13.399322Z",
     "start_time": "2024-10-02T23:20:13.382699Z"
    }
   },
   "cell_type": "code",
   "source": [
    "df = df.dropna()\n",
    "print('NaN values left:', df.isna().sum().sum())"
   ],
   "id": "fbe0c6ea6d1e658a",
   "execution_count": 229,
   "outputs": []
  },
  {
   "metadata": {},
   "cell_type": "markdown",
   "source": "",
   "id": "82339aa8c94cf699"
  },
  {
   "metadata": {},
   "cell_type": "markdown",
   "source": "### Анализ и визуализация",
   "id": "2eb4cda284874a9a"
  },
  {
   "metadata": {
    "ExecuteTime": {
     "end_time": "2024-10-02T23:20:13.413198Z",
     "start_time": "2024-10-02T23:20:13.401843Z"
    }
   },
   "cell_type": "code",
   "source": "df.sample(10)",
   "id": "8218c0e36df04409",
   "execution_count": 230,
   "outputs": []
  },
  {
   "metadata": {
    "ExecuteTime": {
     "end_time": "2024-10-02T23:20:13.730951Z",
     "start_time": "2024-10-02T23:20:13.414202Z"
    }
   },
   "cell_type": "code",
   "source": [
    "# G - General Audiences (no restrictions).\n",
    "# PG - Parental Guidance Suggested\n",
    "# PG-13 - 13+\n",
    "# R - 17+\n",
    "# NC-17 - 18+\n",
    "\n",
    "data = df['rating'].value_counts()\n",
    "data = round(data / sum(data) * 100, 2)\n",
    "\n",
    "plt.figure(figsize=(10, 8))\n",
    "ax = sns.barplot(\n",
    "    x=data.index, y=data,\n",
    "    hue=data, legend=False\n",
    ")\n",
    "plt.ylabel('Percent')\n",
    "plt.title(f'Movies Rating Popularity')\n",
    "for ind, val in enumerate(data):\n",
    "    ax.annotate(\n",
    "        f'{val:.2f}', xy=(ind, val+0.5), ha='center',\n",
    "        fontsize=12, fontweight='bold'\n",
    "    )"
   ],
   "id": "5535d647e55bab0e",
   "execution_count": 231,
   "outputs": []
  },
  {
   "metadata": {
    "ExecuteTime": {
     "end_time": "2024-10-02T23:20:14.075049Z",
     "start_time": "2024-10-02T23:20:13.731957Z"
    }
   },
   "cell_type": "code",
   "source": [
    "data = df['genre'].value_counts()\n",
    "data = round(data / sum(data) * 100, 2)\n",
    "\n",
    "plt.figure(figsize=(10, 8))\n",
    "ax = sns.barplot(\n",
    "    x=data,\n",
    "    y=data.index,\n",
    "    hue=data,\n",
    "    legend=False\n",
    ")\n",
    "ax.set_xlim(0, 32)\n",
    "plt.ylabel('Percent')\n",
    "plt.title('Movies Genres Popularity')\n",
    "for i, value in enumerate(data):\n",
    "    ax.annotate(\n",
    "        f'{value:.2f}', xy=(value+0.2, i), va='center',\n",
    "        fontsize=12, fontweight='bold'\n",
    "    )"
   ],
   "id": "1b7c185c8de8ba97",
   "execution_count": 232,
   "outputs": []
  },
  {
   "metadata": {
    "ExecuteTime": {
     "end_time": "2024-10-02T23:20:14.363346Z",
     "start_time": "2024-10-02T23:20:14.076055Z"
    }
   },
   "cell_type": "code",
   "source": [
    "data = df['country'].value_counts()\n",
    "data = round(data / sum(data) * 100, 2)\n",
    "data = data[:10]\n",
    "\n",
    "plt.figure(figsize=(10, 8))\n",
    "ax = sns.barplot(\n",
    "    x=data,\n",
    "    y=data.index,\n",
    "    hue=data,\n",
    "    legend=False\n",
    ")\n",
    "ax.set_xlim(0, 77)\n",
    "plt.ylabel('Percent')\n",
    "plt.title('Movies Countries Popularity')\n",
    "for i, value in enumerate(data):\n",
    "    ax.annotate(\n",
    "        f'{value:.2f}', xy=(value+0.2, i), va='center',\n",
    "        fontsize=12, fontweight='bold'\n",
    "    )"
   ],
   "id": "d3f8a134ed27ee02",
   "execution_count": 233,
   "outputs": []
  },
  {
   "metadata": {
    "ExecuteTime": {
     "end_time": "2024-10-02T23:20:14.610195Z",
     "start_time": "2024-10-02T23:20:14.364356Z"
    }
   },
   "cell_type": "code",
   "source": [
    "data = df['year'].value_counts()\n",
    "\n",
    "plt.figure(figsize=(10, 4))\n",
    "ax = sns.lineplot(x=data.index, y=data, color='yellow')\n",
    "plt.title('Movies Release Year distribution')"
   ],
   "id": "169e6b485abab66d",
   "execution_count": 234,
   "outputs": []
  },
  {
   "metadata": {
    "ExecuteTime": {
     "end_time": "2024-10-02T23:20:14.930662Z",
     "start_time": "2024-10-02T23:20:14.611099Z"
    }
   },
   "cell_type": "code",
   "source": [
    "data = df['score']\n",
    "\n",
    "plt.figure(figsize=(10, 6))\n",
    "plt.title('Movies Score distribution')\n",
    "\n",
    "# Histogram\n",
    "bins = 10 * (data.max() - data.min()) + 1\n",
    "sns.histplot(data, kde=True, bins=int(bins))\n",
    "\n",
    "# Median and Mean lines\n",
    "mean, med = data.mean(), data.median()\n",
    "plt.axvline(mean, color='yellow', linestyle='-.', label=f'Mean: {mean:.1f}')\n",
    "plt.axvline(med, color='red', linestyle='-.', label=f'Med: {med:.1f}')\n",
    "\n",
    "plt.legend()\n",
    "plt.show()\n",
    "\n",
    "print(f'The score data skew: {df[\"score\"].skew(): 0.2f}')"
   ],
   "id": "f8e62674091a70b0",
   "execution_count": 235,
   "outputs": []
  },
  {
   "metadata": {
    "ExecuteTime": {
     "end_time": "2024-10-02T23:20:14.940866Z",
     "start_time": "2024-10-02T23:20:14.931668Z"
    }
   },
   "cell_type": "code",
   "source": [
    "def print_top(df_col: pd.Series, param: str, count: int = 5) -> None:\n",
    "    print(f'Top {count} {param} by number of movies')\n",
    "    for k, v in df_col.value_counts().head(count).items():\n",
    "        print(f'\\t{k}: {v}')\n",
    "    print()\n",
    "\n",
    "print_top(df['director'], 'directors')\n",
    "print_top(df['writer'], 'writers')\n",
    "print_top(df['company'], 'companies')"
   ],
   "id": "3f44361173580f61",
   "execution_count": 236,
   "outputs": []
  },
  {
   "metadata": {
    "ExecuteTime": {
     "end_time": "2024-10-02T23:20:14.962966Z",
     "start_time": "2024-10-02T23:20:14.941666Z"
    }
   },
   "cell_type": "code",
   "source": [
    "print('Top 15 movies of all time (by IMDb rating)')\n",
    "filtered = df['score'].nlargest(15)\n",
    "df.loc[filtered.index, ['year', 'name', 'score']]"
   ],
   "id": "81772e438c9cd901",
   "execution_count": 237,
   "outputs": []
  },
  {
   "metadata": {},
   "cell_type": "markdown",
   "source": "### Зависимости признаков. Матрица корреляции.",
   "id": "affb05b344386ccf"
  },
  {
   "metadata": {
    "ExecuteTime": {
     "end_time": "2024-10-02T23:20:15.182959Z",
     "start_time": "2024-10-02T23:20:14.963928Z"
    }
   },
   "cell_type": "code",
   "source": [
    "df_numeric = df.select_dtypes(include=[np.number])\n",
    "corr_matrix = df_numeric.corr()\n",
    "\n",
    "sns.heatmap(corr_matrix, annot=True, cmap='coolwarm', center=0, linewidths=0.5)\n",
    "plt.title('Correlation Matrix')\n",
    "plt.show()"
   ],
   "id": "fcaa52eeb096177b",
   "execution_count": 238,
   "outputs": []
  },
  {
   "metadata": {},
   "cell_type": "markdown",
   "source": [
    "Из матрицы видно:\n",
    "1. Сильную положительную зависимость gross от budget = 0.71\n",
    "2. Сильную положительную зависимость gross от votes  = 0.63"
   ],
   "id": "85d549b3cbb6b048"
  },
  {
   "metadata": {
    "ExecuteTime": {
     "end_time": "2024-10-02T23:20:16.476404Z",
     "start_time": "2024-10-02T23:20:15.184977Z"
    }
   },
   "cell_type": "code",
   "source": [
    "plt.figure(figsize=(20, 6))\n",
    "\n",
    "# Plot 1: Gross/Budget.\n",
    "plt.subplot(1, 2, 1)\n",
    "sns.scatterplot(x='budget', y='gross', data=df, hue=df['gross'].astype(int), legend=False, palette='viridis')\n",
    "sns.regplot(x='budget', y='gross', data=df, scatter=False, color='yellow')\n",
    "plt.title('Gross to budget')\n",
    "\n",
    "# Plot 2: Gross/Votes\n",
    "plt.subplot(1, 2, 2)\n",
    "sns.scatterplot(x='votes', y='gross', data=df, hue=df['gross'].astype(int), legend=False, palette='viridis')\n",
    "sns.regplot(x='votes', y='gross', data=df, scatter=False, color='yellow')\n",
    "plt.title('Gross to votes')\n",
    "\n",
    "plt.show()"
   ],
   "id": "f6e52bfdfe9d2849",
   "execution_count": 239,
   "outputs": []
  },
  {
   "metadata": {},
   "cell_type": "markdown",
   "source": [
    "Выводы:\n",
    "1. Чем сильнее растёт бюджет, тем больше доход;\n",
    "2. Чем больше оценок (тем больше просмотрело людей), тем больше доход."
   ],
   "id": "a2fc2751eab541ae"
  },
  {
   "metadata": {
    "ExecuteTime": {
     "end_time": "2024-10-02T23:20:16.491748Z",
     "start_time": "2024-10-02T23:20:16.477417Z"
    }
   },
   "cell_type": "code",
   "source": [
    "# New feature: profit.\n",
    "df['profit'] = df['gross'] - df['budget']\n",
    "df.sample(10)"
   ],
   "id": "bb82a2cc3129fd51",
   "execution_count": 240,
   "outputs": []
  },
  {
   "metadata": {},
   "cell_type": "markdown",
   "source": "### Категоризация, нормализация, подбор числа кластеров K-Means",
   "id": "689eee36b0dfbf99"
  },
  {
   "metadata": {
    "ExecuteTime": {
     "end_time": "2024-10-02T23:20:17.458007Z",
     "start_time": "2024-10-02T23:20:16.492759Z"
    }
   },
   "cell_type": "code",
   "source": [
    "from sklearn.preprocessing import StandardScaler, LabelEncoder\n",
    "from sklearn.cluster import KMeans\n",
    "\n",
    "\n",
    "# Encode labels\n",
    "label_encoder = LabelEncoder()\n",
    "categorical_features = ['rating', 'genre', 'country']\n",
    "for feature in categorical_features:\n",
    "    df[feature] = label_encoder.fit_transform(df[feature])\n",
    "    \n",
    "# Get numerical features, normalize\n",
    "df_numeric = df.select_dtypes(include=[np.number])\n",
    "scaler = StandardScaler()\n",
    "df_numeric = scaler.fit_transform(df_numeric)\n",
    "\n",
    "# Search for optimal k\n",
    "k_range = range(1, 15)\n",
    "kmeans = [KMeans(n_clusters=i) for i in k_range]\n",
    "score = [kmeans[i-1].fit(df_numeric).score(df_numeric) for i in k_range]"
   ],
   "id": "b211976c7e398069",
   "execution_count": 241,
   "outputs": []
  },
  {
   "metadata": {},
   "cell_type": "markdown",
   "source": "### Кластеризация K-Means",
   "id": "166f11944b517ac0"
  },
  {
   "metadata": {
    "ExecuteTime": {
     "end_time": "2024-10-02T23:20:17.621515Z",
     "start_time": "2024-10-02T23:20:17.460536Z"
    }
   },
   "cell_type": "code",
   "source": [
    "# Show kmeans\n",
    "plt.plot(k_range, score, marker='o', color='yellow')\n",
    "plt.xlabel('Num of Clusters')\n",
    "plt.ylabel('Score')\n",
    "plt.title('Elbow Curve')\n",
    "plt.show()"
   ],
   "id": "5965368d7f46c8b4",
   "execution_count": 242,
   "outputs": []
  },
  {
   "metadata": {
    "ExecuteTime": {
     "end_time": "2024-10-02T23:20:17.646539Z",
     "start_time": "2024-10-02T23:20:17.622525Z"
    }
   },
   "cell_type": "code",
   "source": [
    "optimal_k = 4\n",
    "\n",
    "kmeans = KMeans(n_clusters=optimal_k)\n",
    "kmeans.fit(df_numeric)\n",
    "len(kmeans.labels_)"
   ],
   "id": "36f7efa0863adeb2",
   "execution_count": 243,
   "outputs": []
  },
  {
   "metadata": {
    "ExecuteTime": {
     "end_time": "2024-10-02T23:20:17.681496Z",
     "start_time": "2024-10-02T23:20:17.647547Z"
    }
   },
   "cell_type": "code",
   "source": [
    "df['cluster'] = kmeans.labels_\n",
    "df.head()"
   ],
   "id": "7932f8c264ccdb",
   "execution_count": 244,
   "outputs": []
  },
  {
   "metadata": {
    "ExecuteTime": {
     "end_time": "2024-10-02T23:20:17.882615Z",
     "start_time": "2024-10-02T23:20:17.684508Z"
    }
   },
   "cell_type": "code",
   "source": [
    "plt.figure(figsize=(12,7))\n",
    "axis = sns.barplot(x=np.arange(0,optimal_k,1),y=df.groupby(['cluster']).count()['budget'].values)\n",
    "x=axis.set_xlabel(\"Cluster Number\")\n",
    "y=axis.set_ylabel(\"Number of movies\")\n"
   ],
   "id": "bde61f9de5a4edb8",
   "execution_count": 245,
   "outputs": []
  },
  {
   "metadata": {
    "ExecuteTime": {
     "end_time": "2024-10-02T23:20:17.901498Z",
     "start_time": "2024-10-02T23:20:17.883710Z"
    }
   },
   "cell_type": "code",
   "source": [
    "df_numeric = df.select_dtypes(include=[np.number])\n",
    "df_numeric = df_numeric.groupby('cluster').mean().round(2)\n",
    "\n",
    "for cluster, count in df['cluster'].value_counts().sort_index().items():\n",
    "    print(f'Cluster #{cluster} size: {count}')\n",
    "    \n",
    "df_numeric"
   ],
   "id": "cf4db0a335dcc1e0",
   "execution_count": 246,
   "outputs": []
  },
  {
   "metadata": {},
   "cell_type": "markdown",
   "source": [
    "Можно увидеть следующие группы:\n",
    "- №0 и №2: Два наибольших кластера - большинство хороших фильмов. Первые выделяются хорошими прибылями profit\n",
    "- №1: Небольшой кластер - фильмы с малыми прибылями\n",
    "- №3: Наименьший кластер - фильмы с наибольшими финансовыми показателями\n",
    "\n",
    "Посмотрим на представителей каждой группы."
   ],
   "id": "2e9b4e26929f2ab5"
  },
  {
   "metadata": {
    "ExecuteTime": {
     "end_time": "2024-10-02T23:24:01.142034Z",
     "start_time": "2024-10-02T23:24:01.127277Z"
    }
   },
   "cell_type": "code",
   "source": [
    "# Cluster 0\n",
    "df_view = df.drop(columns=['rating', 'genre', 'country', 'budget', 'gross'])\n",
    "df_view[df_view['cluster'] == 0].sample(5)"
   ],
   "id": "80283ef40f9389c4",
   "execution_count": 255,
   "outputs": []
  },
  {
   "metadata": {
    "ExecuteTime": {
     "end_time": "2024-10-02T23:23:50.472409Z",
     "start_time": "2024-10-02T23:23:50.462836Z"
    }
   },
   "cell_type": "code",
   "source": [
    "# Cluster 1\n",
    "df_view[df_view['cluster'] == 1].sample(5)"
   ],
   "id": "22eea3d7fb998bea",
   "execution_count": 254,
   "outputs": []
  },
  {
   "metadata": {
    "ExecuteTime": {
     "end_time": "2024-10-02T23:24:14.200535Z",
     "start_time": "2024-10-02T23:24:14.192136Z"
    }
   },
   "cell_type": "code",
   "source": [
    "# Cluster 2\n",
    "df_view[df_view['cluster'] == 2].sample(5)"
   ],
   "id": "5724b68a73ee60a",
   "execution_count": 256,
   "outputs": []
  },
  {
   "metadata": {
    "ExecuteTime": {
     "end_time": "2024-10-02T23:24:31.628548Z",
     "start_time": "2024-10-02T23:24:31.620065Z"
    }
   },
   "cell_type": "code",
   "source": [
    "# Cluster 3\n",
    "df_view[df_view['cluster'] == 3].sample(5)"
   ],
   "id": "9e4f0787459fce81",
   "execution_count": 257,
   "outputs": []
  },
  {
   "metadata": {},
   "cell_type": "markdown",
   "source": "Действительно, можно наблюдать группу самых удачных прокатов, группу самых неудачных и две посередине. Разница между последними двумя в среднем порядке доходов (разница в десяток)",
   "id": "971c6ca93bae4e2a"
  }
 ],
 "metadata": {
  "kernelspec": {
   "display_name": "Python 3",
   "language": "python",
   "name": "python3"
  },
  "language_info": {
   "codemirror_mode": {
    "name": "ipython",
    "version": 2
   },
   "file_extension": ".py",
   "mimetype": "text/x-python",
   "name": "python",
   "nbconvert_exporter": "python",
   "pygments_lexer": "ipython2",
   "version": "2.7.6"
  }
 },
 "nbformat": 4,
 "nbformat_minor": 5
}
