{
 "cells": [
  {
   "cell_type": "markdown",
   "metadata": {
    "id": "SNmbuTNWnz_z"
   },
   "source": [
    "# Лабораторная работа №1. Регрессия и классификация для табличных данных.\n"
   ]
  },
  {
   "cell_type": "markdown",
   "metadata": {
    "id": "k9wjgurmonzc"
   },
   "source": [
    "# Подключение kaggle, загрузка датасета, импорт библиотек."
   ]
  },
  {
   "cell_type": "code",
   "execution_count": 210,
   "metadata": {
    "executionInfo": {
     "elapsed": 2464,
     "status": "ok",
     "timestamp": 1737865060936,
     "user": {
      "displayName": "Валерий Полуянов",
      "userId": "18147379837449461859"
     },
     "user_tz": -180
    },
    "id": "vmAuzk--90xt"
   },
   "outputs": [],
   "source": [
    "! pip install -q kaggle"
   ]
  },
  {
   "cell_type": "code",
   "execution_count": 211,
   "metadata": {
    "colab": {
     "base_uri": "https://localhost:8080/"
    },
    "executionInfo": {
     "elapsed": 1987,
     "status": "ok",
     "timestamp": 1737865062915,
     "user": {
      "displayName": "Валерий Полуянов",
      "userId": "18147379837449461859"
     },
     "user_tz": -180
    },
    "id": "XJ665gzIncop",
    "outputId": "c42794ce-1851-4c77-8ec2-50462272d628"
   },
   "outputs": [
    {
     "name": "stdout",
     "output_type": "stream",
     "text": [
      "Dataset URL: https://www.kaggle.com/datasets/heptapod/titanic\n",
      "License(s): DbCL-1.0\n",
      "titanic.zip: Skipping, found more recently modified local copy (use --force to force download)\n"
     ]
    }
   ],
   "source": [
    "! kaggle datasets download -d heptapod/titanic"
   ]
  },
  {
   "cell_type": "code",
   "execution_count": null,
   "metadata": {
    "colab": {
     "background_save": true,
     "base_uri": "https://localhost:8080/"
    },
    "id": "8len5behneIP"
   },
   "outputs": [
    {
     "name": "stdout",
     "output_type": "stream",
     "text": [
      "Archive:  /content/titanic.zip\n",
      "replace /content/titanic/train_and_test2.csv? [y]es, [n]o, [A]ll, [N]one, [r]ename: "
     ]
    }
   ],
   "source": [
    "! unzip '/content/titanic.zip' -d '/content/titanic'"
   ]
  },
  {
   "cell_type": "code",
   "execution_count": null,
   "metadata": {
    "id": "5h_8270ooWCa"
   },
   "outputs": [],
   "source": [
    "CSV_PATH = '/content/titanic/train_and_test2.csv'"
   ]
  },
  {
   "cell_type": "code",
   "execution_count": null,
   "metadata": {
    "id": "0jVXUeEkoLDF"
   },
   "outputs": [],
   "source": [
    "import numpy as np\n",
    "import pandas as pd\n",
    "from matplotlib import pyplot as plt\n",
    "import seaborn as sns\n",
    "%matplotlib inline"
   ]
  },
  {
   "cell_type": "markdown",
   "metadata": {
    "id": "5WpUFeX-oMfT"
   },
   "source": [
    "# Анализ данных."
   ]
  },
  {
   "cell_type": "code",
   "execution_count": null,
   "metadata": {
    "id": "RpDwE1WQoQjk"
   },
   "outputs": [],
   "source": [
    "df = pd.read_csv(CSV_PATH)\n",
    "df.head()"
   ]
  },
  {
   "cell_type": "markdown",
   "metadata": {
    "id": "Cs2jLoSnoxKM"
   },
   "source": [
    "**Описание данных:**\n",
    "1. PassengerId - ID пассажира\n",
    "2. Age - Возраст (вещественное)\n",
    "3. Fare - Стоимость проезда (вещественное)\n",
    "4. Sex - Пол пассажира (male/female)\n",
    "5. sibsp - Кол-во родственников (целое)\n",
    "6. Parch - Кол-во родителей (целое)\n",
    "7. Pclass - Класс билета (1-3)\n",
    "8. Embarked - Порт посадки (C/Q/S), C - Cherbourg, Q - Queenstown, S - Southampton\n",
    "9. Survived - выжил ли пассажир (0/1)\n",
    "\n",
    "Датасет частично предобратан, а именно:\n",
    "1. Удалены поля Name, Ticket, что не несут ифнормации;\n",
    "2. Категориальные строковые данные закодированы;\n",
    "3. Удален столбец Cabin, содержащий 80%+ пропусков."
   ]
  },
  {
   "cell_type": "code",
   "execution_count": null,
   "metadata": {
    "id": "47rZ-ZOkouE5"
   },
   "outputs": [],
   "source": [
    "# Удалим не несущее смысла поле ID пассажира.\n",
    "if 'Passengerid' in df:\n",
    "  df = df.drop(columns=['Passengerid'])\n",
    "\n",
    "# Удалим пустые 'zero' признаки.\n",
    "df = df.loc[:, ~df.columns.str.startswith('zero')]\n",
    "\n",
    "# Исправим ошибки в названиях столбцов.\n",
    "df = df.rename(columns={\n",
    "    '2urvived': 'Survived',\n",
    "    'sibsp': 'SibSp'\n",
    "})\n",
    "\n",
    "# Посмотрим основную информацию о датасете.\n",
    "print(df.info())\n",
    "df.describe()"
   ]
  },
  {
   "cell_type": "code",
   "execution_count": null,
   "metadata": {
    "id": "4oUr2Kn-zzys"
   },
   "outputs": [],
   "source": [
    "# Пропущено два значения порта посадки пассажира, заполним модой.\n",
    "df['Embarked'] = df['Embarked'].fillna(df['Embarked'].value_counts().index[0])\n",
    "print(df.info())\n",
    "df.sample(5, random_state=0)"
   ]
  },
  {
   "cell_type": "code",
   "execution_count": null,
   "metadata": {
    "id": "GFm6zmDs0X3Z"
   },
   "outputs": [],
   "source": [
    "# Посмотрим на распределение данных.\n",
    "def plot_hist(data, **kwargs):\n",
    "    # Bins и discrete не используется, поскольку они критично замедляют процесс.\n",
    "    sns.histplot(data=data, kde=True, **kwargs)\n",
    "\n",
    "\n",
    "g = sns.FacetGrid(pd.melt(df), col='variable', col_wrap=3,\n",
    "                  sharex=False, sharey=False)\n",
    "g.map_dataframe(plot_hist)\n",
    "g.set_titles('{col_name} histogram')\n",
    "g.set_axis_labels('Value', 'Frequency')\n",
    "plt.show()"
   ]
  },
  {
   "cell_type": "code",
   "execution_count": null,
   "metadata": {
    "id": "g96U54gC4JvK"
   },
   "outputs": [],
   "source": [
    "# Посмотрим на корреляцию признаков.\n",
    "\n",
    "# Пороговое значения отображения на графике матрицы корреляции (0 - 1)\n",
    "# Установим порог в 30% корелляции, слабосвязанные признаки нас не интересуют.\n",
    "THRESHOLD = 0.3  # Установите THRESHOLD = 0 если фильтрация не нужна.\n",
    "\n",
    "corr_matrix = df.corr()\n",
    "corr_matrix = corr_matrix.mask(abs(corr_matrix) < THRESHOLD, np.nan)\n",
    "\n",
    "plt.figure(figsize=(14, 12))\n",
    "sns.heatmap(corr_matrix, annot=False, cmap='coolwarm', center=0, linewidths=0.5)\n",
    "plt.title('Correlation Matrix')\n",
    "plt.show()\n",
    "corr_matrix"
   ]
  },
  {
   "cell_type": "markdown",
   "metadata": {
    "id": "rer5A2x-5Zmc"
   },
   "source": [
    "**Выводы:**\n",
    "1. Наибольшее влияние на выживаемость влияет пол - большее число мужчин погибло, большее число женщин - выжило;\n",
    "2. Чем выше класс билета, тем дороже он стоил;\n",
    "3. Чем больше родственников у пассажира, тем больше братьев/сестер у него;\n",
    "4. Чем старше пассажир, тем более высокий класс билета у него был."
   ]
  },
  {
   "cell_type": "code",
   "execution_count": null,
   "metadata": {
    "id": "6kFJoZCP6jC_"
   },
   "outputs": [],
   "source": [
    "target_name = 'Survived'\n",
    "\n",
    "target = df[target_name]\n",
    "df = df.drop(target_name, axis=1)"
   ]
  },
  {
   "cell_type": "code",
   "execution_count": null,
   "metadata": {
    "id": "oe_eKCZR6wIj"
   },
   "outputs": [],
   "source": [
    "print(target.value_counts())\n",
    "print('\\nNA count:\\n', df.isna().sum(), '\\n', sep='')\n",
    "df.sample(5, random_state=0)"
   ]
  },
  {
   "cell_type": "markdown",
   "metadata": {
    "id": "_Czp0R5tEWp3"
   },
   "source": [
    "# Подготовка данных"
   ]
  },
  {
   "cell_type": "markdown",
   "metadata": {
    "id": "w2RKANON5rIM"
   },
   "source": [
    "## Импорт библиотек"
   ]
  },
  {
   "cell_type": "code",
   "execution_count": null,
   "metadata": {
    "id": "MjWNWlDoEfsZ"
   },
   "outputs": [],
   "source": [
    "! pip install torchinfo --quiet"
   ]
  },
  {
   "cell_type": "code",
   "execution_count": null,
   "metadata": {
    "id": "Bs9XzWsKirD2"
   },
   "outputs": [],
   "source": [
    "! pip install torchsampler==0.1.1 --quiet"
   ]
  },
  {
   "cell_type": "code",
   "execution_count": null,
   "metadata": {
    "id": "LW1KUW0MnaYm"
   },
   "outputs": [],
   "source": [
    "! pip install torchinfo --quiet"
   ]
  },
  {
   "cell_type": "code",
   "execution_count": null,
   "metadata": {
    "id": "rtGCkp0rFS3f"
   },
   "outputs": [],
   "source": [
    "from sklearn.preprocessing import RobustScaler\n",
    "from sklearn.model_selection import train_test_split\n",
    "\n",
    "import torch\n",
    "from torch import nn\n",
    "from torch.utils.data import Dataset, DataLoader\n",
    "from torchsampler import ImbalancedDatasetSampler as ImbSampler\n",
    "\n",
    "from sklearn.utils.class_weight import compute_class_weight\n",
    "from torchinfo import summary\n",
    "\n",
    "from sklearn.metrics import confusion_matrix, ConfusionMatrixDisplay, f1_score"
   ]
  },
  {
   "cell_type": "markdown",
   "metadata": {
    "id": "hPxA9vPh3Wbw"
   },
   "source": [
    "## Нормализация, разбиение, тензоры."
   ]
  },
  {
   "cell_type": "code",
   "execution_count": 187,
   "metadata": {
    "executionInfo": {
     "elapsed": 826,
     "status": "ok",
     "timestamp": 1737865050663,
     "user": {
      "displayName": "Валерий Полуянов",
      "userId": "18147379837449461859"
     },
     "user_tz": -180
    },
    "id": "2gtXrzOO1X88"
   },
   "outputs": [],
   "source": [
    "# Нормализуем данные.\n",
    "# Используем RobustScaler, ведь данные содержат выбросы.\n",
    "scaler = RobustScaler()\n",
    "df_scaled = scaler.fit_transform(df)"
   ]
  },
  {
   "cell_type": "code",
   "execution_count": 188,
   "metadata": {
    "colab": {
     "base_uri": "https://localhost:8080/"
    },
    "executionInfo": {
     "elapsed": 31,
     "status": "ok",
     "timestamp": 1737865051284,
     "user": {
      "displayName": "Валерий Полуянов",
      "userId": "18147379837449461859"
     },
     "user_tz": -180
    },
    "id": "xTRjITa-GbNU",
    "outputId": "97f7ea0d-9ef1-48a5-d0a0-b6cca571d654"
   },
   "outputs": [
    {
     "name": "stdout",
     "output_type": "stream",
     "text": [
      "Lengths:\n",
      "Train = 1047 (80.0%)\n",
      " Test = 131 (10.0%)\n",
      "  Val = 131 (10.0%)\n"
     ]
    }
   ],
   "source": [
    "# Распределим данные.\n",
    "x_train, x_test, y_train, y_test = train_test_split(df_scaled, target, test_size=0.2)\n",
    "x_val, x_test, y_val, y_test = train_test_split(x_test, y_test, test_size=0.5)\n",
    "print(\n",
    "  f'Lengths:\\n'\n",
    "  f'Train = {len(x_train)} ({round(len(x_train)/len(df)*100, 1)}%)\\n'\n",
    "  f' Test = {len(x_test)} ({round(len(x_test)/len(df)*100, 1)}%)\\n'\n",
    "  f'  Val = {len(x_val)} ({round(len(x_val)/len(df)*100, 1)}%)'\n",
    ")"
   ]
  },
  {
   "cell_type": "code",
   "execution_count": 189,
   "metadata": {
    "colab": {
     "base_uri": "https://localhost:8080/",
     "height": 35
    },
    "executionInfo": {
     "elapsed": 28,
     "status": "ok",
     "timestamp": 1737865051284,
     "user": {
      "displayName": "Валерий Полуянов",
      "userId": "18147379837449461859"
     },
     "user_tz": -180
    },
    "id": "zHZzSrNkFj06",
    "outputId": "ba594679-2d9d-4f8d-a739-9234dbd5aba1"
   },
   "outputs": [
    {
     "data": {
      "application/vnd.google.colaboratory.intrinsic+json": {
       "type": "string"
      },
      "text/plain": [
       "'cpu'"
      ]
     },
     "execution_count": 189,
     "metadata": {},
     "output_type": "execute_result"
    }
   ],
   "source": [
    "device = 'cuda' if torch.cuda.is_available() else 'cpu'\n",
    "device"
   ]
  },
  {
   "cell_type": "code",
   "execution_count": 190,
   "metadata": {
    "executionInfo": {
     "elapsed": 26,
     "status": "ok",
     "timestamp": 1737865051284,
     "user": {
      "displayName": "Валерий Полуянов",
      "userId": "18147379837449461859"
     },
     "user_tz": -180
    },
    "id": "-ttErpxrFtBX"
   },
   "outputs": [],
   "source": [
    "class MyDataset(Dataset):\n",
    "    def __init__(self, data, targets, transform=None):\n",
    "      self.data = torch.FloatTensor(data)\n",
    "      self.targets = torch.FloatTensor(targets)\n",
    "      self.transform = transform\n",
    "\n",
    "    def __getitem__(self, index):\n",
    "      x = self.data[index]\n",
    "      y = self.targets[index]\n",
    "      return x, y\n",
    "\n",
    "    def __len__(self):\n",
    "      return len(self.data)\n",
    "\n",
    "    def get_labels(self):\n",
    "      return self.targets"
   ]
  },
  {
   "cell_type": "code",
   "execution_count": 191,
   "metadata": {
    "executionInfo": {
     "elapsed": 26,
     "status": "ok",
     "timestamp": 1737865051284,
     "user": {
      "displayName": "Валерий Полуянов",
      "userId": "18147379837449461859"
     },
     "user_tz": -180
    },
    "id": "dEiSrxUqFupw"
   },
   "outputs": [],
   "source": [
    "train_ds = MyDataset(x_train, y_train.values)\n",
    "val_ds = MyDataset(x_val, y_val.values)\n",
    "test_ds = MyDataset(x_test, y_test.values)"
   ]
  },
  {
   "cell_type": "code",
   "execution_count": 192,
   "metadata": {
    "executionInfo": {
     "elapsed": 26,
     "status": "ok",
     "timestamp": 1737865051284,
     "user": {
      "displayName": "Валерий Полуянов",
      "userId": "18147379837449461859"
     },
     "user_tz": -180
    },
    "id": "-xeDVCzIV7Sw"
   },
   "outputs": [],
   "source": [
    "batch_size = 64\n",
    "train_loader = DataLoader(train_ds, batch_size=batch_size,\n",
    "                          shuffle=False, sampler=ImbSampler(train_ds))\n",
    "val_loader = DataLoader(val_ds, batch_size=batch_size, shuffle=False)\n",
    "test_loader = DataLoader(test_ds, batch_size=batch_size, shuffle=False)"
   ]
  },
  {
   "cell_type": "markdown",
   "metadata": {
    "id": "iEwq9Oy53iu_"
   },
   "source": [
    "# Модель полносвязного многослойного перцептрона (FFNN) и обучение."
   ]
  },
  {
   "cell_type": "markdown",
   "metadata": {
    "id": "su7VwWFl5-70"
   },
   "source": [
    "## Модель."
   ]
  },
  {
   "cell_type": "code",
   "execution_count": 193,
   "metadata": {
    "executionInfo": {
     "elapsed": 26,
     "status": "ok",
     "timestamp": 1737865051284,
     "user": {
      "displayName": "Валерий Полуянов",
      "userId": "18147379837449461859"
     },
     "user_tz": -180
    },
    "id": "PjpM6NdlWW0u"
   },
   "outputs": [],
   "source": [
    "class FFNN_Classificator(nn.Module):\n",
    "  def __init__(self, num_inputs, num_classes):\n",
    "      super(FFNN_Classificator, self).__init__()\n",
    "\n",
    "      __activation = lambda: nn.ReLU(inplace=True)\n",
    "      self.pipe = nn.Sequential(\n",
    "          nn.Linear(num_inputs, 48, bias=False),\n",
    "          __activation(),\n",
    "          nn.BatchNorm1d(48),\n",
    "\n",
    "          nn.Linear(48, 32, bias=False),\n",
    "          __activation(),\n",
    "          nn.BatchNorm1d(32),\n",
    "\n",
    "          nn.Linear(32, 16, bias=False),\n",
    "          __activation(),\n",
    "          nn.BatchNorm1d(16),\n",
    "\n",
    "          nn.Linear(16, num_classes)\n",
    "      )\n",
    "\n",
    "  def forward(self, x):\n",
    "      return self.pipe(x)"
   ]
  },
  {
   "cell_type": "code",
   "execution_count": 194,
   "metadata": {
    "executionInfo": {
     "elapsed": 25,
     "status": "ok",
     "timestamp": 1737865051284,
     "user": {
      "displayName": "Валерий Полуянов",
      "userId": "18147379837449461859"
     },
     "user_tz": -180
    },
    "id": "FhU2gRba3J0X"
   },
   "outputs": [],
   "source": [
    "num_inputs = x_train.shape[1]\n",
    "num_classes = 2\n",
    "\n",
    "model = FFNN_Classificator(num_inputs, num_classes)"
   ]
  },
  {
   "cell_type": "code",
   "execution_count": 195,
   "metadata": {
    "colab": {
     "base_uri": "https://localhost:8080/"
    },
    "executionInfo": {
     "elapsed": 25,
     "status": "ok",
     "timestamp": 1737865051284,
     "user": {
      "displayName": "Валерий Полуянов",
      "userId": "18147379837449461859"
     },
     "user_tz": -180
    },
    "id": "3Hzbon8A6Nvt",
    "outputId": "99be1d38-d085-4d69-9672-e94fb142ce8f"
   },
   "outputs": [
    {
     "data": {
      "text/plain": [
       "==========================================================================================\n",
       "Layer (type:depth-idx)                   Output Shape              Param #\n",
       "==========================================================================================\n",
       "FFNN_Classificator                       [2, 2]                    --\n",
       "├─Sequential: 1-1                        [2, 2]                    --\n",
       "│    └─Linear: 2-1                       [2, 48]                   336\n",
       "│    └─ReLU: 2-2                         [2, 48]                   --\n",
       "│    └─BatchNorm1d: 2-3                  [2, 48]                   96\n",
       "│    └─Linear: 2-4                       [2, 32]                   1,536\n",
       "│    └─ReLU: 2-5                         [2, 32]                   --\n",
       "│    └─BatchNorm1d: 2-6                  [2, 32]                   64\n",
       "│    └─Linear: 2-7                       [2, 16]                   512\n",
       "│    └─ReLU: 2-8                         [2, 16]                   --\n",
       "│    └─BatchNorm1d: 2-9                  [2, 16]                   32\n",
       "│    └─Linear: 2-10                      [2, 2]                    34\n",
       "==========================================================================================\n",
       "Total params: 2,610\n",
       "Trainable params: 2,610\n",
       "Non-trainable params: 0\n",
       "Total mult-adds (Units.MEGABYTES): 0.01\n",
       "==========================================================================================\n",
       "Input size (MB): 0.00\n",
       "Forward/backward pass size (MB): 0.00\n",
       "Params size (MB): 0.01\n",
       "Estimated Total Size (MB): 0.01\n",
       "=========================================================================================="
      ]
     },
     "execution_count": 195,
     "metadata": {},
     "output_type": "execute_result"
    }
   ],
   "source": [
    "summary(model, input_size=(num_classes, num_inputs))"
   ]
  },
  {
   "cell_type": "code",
   "execution_count": 196,
   "metadata": {
    "executionInfo": {
     "elapsed": 20,
     "status": "ok",
     "timestamp": 1737865051284,
     "user": {
      "displayName": "Валерий Полуянов",
      "userId": "18147379837449461859"
     },
     "user_tz": -180
    },
    "id": "UUyUHCGQ8Q4k"
   },
   "outputs": [],
   "source": [
    "# Подсчёт веса классов.\n",
    "class_weights = compute_class_weight(\n",
    "  class_weight='balanced', classes=np.array([0, 1]), y=target\n",
    ")\n",
    "class_weights = torch.FloatTensor(class_weights).to(device)"
   ]
  },
  {
   "cell_type": "code",
   "execution_count": 197,
   "metadata": {
    "executionInfo": {
     "elapsed": 20,
     "status": "ok",
     "timestamp": 1737865051284,
     "user": {
      "displayName": "Валерий Полуянов",
      "userId": "18147379837449461859"
     },
     "user_tz": -180
    },
    "id": "eS-tkPlU7gTN"
   },
   "outputs": [],
   "source": [
    "criterion = nn.CrossEntropyLoss(weight=class_weights)\n",
    "optimizer = torch.optim.Adam(model.parameters(), lr=1e-4, betas=(0.9, 0.999))"
   ]
  },
  {
   "cell_type": "code",
   "execution_count": 198,
   "metadata": {
    "executionInfo": {
     "elapsed": 21,
     "status": "ok",
     "timestamp": 1737865051285,
     "user": {
      "displayName": "Валерий Полуянов",
      "userId": "18147379837449461859"
     },
     "user_tz": -180
    },
    "id": "HLJxEc5S92Hq"
   },
   "outputs": [],
   "source": [
    "def get_accuracy(predictions, targets):\n",
    "  classes = torch.argmax(predictions, dim=1)\n",
    "  correct = (classes == targets).float().sum()\n",
    "  return correct / len(targets)"
   ]
  },
  {
   "cell_type": "code",
   "execution_count": 199,
   "metadata": {
    "executionInfo": {
     "elapsed": 20,
     "status": "ok",
     "timestamp": 1737865051285,
     "user": {
      "displayName": "Валерий Полуянов",
      "userId": "18147379837449461859"
     },
     "user_tz": -180
    },
    "id": "be_wnBfyBgG3"
   },
   "outputs": [],
   "source": [
    "def train(model, train_loader, optimizer, criterion, device):\n",
    "  model.train()\n",
    "  run_loss = 0.\n",
    "  run_acc = 0.\n",
    "  for data in train_loader:\n",
    "    inputs, targets = data[0].to(device), data[1].to(device).long()\n",
    "    optimizer.zero_grad()\n",
    "    predictions = model(inputs)\n",
    "    loss = criterion(predictions, targets)\n",
    "    loss.backward()\n",
    "    optimizer.step()\n",
    "    run_loss += loss.item()\n",
    "    run_acc += get_accuracy(predictions, targets)\n",
    "\n",
    "  train_loss = run_loss / len(train_loader)\n",
    "  train_acc = run_acc / len(train_loader)\n",
    "  print(f'     Train avg loss = {train_loss:.4f},'\n",
    "        f'\\tavg acc = {train_acc:.4f}')\n",
    "  return train_loss, train_acc"
   ]
  },
  {
   "cell_type": "code",
   "execution_count": 200,
   "metadata": {
    "executionInfo": {
     "elapsed": 20,
     "status": "ok",
     "timestamp": 1737865051285,
     "user": {
      "displayName": "Валерий Полуянов",
      "userId": "18147379837449461859"
     },
     "user_tz": -180
    },
    "id": "02wU9QF7HyAP"
   },
   "outputs": [],
   "source": [
    "def validate(model, val_loader, optimizer, criterion, device):\n",
    "  model.eval()\n",
    "  run_loss = 0.\n",
    "  run_acc = 0.\n",
    "  with torch.no_grad():\n",
    "    for data in val_loader:\n",
    "      inputs, targets = data[0].to(device), data[1].to(device).long()\n",
    "      predictions = model(inputs)\n",
    "      loss = criterion(predictions, targets)\n",
    "      run_loss += loss.item()\n",
    "      run_acc += get_accuracy(predictions, targets)\n",
    "\n",
    "  val_loss = run_loss / len(val_loader)\n",
    "  val_acc = run_acc / len(val_loader)\n",
    "  print(f'Validation avg loss = {val_loss:.4f},'\n",
    "        f'\\tavg acc = {val_acc:.4f}')\n",
    "  return val_loss, val_acc"
   ]
  },
  {
   "cell_type": "code",
   "execution_count": 201,
   "metadata": {
    "executionInfo": {
     "elapsed": 20,
     "status": "ok",
     "timestamp": 1737865051285,
     "user": {
      "displayName": "Валерий Полуянов",
      "userId": "18147379837449461859"
     },
     "user_tz": -180
    },
    "id": "IHSfDmpPtLok"
   },
   "outputs": [],
   "source": [
    "class EarlyStopper:\n",
    "    def __init__(self, patience=1, min_delta=0):\n",
    "        self.patience = patience\n",
    "        self.min_delta = min_delta\n",
    "        self.counter = 0\n",
    "        self.min_validation_loss = float('inf')\n",
    "\n",
    "    def early_stop(self, validation_loss):\n",
    "        if validation_loss < self.min_validation_loss:\n",
    "            self.min_validation_loss = validation_loss\n",
    "            self.counter = 0\n",
    "        elif validation_loss > (self.min_validation_loss + self.min_delta):\n",
    "            self.counter += 1\n",
    "            if self.counter >= self.patience:\n",
    "                return True\n",
    "        return False"
   ]
  },
  {
   "cell_type": "code",
   "execution_count": 202,
   "metadata": {
    "colab": {
     "base_uri": "https://localhost:8080/"
    },
    "executionInfo": {
     "elapsed": 6631,
     "status": "ok",
     "timestamp": 1737865057896,
     "user": {
      "displayName": "Валерий Полуянов",
      "userId": "18147379837449461859"
     },
     "user_tz": -180
    },
    "id": "_yOWgIeYIk_t",
    "outputId": "debcdf83-267b-4067-efe9-1095c5024d0b"
   },
   "outputs": [
    {
     "name": "stdout",
     "output_type": "stream",
     "text": [
      "\n",
      "Epoch: 1.\n",
      "     Train avg loss = 0.8075,\tavg acc = 0.4814\n",
      "Validation avg loss = 0.7208,\tavg acc = 0.6007\n",
      "\n",
      "Epoch: 2.\n",
      "     Train avg loss = 0.7580,\tavg acc = 0.5196\n",
      "Validation avg loss = 0.6958,\tavg acc = 0.5903\n",
      "\n",
      "Epoch: 3.\n",
      "     Train avg loss = 0.7409,\tavg acc = 0.5591\n",
      "Validation avg loss = 0.6762,\tavg acc = 0.5486\n",
      "\n",
      "Epoch: 4.\n",
      "     Train avg loss = 0.7220,\tavg acc = 0.5723\n",
      "Validation avg loss = 0.6539,\tavg acc = 0.5538\n",
      "\n",
      "Epoch: 5.\n",
      "     Train avg loss = 0.7080,\tavg acc = 0.5910\n",
      "Validation avg loss = 0.6373,\tavg acc = 0.7604\n",
      "\n",
      "Epoch: 6.\n",
      "     Train avg loss = 0.7104,\tavg acc = 0.5939\n",
      "Validation avg loss = 0.6296,\tavg acc = 0.7812\n",
      "\n",
      "Epoch: 7.\n",
      "     Train avg loss = 0.6952,\tavg acc = 0.6050\n",
      "Validation avg loss = 0.6160,\tavg acc = 0.7760\n",
      "\n",
      "Epoch: 8.\n",
      "     Train avg loss = 0.6839,\tavg acc = 0.6523\n",
      "Validation avg loss = 0.6004,\tavg acc = 0.7865\n",
      "\n",
      "Epoch: 9.\n",
      "     Train avg loss = 0.6891,\tavg acc = 0.6431\n",
      "Validation avg loss = 0.5925,\tavg acc = 0.7969\n",
      "\n",
      "Epoch: 10.\n",
      "     Train avg loss = 0.6483,\tavg acc = 0.6859\n",
      "Validation avg loss = 0.5850,\tavg acc = 0.7865\n",
      "\n",
      "Epoch: 11.\n",
      "     Train avg loss = 0.6514,\tavg acc = 0.6730\n",
      "Validation avg loss = 0.5720,\tavg acc = 0.7969\n",
      "\n",
      "Epoch: 12.\n",
      "     Train avg loss = 0.6523,\tavg acc = 0.6804\n",
      "Validation avg loss = 0.5647,\tavg acc = 0.8073\n",
      "\n",
      "Epoch: 13.\n",
      "     Train avg loss = 0.6520,\tavg acc = 0.6854\n",
      "Validation avg loss = 0.5589,\tavg acc = 0.8073\n",
      "\n",
      "Epoch: 14.\n",
      "     Train avg loss = 0.6413,\tavg acc = 0.6940\n",
      "Validation avg loss = 0.5366,\tavg acc = 0.8177\n",
      "\n",
      "Epoch: 15.\n",
      "     Train avg loss = 0.6003,\tavg acc = 0.7220\n",
      "Validation avg loss = 0.5244,\tavg acc = 0.8281\n",
      "\n",
      "Epoch: 16.\n",
      "     Train avg loss = 0.6188,\tavg acc = 0.7077\n",
      "Validation avg loss = 0.5211,\tavg acc = 0.8229\n",
      "\n",
      "Epoch: 17.\n",
      "     Train avg loss = 0.6418,\tavg acc = 0.6671\n",
      "Validation avg loss = 0.5196,\tavg acc = 0.8333\n",
      "\n",
      "Epoch: 18.\n",
      "     Train avg loss = 0.6240,\tavg acc = 0.7218\n",
      "Validation avg loss = 0.5133,\tavg acc = 0.8333\n",
      "\n",
      "Epoch: 19.\n",
      "     Train avg loss = 0.6143,\tavg acc = 0.7062\n",
      "Validation avg loss = 0.5004,\tavg acc = 0.8281\n",
      "\n",
      "Epoch: 20.\n",
      "     Train avg loss = 0.5952,\tavg acc = 0.7158\n",
      "Validation avg loss = 0.4995,\tavg acc = 0.8281\n",
      "\n",
      "Epoch: 21.\n",
      "     Train avg loss = 0.5806,\tavg acc = 0.7324\n",
      "Validation avg loss = 0.4931,\tavg acc = 0.8385\n",
      "\n",
      "Epoch: 22.\n",
      "     Train avg loss = 0.5742,\tavg acc = 0.7383\n",
      "Validation avg loss = 0.4881,\tavg acc = 0.8438\n",
      "\n",
      "Epoch: 23.\n",
      "     Train avg loss = 0.5860,\tavg acc = 0.7334\n",
      "Validation avg loss = 0.4699,\tavg acc = 0.8333\n",
      "\n",
      "Epoch: 24.\n",
      "     Train avg loss = 0.5675,\tavg acc = 0.7257\n",
      "Validation avg loss = 0.4729,\tavg acc = 0.8438\n",
      "\n",
      "Epoch: 25.\n",
      "     Train avg loss = 0.5968,\tavg acc = 0.7091\n",
      "Validation avg loss = 0.4749,\tavg acc = 0.8385\n",
      "\n",
      "Epoch: 26.\n",
      "     Train avg loss = 0.5692,\tavg acc = 0.7416\n",
      "Validation avg loss = 0.4717,\tavg acc = 0.8177\n",
      "\n",
      "Epoch: 27.\n",
      "     Train avg loss = 0.5670,\tavg acc = 0.7400\n",
      "Validation avg loss = 0.4741,\tavg acc = 0.8125\n",
      "\n",
      "Epoch: 28.\n",
      "     Train avg loss = 0.5576,\tavg acc = 0.7655\n",
      "Validation avg loss = 0.4695,\tavg acc = 0.8438\n",
      "\n",
      "Epoch: 29.\n",
      "     Train avg loss = 0.5574,\tavg acc = 0.7418\n",
      "Validation avg loss = 0.4615,\tavg acc = 0.8229\n",
      "\n",
      "Epoch: 30.\n",
      "     Train avg loss = 0.5713,\tavg acc = 0.7379\n",
      "Validation avg loss = 0.4630,\tavg acc = 0.8177\n",
      "\n",
      "Epoch: 31.\n",
      "     Train avg loss = 0.5820,\tavg acc = 0.7158\n",
      "Validation avg loss = 0.4562,\tavg acc = 0.8229\n",
      "\n",
      "Epoch: 32.\n",
      "     Train avg loss = 0.5631,\tavg acc = 0.7199\n",
      "Validation avg loss = 0.4545,\tavg acc = 0.8073\n",
      "\n",
      "Epoch: 33.\n",
      "     Train avg loss = 0.5458,\tavg acc = 0.7450\n",
      "Validation avg loss = 0.4644,\tavg acc = 0.8229\n",
      "\n",
      "Epoch: 34.\n",
      "     Train avg loss = 0.5450,\tavg acc = 0.7561\n",
      "Validation avg loss = 0.4496,\tavg acc = 0.8281\n",
      "\n",
      "Epoch: 35.\n",
      "     Train avg loss = 0.5738,\tavg acc = 0.7253\n",
      "Validation avg loss = 0.4438,\tavg acc = 0.8281\n",
      "\n",
      "Epoch: 36.\n",
      "     Train avg loss = 0.5480,\tavg acc = 0.7442\n",
      "Validation avg loss = 0.4419,\tavg acc = 0.8229\n",
      "\n",
      "Epoch: 37.\n",
      "     Train avg loss = 0.5359,\tavg acc = 0.7466\n",
      "Validation avg loss = 0.4642,\tavg acc = 0.8177\n",
      "\n",
      "Epoch: 38.\n",
      "     Train avg loss = 0.5483,\tavg acc = 0.7353\n",
      "Validation avg loss = 0.4480,\tavg acc = 0.8177\n",
      "\n",
      "Epoch: 39.\n",
      "     Train avg loss = 0.5327,\tavg acc = 0.7519\n",
      "Validation avg loss = 0.4387,\tavg acc = 0.8177\n",
      "\n",
      "Epoch: 40.\n",
      "     Train avg loss = 0.5373,\tavg acc = 0.7586\n",
      "Validation avg loss = 0.4337,\tavg acc = 0.8281\n",
      "\n",
      "Epoch: 41.\n",
      "     Train avg loss = 0.5465,\tavg acc = 0.7436\n",
      "Validation avg loss = 0.4330,\tavg acc = 0.8229\n",
      "\n",
      "Epoch: 42.\n",
      "     Train avg loss = 0.5154,\tavg acc = 0.7554\n",
      "Validation avg loss = 0.4374,\tavg acc = 0.8229\n",
      "\n",
      "Epoch: 43.\n",
      "     Train avg loss = 0.5236,\tavg acc = 0.7554\n",
      "Validation avg loss = 0.4279,\tavg acc = 0.8281\n",
      "\n",
      "Epoch: 44.\n",
      "     Train avg loss = 0.5232,\tavg acc = 0.7512\n",
      "Validation avg loss = 0.4334,\tavg acc = 0.8125\n",
      "\n",
      "Epoch: 45.\n",
      "     Train avg loss = 0.5317,\tavg acc = 0.7496\n",
      "Validation avg loss = 0.4292,\tavg acc = 0.8281\n",
      "\n",
      "Epoch: 46.\n",
      "     Train avg loss = 0.4828,\tavg acc = 0.7736\n",
      "Validation avg loss = 0.4221,\tavg acc = 0.8281\n",
      "\n",
      "Epoch: 47.\n",
      "     Train avg loss = 0.5364,\tavg acc = 0.7368\n",
      "Validation avg loss = 0.4247,\tavg acc = 0.8281\n",
      "\n",
      "Epoch: 48.\n",
      "     Train avg loss = 0.5277,\tavg acc = 0.7549\n",
      "Validation avg loss = 0.4315,\tavg acc = 0.8229\n",
      "\n",
      "Epoch: 49.\n",
      "     Train avg loss = 0.5236,\tavg acc = 0.7578\n",
      "Validation avg loss = 0.4204,\tavg acc = 0.8229\n",
      "\n",
      "Epoch: 50.\n",
      "     Train avg loss = 0.4810,\tavg acc = 0.7795\n",
      "Validation avg loss = 0.4315,\tavg acc = 0.8177\n",
      "\n",
      "Epoch: 51.\n",
      "     Train avg loss = 0.5169,\tavg acc = 0.7542\n",
      "Validation avg loss = 0.4421,\tavg acc = 0.8125\n",
      "\n",
      "Epoch: 52.\n",
      "     Train avg loss = 0.5118,\tavg acc = 0.7574\n",
      "Validation avg loss = 0.4287,\tavg acc = 0.8229\n",
      "\n",
      "Epoch: 53.\n",
      "     Train avg loss = 0.4745,\tavg acc = 0.7800\n",
      "Validation avg loss = 0.4354,\tavg acc = 0.8281\n",
      "\n",
      "Epoch: 54.\n",
      "     Train avg loss = 0.5207,\tavg acc = 0.7277\n",
      "Validation avg loss = 0.4349,\tavg acc = 0.8281\n",
      "\n",
      "Epoch: 55.\n",
      "     Train avg loss = 0.4888,\tavg acc = 0.7659\n",
      "Validation avg loss = 0.4170,\tavg acc = 0.8177\n",
      "\n",
      "Epoch: 56.\n",
      "     Train avg loss = 0.4948,\tavg acc = 0.7611\n",
      "Validation avg loss = 0.4254,\tavg acc = 0.8281\n",
      "\n",
      "Epoch: 57.\n",
      "     Train avg loss = 0.4899,\tavg acc = 0.7719\n",
      "Validation avg loss = 0.4369,\tavg acc = 0.8281\n",
      "\n",
      "Epoch: 58.\n",
      "     Train avg loss = 0.4849,\tavg acc = 0.7643\n",
      "Validation avg loss = 0.4253,\tavg acc = 0.8229\n",
      "\n",
      "Epoch: 59.\n",
      "     Train avg loss = 0.5065,\tavg acc = 0.7490\n",
      "Validation avg loss = 0.4215,\tavg acc = 0.8177\n",
      "\n",
      "Epoch: 60.\n",
      "     Train avg loss = 0.5110,\tavg acc = 0.7450\n",
      "Validation avg loss = 0.4158,\tavg acc = 0.8333\n",
      "\n",
      "Epoch: 61.\n",
      "     Train avg loss = 0.4800,\tavg acc = 0.7704\n",
      "Validation avg loss = 0.4202,\tavg acc = 0.8385\n",
      "\n",
      "Epoch: 62.\n",
      "     Train avg loss = 0.4978,\tavg acc = 0.7413\n",
      "Validation avg loss = 0.4212,\tavg acc = 0.8229\n",
      "\n",
      "Epoch: 63.\n",
      "     Train avg loss = 0.4952,\tavg acc = 0.7648\n",
      "Validation avg loss = 0.4227,\tavg acc = 0.8281\n",
      "\n",
      "Epoch: 64.\n",
      "     Train avg loss = 0.4917,\tavg acc = 0.7687\n",
      "Validation avg loss = 0.4254,\tavg acc = 0.8177\n",
      "\n",
      "Epoch: 65.\n",
      "     Train avg loss = 0.4821,\tavg acc = 0.7464\n",
      "Validation avg loss = 0.4105,\tavg acc = 0.8281\n",
      "\n",
      "Epoch: 66.\n",
      "     Train avg loss = 0.4761,\tavg acc = 0.7618\n",
      "Validation avg loss = 0.4056,\tavg acc = 0.8333\n",
      "\n",
      "Epoch: 67.\n",
      "     Train avg loss = 0.5004,\tavg acc = 0.7383\n",
      "Validation avg loss = 0.4244,\tavg acc = 0.8177\n",
      "\n",
      "Epoch: 68.\n",
      "     Train avg loss = 0.4897,\tavg acc = 0.7604\n",
      "Validation avg loss = 0.4113,\tavg acc = 0.8333\n",
      "\n",
      "Epoch: 69.\n",
      "     Train avg loss = 0.4654,\tavg acc = 0.7784\n",
      "Validation avg loss = 0.4221,\tavg acc = 0.8333\n",
      "\n",
      "Epoch: 70.\n",
      "     Train avg loss = 0.4676,\tavg acc = 0.7762\n",
      "Validation avg loss = 0.4112,\tavg acc = 0.8333\n",
      "\n",
      "Epoch: 71.\n",
      "     Train avg loss = 0.4695,\tavg acc = 0.7744\n",
      "Validation avg loss = 0.4155,\tavg acc = 0.8333\n",
      "\n",
      "Epoch: 72.\n",
      "     Train avg loss = 0.4826,\tavg acc = 0.7533\n",
      "Validation avg loss = 0.4048,\tavg acc = 0.8385\n",
      "\n",
      "Epoch: 73.\n",
      "     Train avg loss = 0.4542,\tavg acc = 0.7818\n",
      "Validation avg loss = 0.4156,\tavg acc = 0.8385\n",
      "\n",
      "Epoch: 74.\n",
      "     Train avg loss = 0.4577,\tavg acc = 0.7607\n",
      "Validation avg loss = 0.4108,\tavg acc = 0.8281\n",
      "\n",
      "Epoch: 75.\n",
      "     Train avg loss = 0.4662,\tavg acc = 0.7699\n",
      "Validation avg loss = 0.4091,\tavg acc = 0.8385\n",
      "\n",
      "Epoch: 76.\n",
      "     Train avg loss = 0.4518,\tavg acc = 0.7698\n",
      "Validation avg loss = 0.4206,\tavg acc = 0.8385\n",
      "\n",
      "Epoch: 77.\n",
      "     Train avg loss = 0.4581,\tavg acc = 0.7679\n",
      "Validation avg loss = 0.4086,\tavg acc = 0.8385\n",
      "\n",
      "Epoch: 78.\n",
      "     Train avg loss = 0.4626,\tavg acc = 0.7662\n",
      "Validation avg loss = 0.4092,\tavg acc = 0.8333\n",
      "\n",
      "Epoch: 79.\n",
      "     Train avg loss = 0.4528,\tavg acc = 0.7793\n",
      "Validation avg loss = 0.4003,\tavg acc = 0.8281\n",
      "\n",
      "Epoch: 80.\n",
      "     Train avg loss = 0.4453,\tavg acc = 0.7781\n",
      "Validation avg loss = 0.4064,\tavg acc = 0.8333\n",
      "\n",
      "Epoch: 81.\n",
      "     Train avg loss = 0.4238,\tavg acc = 0.7868\n",
      "Validation avg loss = 0.4080,\tavg acc = 0.8385\n",
      "\n",
      "Epoch: 82.\n",
      "     Train avg loss = 0.4789,\tavg acc = 0.7503\n",
      "Validation avg loss = 0.4146,\tavg acc = 0.8385\n",
      "\n",
      "Epoch: 83.\n",
      "     Train avg loss = 0.4380,\tavg acc = 0.7778\n",
      "Validation avg loss = 0.4077,\tavg acc = 0.8333\n",
      "\n",
      "Epoch: 84.\n",
      "     Train avg loss = 0.4556,\tavg acc = 0.7708\n",
      "Validation avg loss = 0.4033,\tavg acc = 0.8385\n",
      "\n",
      "Epoch: 85.\n",
      "     Train avg loss = 0.4367,\tavg acc = 0.7683\n",
      "Validation avg loss = 0.4019,\tavg acc = 0.8281\n",
      "\n",
      "Epoch: 86.\n",
      "     Train avg loss = 0.4435,\tavg acc = 0.7530\n",
      "Validation avg loss = 0.3994,\tavg acc = 0.8333\n",
      "\n",
      "Epoch: 87.\n",
      "     Train avg loss = 0.4240,\tavg acc = 0.7692\n",
      "Validation avg loss = 0.3896,\tavg acc = 0.8333\n",
      "\n",
      "Epoch: 88.\n",
      "     Train avg loss = 0.4516,\tavg acc = 0.7512\n",
      "Validation avg loss = 0.3940,\tavg acc = 0.8333\n",
      "\n",
      "Epoch: 89.\n",
      "     Train avg loss = 0.4264,\tavg acc = 0.7830\n",
      "Validation avg loss = 0.4041,\tavg acc = 0.8385\n",
      "\n",
      "Epoch: 90.\n",
      "     Train avg loss = 0.4428,\tavg acc = 0.7784\n",
      "Validation avg loss = 0.4052,\tavg acc = 0.8229\n",
      "\n",
      "Epoch: 91.\n",
      "     Train avg loss = 0.4479,\tavg acc = 0.7597\n",
      "Validation avg loss = 0.3943,\tavg acc = 0.8333\n",
      "\n",
      "Epoch: 92.\n",
      "     Train avg loss = 0.4372,\tavg acc = 0.7700\n",
      "Validation avg loss = 0.4073,\tavg acc = 0.8333\n",
      "\n",
      "Epoch: 93.\n",
      "     Train avg loss = 0.4581,\tavg acc = 0.7599\n",
      "Validation avg loss = 0.4026,\tavg acc = 0.8281\n",
      "\n",
      "Epoch: 94.\n",
      "     Train avg loss = 0.4409,\tavg acc = 0.7514\n",
      "Validation avg loss = 0.4081,\tavg acc = 0.8333\n",
      "\n",
      "Epoch: 95.\n",
      "     Train avg loss = 0.4609,\tavg acc = 0.7555\n",
      "Validation avg loss = 0.4192,\tavg acc = 0.8281\n",
      "\n",
      "Epoch: 96.\n",
      "     Train avg loss = 0.4243,\tavg acc = 0.7710\n",
      "Validation avg loss = 0.3979,\tavg acc = 0.8385\n",
      "\n",
      "Epoch: 97.\n",
      "     Train avg loss = 0.4161,\tavg acc = 0.7872\n",
      "Validation avg loss = 0.3949,\tavg acc = 0.8281\n",
      "\n",
      "Epoch: 98.\n",
      "     Train avg loss = 0.4539,\tavg acc = 0.7635\n",
      "Validation avg loss = 0.4050,\tavg acc = 0.8333\n",
      "\n",
      "Epoch: 99.\n",
      "     Train avg loss = 0.4490,\tavg acc = 0.7615\n",
      "Validation avg loss = 0.4027,\tavg acc = 0.8281\n",
      "\n",
      "Epoch: 100.\n",
      "     Train avg loss = 0.4098,\tavg acc = 0.7712\n",
      "Validation avg loss = 0.4184,\tavg acc = 0.8281\n",
      "\n",
      "Best accuracy: tensor(0.8438)\n"
     ]
    }
   ],
   "source": [
    "epochs_num = 100\n",
    "best_acc = 0.\n",
    "val_losses, val_accs = [], []\n",
    "train_losses, train_accs = [], []\n",
    "\n",
    "early_stopper = EarlyStopper(patience=10, min_delta=0.15)\n",
    "for epoch in range(1, epochs_num + 1):\n",
    "  print('\\nEpoch:', epoch, end='.\\n')\n",
    "  train_loss, train_acc = train(model, train_loader, optimizer, criterion, device)\n",
    "  val_loss, val_acc = validate(model, val_loader, optimizer, criterion, device)\n",
    "\n",
    "  train_losses.append(train_loss)\n",
    "  train_accs.append(train_acc)\n",
    "  val_losses.append(val_loss)\n",
    "  val_accs.append(val_acc)\n",
    "\n",
    "  if val_acc > best_acc:\n",
    "    torch.save(model, 'best-model.pt')\n",
    "    best_acc = val_acc\n",
    "\n",
    "  if early_stopper.early_stop(val_losses[-1]):\n",
    "    break\n",
    "\n",
    "print('\\nBest accuracy:', best_acc)"
   ]
  },
  {
   "cell_type": "code",
   "execution_count": 203,
   "metadata": {
    "colab": {
     "base_uri": "https://localhost:8080/",
     "height": 370
    },
    "executionInfo": {
     "elapsed": 15,
     "status": "ok",
     "timestamp": 1737865057896,
     "user": {
      "displayName": "Валерий Полуянов",
      "userId": "18147379837449461859"
     },
     "user_tz": -180
    },
    "id": "KvcvtOL7ObB4",
    "outputId": "566090d4-68b1-4b3c-d079-6dcd308632e0"
   },
   "outputs": [
    {
     "data": {
      "image/png": "[encoded data removed]",
      "text/plain": [
       "<Figure size 1800x700 with 1 Axes>"
      ]
     },
     "metadata": {},
     "output_type": "display_data"
    }
   ],
   "source": [
    "plt.figure(figsize=(18, 7))\n",
    "plt.plot(train_losses,'-o')\n",
    "plt.plot(val_losses,'-o')\n",
    "plt.xlabel('Epoch')\n",
    "plt.ylabel('Loss')\n",
    "plt.legend(['Train','Validation'])\n",
    "plt.title('Train vs Validation loss')\n",
    "plt.show()"
   ]
  },
  {
   "cell_type": "code",
   "execution_count": 204,
   "metadata": {
    "colab": {
     "base_uri": "https://localhost:8080/",
     "height": 368
    },
    "executionInfo": {
     "elapsed": 601,
     "status": "ok",
     "timestamp": 1737865058483,
     "user": {
      "displayName": "Валерий Полуянов",
      "userId": "18147379837449461859"
     },
     "user_tz": -180
    },
    "id": "gFJGk50pZIqe",
    "outputId": "3e90c603-eedf-48eb-834f-4c2b444e6272"
   },
   "outputs": [
    {
     "data": {
      "image/png": "[encoded data removed]",
      "text/plain": [
       "<Figure size 1800x700 with 1 Axes>"
      ]
     },
     "metadata": {},
     "output_type": "display_data"
    }
   ],
   "source": [
    "plt.figure(figsize=(18, 7))\n",
    "plt.plot(train_accs,'-o')\n",
    "plt.plot(val_accs,'-o')\n",
    "plt.xlabel('Epoch')\n",
    "plt.ylabel('Accuracy')\n",
    "plt.legend(['Train','Validation'])\n",
    "plt.title('Train vs Validation accuracy')\n",
    "plt.show()"
   ]
  },
  {
   "cell_type": "code",
   "execution_count": 205,
   "metadata": {
    "colab": {
     "base_uri": "https://localhost:8080/"
    },
    "executionInfo": {
     "elapsed": 18,
     "status": "ok",
     "timestamp": 1737865058483,
     "user": {
      "displayName": "Валерий Полуянов",
      "userId": "18147379837449461859"
     },
     "user_tz": -180
    },
    "id": "J7_cb_ERqSiQ",
    "outputId": "4a5dd745-bc71-4f63-ff99-4dab401799cd"
   },
   "outputs": [
    {
     "name": "stdout",
     "output_type": "stream",
     "text": [
      "Model loaded.\n"
     ]
    }
   ],
   "source": [
    "best_model = torch.load('best-model.pt', weights_only=False)\n",
    "model.eval()\n",
    "print('Model loaded.')"
   ]
  },
  {
   "cell_type": "code",
   "execution_count": 206,
   "metadata": {
    "executionInfo": {
     "elapsed": 15,
     "status": "ok",
     "timestamp": 1737865058483,
     "user": {
      "displayName": "Валерий Полуянов",
      "userId": "18147379837449461859"
     },
     "user_tz": -180
    },
    "id": "1X5mIw6SrXkO"
   },
   "outputs": [],
   "source": [
    "preds = []\n",
    "trgts = []\n",
    "with torch.no_grad():\n",
    "  for data in test_loader:\n",
    "    inputs, targets = data[0].to(device), data[1].to(device)\n",
    "    outputs = model(inputs)\n",
    "    targets = targets.to('cpu').numpy()\n",
    "    pred = outputs.data.max(1, keepdim=True)[1].to('cpu').numpy()\n",
    "    trgts.append(targets)\n",
    "    preds.append(pred)"
   ]
  },
  {
   "cell_type": "code",
   "execution_count": 207,
   "metadata": {
    "executionInfo": {
     "elapsed": 15,
     "status": "ok",
     "timestamp": 1737865058483,
     "user": {
      "displayName": "Валерий Полуянов",
      "userId": "18147379837449461859"
     },
     "user_tz": -180
    },
    "id": "gCp5InOnrdKu"
   },
   "outputs": [],
   "source": [
    "targets = [x for sub in trgts for x in sub]\n",
    "predictions = [x[0] for sub in preds for x in sub]\n",
    "targets = np.array(targets)\n",
    "predictions = np.array(predictions)"
   ]
  },
  {
   "cell_type": "code",
   "execution_count": 208,
   "metadata": {
    "colab": {
     "base_uri": "https://localhost:8080/",
     "height": 455
    },
    "executionInfo": {
     "elapsed": 14,
     "status": "ok",
     "timestamp": 1737865058483,
     "user": {
      "displayName": "Валерий Полуянов",
      "userId": "18147379837449461859"
     },
     "user_tz": -180
    },
    "id": "VNYBrIohreOR",
    "outputId": "b881ac49-96a5-42e9-9ad4-1f26d6728d5f"
   },
   "outputs": [
    {
     "data": {
      "image/png": "[encoded data removed]",
      "text/plain": [
       "<Figure size 640x480 with 2 Axes>"
      ]
     },
     "metadata": {},
     "output_type": "display_data"
    }
   ],
   "source": [
    "cm = confusion_matrix(targets, predictions)\n",
    "ConfusionMatrixDisplay(cm).plot()\n",
    "plt.show()"
   ]
  },
  {
   "cell_type": "code",
   "execution_count": 209,
   "metadata": {
    "colab": {
     "base_uri": "https://localhost:8080/"
    },
    "executionInfo": {
     "elapsed": 14,
     "status": "ok",
     "timestamp": 1737865058483,
     "user": {
      "displayName": "Валерий Полуянов",
      "userId": "18147379837449461859"
     },
     "user_tz": -180
    },
    "id": "zvriQucUrffc",
    "outputId": "ce7c2e60-9529-491b-8434-0d2122ed4357"
   },
   "outputs": [
    {
     "data": {
      "text/plain": [
       "0.7938931297709924"
      ]
     },
     "execution_count": 209,
     "metadata": {},
     "output_type": "execute_result"
    }
   ],
   "source": [
    "f1_score(targets, predictions,average='micro')"
   ]
  }
 ],
 "metadata": {
  "colab": {
   "authorship_tag": "ABX9TyMMIo2HonP3Ki8vO2OxbQXv",
   "name": "",
   "version": ""
  },
  "kernelspec": {
   "display_name": "Python 3",
   "name": "python3"
  },
  "language_info": {
   "name": "python"
  }
 },
 "nbformat": 4,
 "nbformat_minor": 0
}
