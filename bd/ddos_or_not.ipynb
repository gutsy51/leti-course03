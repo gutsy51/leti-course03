{
 "cells": [
  {
   "metadata": {},
   "cell_type": "markdown",
   "source": [
    "# Traffic classification - DDoS or benign.\n",
    "\n",
    "Log research of IDS systems (Intrusion Detection System) for \n",
    "detection of abnormal traffic using machine learning.\n",
    "\n",
    "DDoS data extracted from different public IDS's and concatenated with benign (normal) traffic flows. \n",
    "\n",
    "Base datasets:\n",
    "1. CSE-CIC-IDS2018-AWS: https://www.unb.ca/cic/datasets/ids-2017.html\n",
    "2. CICIDS2017: https://www.unb.ca/cic/datasets/ids-2018.html\n",
    "3. CIC DoS dataset(2016): https://www.unb.ca/cic/datasets/dos-dataset.html"
   ],
   "id": "9d8db468aed3c55"
  },
  {
   "metadata": {},
   "cell_type": "markdown",
   "source": "## Download dataset. Import libraries.",
   "id": "18c25263b0f263ce"
  },
  {
   "metadata": {
    "jupyter": {
     "is_executing": true
    }
   },
   "cell_type": "code",
   "source": [
    "! pip install kaggle==1.5.3 -q\n",
    "! pip install urllib3 --force-upgrade -q"
   ],
   "id": "f4369e59ea98fc06",
   "outputs": [],
   "execution_count": null
  },
  {
   "metadata": {
    "ExecuteTime": {
     "end_time": "2025-03-16T10:08:45.537504Z",
     "start_time": "2025-03-16T10:08:45.230293Z"
    }
   },
   "cell_type": "code",
   "source": "! kaggle datasets files devendra416/ddos-datasets",
   "id": "e8fa801e84ddc86e",
   "outputs": [
    {
     "name": "stderr",
     "output_type": "stream",
     "text": [
      "Traceback (most recent call last):\n",
      "  File \u001B[35m\"<frozen runpy>\"\u001B[0m, line \u001B[35m198\u001B[0m, in \u001B[35m_run_module_as_main\u001B[0m\n",
      "  File \u001B[35m\"<frozen runpy>\"\u001B[0m, line \u001B[35m88\u001B[0m, in \u001B[35m_run_code\u001B[0m\n",
      "  File \u001B[35m\"C:\\Users\\bestc\\AppData\\Local\\Programs\\Python\\Python313\\Scripts\\kaggle.exe\\__main__.py\"\u001B[0m, line \u001B[35m4\u001B[0m, in \u001B[35m<module>\u001B[0m\n",
      "    from kaggle.cli import main\n",
      "  File \u001B[35m\"C:\\Users\\bestc\\AppData\\Local\\Programs\\Python\\Python313\\Lib\\site-packages\\kaggle\\__init__.py\"\u001B[0m, line \u001B[35m19\u001B[0m, in \u001B[35m<module>\u001B[0m\n",
      "    from kaggle.api.kaggle_api_extended import KaggleApi\n",
      "  File \u001B[35m\"C:\\Users\\bestc\\AppData\\Local\\Programs\\Python\\Python313\\Lib\\site-packages\\kaggle\\api\\__init__.py\"\u001B[0m, line \u001B[35m22\u001B[0m, in \u001B[35m<module>\u001B[0m\n",
      "    from kaggle.api.kaggle_api_extended import KaggleApi\n",
      "  File \u001B[35m\"C:\\Users\\bestc\\AppData\\Local\\Programs\\Python\\Python313\\Lib\\site-packages\\kaggle\\api\\kaggle_api_extended.py\"\u001B[0m, line \u001B[35m30\u001B[0m, in \u001B[35m<module>\u001B[0m\n",
      "    from ..api_client import ApiClient\n",
      "  File \u001B[35m\"C:\\Users\\bestc\\AppData\\Local\\Programs\\Python\\Python313\\Lib\\site-packages\\kaggle\\api_client.py\"\u001B[0m, line \u001B[35m42\u001B[0m, in \u001B[35m<module>\u001B[0m\n",
      "    from kaggle.configuration import Configuration\n",
      "  File \u001B[35m\"C:\\Users\\bestc\\AppData\\Local\\Programs\\Python\\Python313\\Lib\\site-packages\\kaggle\\configuration.py\"\u001B[0m, line \u001B[35m36\u001B[0m, in \u001B[35m<module>\u001B[0m\n",
      "    import urllib3\n",
      "  File \u001B[35m\"C:\\Users\\bestc\\AppData\\Local\\Programs\\Python\\Python313\\Lib\\site-packages\\urllib3\\__init__.py\"\u001B[0m, line \u001B[35m8\u001B[0m, in \u001B[35m<module>\u001B[0m\n",
      "    from .connectionpool import (\n",
      "    ...<3 lines>...\n",
      "    )\n",
      "  File \u001B[35m\"C:\\Users\\bestc\\AppData\\Local\\Programs\\Python\\Python313\\Lib\\site-packages\\urllib3\\connectionpool.py\"\u001B[0m, line \u001B[35m11\u001B[0m, in \u001B[35m<module>\u001B[0m\n",
      "    from .exceptions import (\n",
      "    ...<13 lines>...\n",
      "    )\n",
      "  File \u001B[35m\"C:\\Users\\bestc\\AppData\\Local\\Programs\\Python\\Python313\\Lib\\site-packages\\urllib3\\exceptions.py\"\u001B[0m, line \u001B[35m2\u001B[0m, in \u001B[35m<module>\u001B[0m\n",
      "    from .packages.six.moves.http_client import (\n",
      "        IncompleteRead as httplib_IncompleteRead\n",
      "    )\n",
      "\u001B[1;35mModuleNotFoundError\u001B[0m: \u001B[35mNo module named 'urllib3.packages.six.moves'\u001B[0m\n"
     ]
    }
   ],
   "execution_count": 2
  },
  {
   "metadata": {
    "ExecuteTime": {
     "end_time": "2025-03-16T10:08:45.658944Z",
     "start_time": "2025-03-16T10:08:45.538508Z"
    }
   },
   "cell_type": "code",
   "source": "! kaggle datasets download -d \"devendra416/ddos-datasets\" -f \"ddos_balanced/final_dataset.csv\" -p \"./content/\" --unzip",
   "id": "73907a7c5551dd1b",
   "outputs": [
    {
     "name": "stderr",
     "output_type": "stream",
     "text": [
      "Traceback (most recent call last):\n",
      "  File \u001B[35m\"<frozen runpy>\"\u001B[0m, line \u001B[35m198\u001B[0m, in \u001B[35m_run_module_as_main\u001B[0m\n",
      "  File \u001B[35m\"<frozen runpy>\"\u001B[0m, line \u001B[35m88\u001B[0m, in \u001B[35m_run_code\u001B[0m\n",
      "  File \u001B[35m\"C:\\Users\\bestc\\AppData\\Local\\Programs\\Python\\Python313\\Scripts\\kaggle.exe\\__main__.py\"\u001B[0m, line \u001B[35m4\u001B[0m, in \u001B[35m<module>\u001B[0m\n",
      "    from kaggle.cli import main\n",
      "  File \u001B[35m\"C:\\Users\\bestc\\AppData\\Local\\Programs\\Python\\Python313\\Lib\\site-packages\\kaggle\\__init__.py\"\u001B[0m, line \u001B[35m19\u001B[0m, in \u001B[35m<module>\u001B[0m\n",
      "    from kaggle.api.kaggle_api_extended import KaggleApi\n",
      "  File \u001B[35m\"C:\\Users\\bestc\\AppData\\Local\\Programs\\Python\\Python313\\Lib\\site-packages\\kaggle\\api\\__init__.py\"\u001B[0m, line \u001B[35m22\u001B[0m, in \u001B[35m<module>\u001B[0m\n",
      "    from kaggle.api.kaggle_api_extended import KaggleApi\n",
      "  File \u001B[35m\"C:\\Users\\bestc\\AppData\\Local\\Programs\\Python\\Python313\\Lib\\site-packages\\kaggle\\api\\kaggle_api_extended.py\"\u001B[0m, line \u001B[35m30\u001B[0m, in \u001B[35m<module>\u001B[0m\n",
      "    from ..api_client import ApiClient\n",
      "  File \u001B[35m\"C:\\Users\\bestc\\AppData\\Local\\Programs\\Python\\Python313\\Lib\\site-packages\\kaggle\\api_client.py\"\u001B[0m, line \u001B[35m42\u001B[0m, in \u001B[35m<module>\u001B[0m\n",
      "    from kaggle.configuration import Configuration\n",
      "  File \u001B[35m\"C:\\Users\\bestc\\AppData\\Local\\Programs\\Python\\Python313\\Lib\\site-packages\\kaggle\\configuration.py\"\u001B[0m, line \u001B[35m36\u001B[0m, in \u001B[35m<module>\u001B[0m\n",
      "    import urllib3\n",
      "  File \u001B[35m\"C:\\Users\\bestc\\AppData\\Local\\Programs\\Python\\Python313\\Lib\\site-packages\\urllib3\\__init__.py\"\u001B[0m, line \u001B[35m8\u001B[0m, in \u001B[35m<module>\u001B[0m\n",
      "    from .connectionpool import (\n",
      "    ...<3 lines>...\n",
      "    )\n",
      "  File \u001B[35m\"C:\\Users\\bestc\\AppData\\Local\\Programs\\Python\\Python313\\Lib\\site-packages\\urllib3\\connectionpool.py\"\u001B[0m, line \u001B[35m11\u001B[0m, in \u001B[35m<module>\u001B[0m\n",
      "    from .exceptions import (\n",
      "    ...<13 lines>...\n",
      "    )\n",
      "  File \u001B[35m\"C:\\Users\\bestc\\AppData\\Local\\Programs\\Python\\Python313\\Lib\\site-packages\\urllib3\\exceptions.py\"\u001B[0m, line \u001B[35m2\u001B[0m, in \u001B[35m<module>\u001B[0m\n",
      "    from .packages.six.moves.http_client import (\n",
      "        IncompleteRead as httplib_IncompleteRead\n",
      "    )\n",
      "\u001B[1;35mModuleNotFoundError\u001B[0m: \u001B[35mNo module named 'urllib3.packages.six.moves'\u001B[0m\n"
     ]
    }
   ],
   "execution_count": 3
  },
  {
   "metadata": {
    "ExecuteTime": {
     "end_time": "2025-03-16T10:08:45.663065Z",
     "start_time": "2025-03-16T10:08:45.658944Z"
    }
   },
   "cell_type": "code",
   "source": [
    "import zipfile\n",
    "import os\n",
    "\n",
    "CSV_PATH = './content/final_dataset.csv'\n",
    "\n",
    "if not os.path.exists(CSV_PATH):\n",
    "    print('Extracting dataset...')\n",
    "    with zipfile.ZipFile('./content/final_dataset.csv.zip', 'r') as zip_ref:\n",
    "        zip_ref.extractall('./content/')\n",
    "    print('Success.')\n",
    "else:\n",
    "    print('Dataset already extracted.')"
   ],
   "id": "fc0519b35e90667e",
   "outputs": [
    {
     "name": "stdout",
     "output_type": "stream",
     "text": [
      "Dataset already extracted.\n"
     ]
    }
   ],
   "execution_count": 4
  },
  {
   "metadata": {
    "ExecuteTime": {
     "end_time": "2025-03-16T10:08:45.694513Z",
     "start_time": "2025-03-16T10:08:45.663065Z"
    }
   },
   "cell_type": "code",
   "source": [
    "import numpy as np\n",
    "import pandas as pd\n",
    "\n",
    "import warnings\n",
    "\n",
    "\n",
    "warnings.filterwarnings('ignore')\n",
    "%matplotlib inline"
   ],
   "id": "3269ce19817597e9",
   "outputs": [],
   "execution_count": 5
  },
  {
   "metadata": {},
   "cell_type": "markdown",
   "source": "## Read dataset.",
   "id": "515dc40b953ae9c8"
  },
  {
   "metadata": {
    "ExecuteTime": {
     "end_time": "2025-03-16T10:08:45.699693Z",
     "start_time": "2025-03-16T10:08:45.694513Z"
    }
   },
   "cell_type": "code",
   "source": [
    "def get_dtypes():\n",
    "    \"\"\"Return optimal data types for each column.\"\"\"\n",
    "    return {\n",
    "        'Src IP': 'category',\n",
    "        'Src Port': 'uint16',\n",
    "        'Dst IP': 'category',\n",
    "        'Dst Port': 'uint16',\n",
    "        'Protocol': 'category',\n",
    "        'Flow Duration': 'uint32',\n",
    "        'Tot Fwd Pkts': 'uint32',\n",
    "        'Tot Bwd Pkts': 'uint32',\n",
    "        'TotLen Fwd Pkts': 'float32',\n",
    "        'TotLen Bwd Pkts': 'float32',\n",
    "        'Fwd Pkt Len Max': 'float32',\n",
    "        'Fwd Pkt Len Min': 'float32',\n",
    "        'Fwd Pkt Len Mean': 'float32',\n",
    "        'Fwd Pkt Len Std': 'float32',\n",
    "        'Bwd Pkt Len Max': 'float32',\n",
    "        'Bwd Pkt Len Min': 'float32',\n",
    "        'Bwd Pkt Len Mean': 'float32',\n",
    "        'Bwd Pkt Len Std': 'float32',\n",
    "        'Flow Byts/s': 'float32',\n",
    "        'Flow Pkts/s': 'float32',\n",
    "        'Flow IAT Mean': 'float32',\n",
    "        'Flow IAT Std': 'float32',\n",
    "        'Flow IAT Max': 'float32',\n",
    "        'Flow IAT Min': 'float32',\n",
    "        'Fwd IAT Tot': 'float32',\n",
    "        'Fwd IAT Mean': 'float32',\n",
    "        'Fwd IAT Std': 'float32',\n",
    "        'Fwd IAT Max': 'float32',\n",
    "        'Fwd IAT Min': 'float32',\n",
    "        'Bwd IAT Tot': 'float32',\n",
    "        'Bwd IAT Mean': 'float32',\n",
    "        'Bwd IAT Std': 'float32',\n",
    "        'Bwd IAT Max': 'float32',\n",
    "        'Bwd IAT Min': 'float32',\n",
    "        'Fwd PSH Flags': 'category',\n",
    "        'Bwd PSH Flags': 'category',\n",
    "        'Fwd URG Flags': 'category',\n",
    "        'Bwd URG Flags': 'category',\n",
    "        'Fwd Header Len': 'uint32',\n",
    "        'Bwd Header Len': 'uint32',\n",
    "        'Fwd Pkts/s': 'float32',\n",
    "        'Bwd Pkts/s': 'float32',\n",
    "        'Pkt Len Min': 'float32',\n",
    "        'Pkt Len Max': 'float32',\n",
    "        'Pkt Len Mean': 'float32',\n",
    "        'Pkt Len Std': 'float32',\n",
    "        'Pkt Len Var': 'float32',\n",
    "        'FIN Flag Cnt': 'category',\n",
    "        'SYN Flag Cnt': 'category',\n",
    "        'RST Flag Cnt': 'category',\n",
    "        'PSH Flag Cnt': 'category',\n",
    "        'ACK Flag Cnt': 'category',\n",
    "        'URG Flag Cnt': 'category',\n",
    "        'CWE Flag Count': 'category',\n",
    "        'ECE Flag Cnt': 'category',\n",
    "        'Down/Up Ratio': 'float32',\n",
    "        'Pkt Size Avg': 'float32',\n",
    "        'Fwd Seg Size Avg': 'float32',\n",
    "        'Bwd Seg Size Avg': 'float32',\n",
    "        'Fwd Byts/b Avg': 'uint32',\n",
    "        'Fwd Pkts/b Avg': 'uint32',\n",
    "        'Fwd Blk Rate Avg': 'uint32',\n",
    "        'Bwd Byts/b Avg': 'uint32',\n",
    "        'Bwd Pkts/b Avg': 'uint32',\n",
    "        'Bwd Blk Rate Avg': 'uint32',\n",
    "        'Subflow Fwd Pkts': 'uint32',\n",
    "        'Subflow Fwd Byts': 'uint32',\n",
    "        'Subflow Bwd Pkts': 'uint32',\n",
    "        'Subflow Bwd Byts': 'uint32',\n",
    "        'Init Fwd Win Byts': 'uint32',\n",
    "        'Init Bwd Win Byts': 'uint32',\n",
    "        'Fwd Act Data Pkts': 'uint32',\n",
    "        'Fwd Seg Size Min': 'uint32',\n",
    "        'Active Mean': 'float32',\n",
    "        'Active Std': 'float32',\n",
    "        'Active Max': 'float32',\n",
    "        'Active Min': 'float32',\n",
    "        'Idle Mean': 'float32',\n",
    "        'Idle Std': 'float32',\n",
    "        'Idle Max': 'float32',\n",
    "        'Idle Min': 'float32',\n",
    "        'Label': 'category'\n",
    "    }"
   ],
   "id": "c73602a45e26ad02",
   "outputs": [],
   "execution_count": 6
  },
  {
   "metadata": {
    "ExecuteTime": {
     "end_time": "2025-03-16T10:08:45.704028Z",
     "start_time": "2025-03-16T10:08:45.699693Z"
    }
   },
   "cell_type": "code",
   "source": [
    "def get_memory_usage(dataframe: pd.DataFrame):\n",
    "    \"\"\"Return DataFrame memory usage in MB\"\"\"\n",
    "    return round(dataframe.memory_usage().sum() / 1024**2, 2)"
   ],
   "id": "c5f7cc73773b2fef",
   "outputs": [],
   "execution_count": 7
  },
  {
   "metadata": {
    "ExecuteTime": {
     "end_time": "2025-03-16T10:08:45.707639Z",
     "start_time": "2025-03-16T10:08:45.704028Z"
    }
   },
   "cell_type": "code",
   "source": [
    "def get_df_shape_and_memory_str(dataframe: pd.DataFrame):\n",
    "    \"\"\"Return DataFrame shape and memory usage formatted string.\"\"\"\n",
    "    mem = round(dataframe.memory_usage().sum() / 1024**2, 2)\n",
    "    return f'\\t Shape: {dataframe.shape}\\n\\tMemory: {mem} MB'"
   ],
   "id": "39b976532b790689",
   "outputs": [],
   "execution_count": 8
  },
  {
   "metadata": {
    "ExecuteTime": {
     "end_time": "2025-03-16T10:08:49.619721Z",
     "start_time": "2025-03-16T10:08:45.708645Z"
    }
   },
   "cell_type": "code",
   "source": [
    "PARQUET_PATH = CSV_PATH[:-4] + '.parquet'\n",
    "FORCE_REWRITE = False  # Set True to rewrite parquet file.\n",
    "\n",
    "# Read dataset if parquet file does not exist.\n",
    "if FORCE_REWRITE or not os.path.exists(PARQUET_PATH):\n",
    "    CHUNK_SIZE = 100_000  # Read {CHUNK_SIZE} rows at a time.\n",
    "    FRAC = 0.25  # Use 25% of dataset (about 1.5GB of RAM).\n",
    "    \n",
    "    chunks = []\n",
    "    dtypes = get_dtypes()\n",
    "    print('Reading CSV...')\n",
    "    for i, chunk in enumerate(pd.read_csv(\n",
    "            CSV_PATH,\n",
    "            dtype=dtypes,\n",
    "            engine='c',\n",
    "            low_memory=True,\n",
    "            chunksize=CHUNK_SIZE\n",
    "    )):\n",
    "        chunk_ = chunk.sample(frac=FRAC, random_state=0)\n",
    "        chunks.append(chunk_)\n",
    "        print(f'Read: {int(i*CHUNK_SIZE / 1e3)}k\\tSave: {int(i*CHUNK_SIZE*FRAC / 1e3)}k', end='\\r')\n",
    "    \n",
    "    print('\\nRead.\\nConcatenating...')       \n",
    "    df = pd.concat(chunks)\n",
    "    del dtypes\n",
    "    del chunks\n",
    "    \n",
    "    print(f'Concatenated.\\n{get_df_shape_and_memory_str(df)}\\nConverting into parquet...')\n",
    "    df.to_parquet(PARQUET_PATH)\n",
    "    print(f'Converted.\\nDF saved into `{PARQUET_PATH}`.')\n",
    "\n",
    "print(f'\\nReading from parquet...')\n",
    "df = pd.read_parquet(PARQUET_PATH)\n",
    "print(f'Read.\\n{get_df_shape_and_memory_str(df)}')"
   ],
   "id": "4b90156c64886a83",
   "outputs": [
    {
     "name": "stdout",
     "output_type": "stream",
     "text": [
      "\n",
      "Reading from parquet...\n",
      "Read.\n",
      "\t Shape: (3198657, 85)\n",
      "\tMemory: 1238.49 MB\n"
     ]
    }
   ],
   "execution_count": 9
  },
  {
   "metadata": {
    "ExecuteTime": {
     "end_time": "2025-03-16T10:08:49.749079Z",
     "start_time": "2025-03-16T10:08:49.620736Z"
    }
   },
   "cell_type": "code",
   "source": "df.sample(5, random_state=0)",
   "id": "6e1b53e556bbb617",
   "outputs": [
    {
     "data": {
      "text/plain": [
       "          Unnamed: 0                                 Flow ID         Src IP  \\\n",
       "12388875     6426326  172.31.65.68-62.146.70.120-445-62494-6  62.146.70.120   \n",
       "3129205       278540   172.31.69.25-18.219.193.20-80-59464-6  18.219.193.20   \n",
       "2502067       227593     172.31.69.25-18.219.5.43-80-54451-6    18.219.5.43   \n",
       "6307514      3456849   172.31.69.25-18.219.193.20-80-34166-6   172.31.69.25   \n",
       "598118        491559      172.31.69.28-18.219.9.1-80-55063-6     18.219.9.1   \n",
       "\n",
       "          Src Port         Dst IP  Dst Port Protocol               Timestamp  \\\n",
       "12388875     62494   172.31.65.68       445        6     20/02/2018 11:34:15   \n",
       "3129205      59464   172.31.69.25        80        6  16/02/2018 11:16:36 PM   \n",
       "2502067      54451   172.31.69.25        80        6     20/02/2018 10:21:27   \n",
       "6307514         80  18.219.193.20     34166        6  16/02/2018 11:27:06 PM   \n",
       "598118       55063   172.31.69.28        80        6  21/02/2018 11:54:49 PM   \n",
       "\n",
       "          Flow Duration  Tot Fwd Pkts  ...  Fwd Seg Size Min  Active Mean  \\\n",
       "12388875         104135             3  ...                20          0.0   \n",
       "3129205           25067             1  ...                 0          0.0   \n",
       "2502067         9990720             2  ...                20          0.0   \n",
       "6307514         4367247             4  ...                 0          0.0   \n",
       "598118              593             1  ...                 0          0.0   \n",
       "\n",
       "          Active Std  Active Max  Active Min  Idle Mean  Idle Std   Idle Max  \\\n",
       "12388875         0.0         0.0         0.0        0.0       0.0        0.0   \n",
       "3129205          0.0         0.0         0.0        0.0       0.0        0.0   \n",
       "2502067          0.0         0.0         0.0  9990720.0       0.0  9990720.0   \n",
       "6307514          0.0         0.0         0.0        0.0       0.0        0.0   \n",
       "598118           0.0         0.0         0.0        0.0       0.0        0.0   \n",
       "\n",
       "           Idle Min   Label  \n",
       "12388875        0.0  Benign  \n",
       "3129205         0.0    ddos  \n",
       "2502067   9990720.0    ddos  \n",
       "6307514         0.0    ddos  \n",
       "598118          0.0    ddos  \n",
       "\n",
       "[5 rows x 85 columns]"
      ],
      "text/html": [
       "<div>\n",
       "<style scoped>\n",
       "    .dataframe tbody tr th:only-of-type {\n",
       "        vertical-align: middle;\n",
       "    }\n",
       "\n",
       "    .dataframe tbody tr th {\n",
       "        vertical-align: top;\n",
       "    }\n",
       "\n",
       "    .dataframe thead th {\n",
       "        text-align: right;\n",
       "    }\n",
       "</style>\n",
       "<table border=\"1\" class=\"dataframe\">\n",
       "  <thead>\n",
       "    <tr style=\"text-align: right;\">\n",
       "      <th></th>\n",
       "      <th>Unnamed: 0</th>\n",
       "      <th>Flow ID</th>\n",
       "      <th>Src IP</th>\n",
       "      <th>Src Port</th>\n",
       "      <th>Dst IP</th>\n",
       "      <th>Dst Port</th>\n",
       "      <th>Protocol</th>\n",
       "      <th>Timestamp</th>\n",
       "      <th>Flow Duration</th>\n",
       "      <th>Tot Fwd Pkts</th>\n",
       "      <th>...</th>\n",
       "      <th>Fwd Seg Size Min</th>\n",
       "      <th>Active Mean</th>\n",
       "      <th>Active Std</th>\n",
       "      <th>Active Max</th>\n",
       "      <th>Active Min</th>\n",
       "      <th>Idle Mean</th>\n",
       "      <th>Idle Std</th>\n",
       "      <th>Idle Max</th>\n",
       "      <th>Idle Min</th>\n",
       "      <th>Label</th>\n",
       "    </tr>\n",
       "  </thead>\n",
       "  <tbody>\n",
       "    <tr>\n",
       "      <th>12388875</th>\n",
       "      <td>6426326</td>\n",
       "      <td>172.31.65.68-62.146.70.120-445-62494-6</td>\n",
       "      <td>62.146.70.120</td>\n",
       "      <td>62494</td>\n",
       "      <td>172.31.65.68</td>\n",
       "      <td>445</td>\n",
       "      <td>6</td>\n",
       "      <td>20/02/2018 11:34:15</td>\n",
       "      <td>104135</td>\n",
       "      <td>3</td>\n",
       "      <td>...</td>\n",
       "      <td>20</td>\n",
       "      <td>0.0</td>\n",
       "      <td>0.0</td>\n",
       "      <td>0.0</td>\n",
       "      <td>0.0</td>\n",
       "      <td>0.0</td>\n",
       "      <td>0.0</td>\n",
       "      <td>0.0</td>\n",
       "      <td>0.0</td>\n",
       "      <td>Benign</td>\n",
       "    </tr>\n",
       "    <tr>\n",
       "      <th>3129205</th>\n",
       "      <td>278540</td>\n",
       "      <td>172.31.69.25-18.219.193.20-80-59464-6</td>\n",
       "      <td>18.219.193.20</td>\n",
       "      <td>59464</td>\n",
       "      <td>172.31.69.25</td>\n",
       "      <td>80</td>\n",
       "      <td>6</td>\n",
       "      <td>16/02/2018 11:16:36 PM</td>\n",
       "      <td>25067</td>\n",
       "      <td>1</td>\n",
       "      <td>...</td>\n",
       "      <td>0</td>\n",
       "      <td>0.0</td>\n",
       "      <td>0.0</td>\n",
       "      <td>0.0</td>\n",
       "      <td>0.0</td>\n",
       "      <td>0.0</td>\n",
       "      <td>0.0</td>\n",
       "      <td>0.0</td>\n",
       "      <td>0.0</td>\n",
       "      <td>ddos</td>\n",
       "    </tr>\n",
       "    <tr>\n",
       "      <th>2502067</th>\n",
       "      <td>227593</td>\n",
       "      <td>172.31.69.25-18.219.5.43-80-54451-6</td>\n",
       "      <td>18.219.5.43</td>\n",
       "      <td>54451</td>\n",
       "      <td>172.31.69.25</td>\n",
       "      <td>80</td>\n",
       "      <td>6</td>\n",
       "      <td>20/02/2018 10:21:27</td>\n",
       "      <td>9990720</td>\n",
       "      <td>2</td>\n",
       "      <td>...</td>\n",
       "      <td>20</td>\n",
       "      <td>0.0</td>\n",
       "      <td>0.0</td>\n",
       "      <td>0.0</td>\n",
       "      <td>0.0</td>\n",
       "      <td>9990720.0</td>\n",
       "      <td>0.0</td>\n",
       "      <td>9990720.0</td>\n",
       "      <td>9990720.0</td>\n",
       "      <td>ddos</td>\n",
       "    </tr>\n",
       "    <tr>\n",
       "      <th>6307514</th>\n",
       "      <td>3456849</td>\n",
       "      <td>172.31.69.25-18.219.193.20-80-34166-6</td>\n",
       "      <td>172.31.69.25</td>\n",
       "      <td>80</td>\n",
       "      <td>18.219.193.20</td>\n",
       "      <td>34166</td>\n",
       "      <td>6</td>\n",
       "      <td>16/02/2018 11:27:06 PM</td>\n",
       "      <td>4367247</td>\n",
       "      <td>4</td>\n",
       "      <td>...</td>\n",
       "      <td>0</td>\n",
       "      <td>0.0</td>\n",
       "      <td>0.0</td>\n",
       "      <td>0.0</td>\n",
       "      <td>0.0</td>\n",
       "      <td>0.0</td>\n",
       "      <td>0.0</td>\n",
       "      <td>0.0</td>\n",
       "      <td>0.0</td>\n",
       "      <td>ddos</td>\n",
       "    </tr>\n",
       "    <tr>\n",
       "      <th>598118</th>\n",
       "      <td>491559</td>\n",
       "      <td>172.31.69.28-18.219.9.1-80-55063-6</td>\n",
       "      <td>18.219.9.1</td>\n",
       "      <td>55063</td>\n",
       "      <td>172.31.69.28</td>\n",
       "      <td>80</td>\n",
       "      <td>6</td>\n",
       "      <td>21/02/2018 11:54:49 PM</td>\n",
       "      <td>593</td>\n",
       "      <td>1</td>\n",
       "      <td>...</td>\n",
       "      <td>0</td>\n",
       "      <td>0.0</td>\n",
       "      <td>0.0</td>\n",
       "      <td>0.0</td>\n",
       "      <td>0.0</td>\n",
       "      <td>0.0</td>\n",
       "      <td>0.0</td>\n",
       "      <td>0.0</td>\n",
       "      <td>0.0</td>\n",
       "      <td>ddos</td>\n",
       "    </tr>\n",
       "  </tbody>\n",
       "</table>\n",
       "<p>5 rows × 85 columns</p>\n",
       "</div>"
      ]
     },
     "execution_count": 10,
     "metadata": {},
     "output_type": "execute_result"
    }
   ],
   "execution_count": 10
  },
  {
   "metadata": {},
   "cell_type": "markdown",
   "source": "## Preprocessing",
   "id": "44c343203453d886"
  },
  {
   "metadata": {
    "jupyter": {
     "is_executing": true
    },
    "ExecuteTime": {
     "start_time": "2025-03-16T10:08:49.750084Z"
    }
   },
   "cell_type": "code",
   "source": "df.describe(include='all').transpose()",
   "id": "3c6a3eb48f1f4f72",
   "outputs": [],
   "execution_count": null
  },
  {
   "metadata": {
    "jupyter": {
     "is_executing": true
    }
   },
   "cell_type": "code",
   "source": [
    "# There's some inf values in the columns which can't be true.\n",
    "df.replace({'Flow Byts/s': np.inf, 'Flow Pkts/s': np.inf}, np.nan, inplace=True)"
   ],
   "id": "acc266ce1427e623",
   "outputs": [],
   "execution_count": null
  },
  {
   "metadata": {
    "jupyter": {
     "is_executing": true
    }
   },
   "cell_type": "code",
   "source": [
    "# Look for NaN values.\n",
    "missing = df.columns[df.isna().any()]\n",
    "print(f'Missing values:')\n",
    "for col in missing:\n",
    "    print(f'\\t{col}: {df[col].isna().sum()} | {df[col].isna().sum() / df.shape[0]:.2%} of {df.shape[0]} rows')"
   ],
   "id": "b9769fb5948102eb",
   "outputs": [],
   "execution_count": null
  },
  {
   "metadata": {},
   "cell_type": "markdown",
   "source": [
    "### Clean data\n",
    "\n",
    "Properties that can be deleted:\n",
    "- `Unnamed: 0` & `Flow ID` - Just an IDs;\n",
    "- `Bwd URG Flags` & `Fwd URG Flags` - Only one unique value;\n",
    "- Some of the cols with 2 unique values as they have over 90% of one value dominance:\n",
    "`[CWE Flag Count,\n",
    "  URG Flag Cnt,\n",
    "  ACK Flag Cnt,\n",
    "  PSH Flag Cnt,\n",
    "  RST Flag Cnt,\n",
    "  SYN Flag Cnt,\n",
    "  FIN Flag Cnt,\n",
    "  Bwd PSH Flags,\n",
    "  Fwd PSH Flags,\n",
    "  ECE Flag Cnt]`;\n",
    "\n",
    "And some (less than 0.5%) of the rows with NaN values."
   ],
   "id": "f46c981e2b7c6842"
  },
  {
   "metadata": {
    "jupyter": {
     "is_executing": true
    }
   },
   "cell_type": "code",
   "source": [
    "# Look for dominance % of one value in binary columns.\n",
    "cols_with_2_unique = [col for col in df.columns if df[col].nunique() == 2 and col != 'Label']\n",
    "col_val_dominance = [\n",
    "    [col, df[col].value_counts(normalize=True).idxmax(), df[col].value_counts(normalize=True).max()]\n",
    "    for col in cols_with_2_unique\n",
    "]\n",
    "\n",
    "for col, value, dominance in sorted(col_val_dominance, reverse=True, key=lambda x: x[2]):\n",
    "    print(f'{col}: {value} \\t| {dominance:.2%} dominance')"
   ],
   "id": "f7883c1dc68df0e1",
   "outputs": [],
   "execution_count": null
  },
  {
   "metadata": {
    "jupyter": {
     "is_executing": true
    }
   },
   "cell_type": "code",
   "source": [
    "# Proceed clean-up.\n",
    "\n",
    "print(f'Before:\\n{get_df_shape_and_memory_str(df)}\\nCleaning...')\n",
    "\n",
    "# Delete useless columns.\n",
    "cols_to_drop = ['Unnamed: 0', 'Flow ID', 'Bwd URG Flags', 'Fwd URG Flags']\n",
    "df = df.drop(columns=cols_to_drop)\n",
    "print(f'Dropped: {cols_to_drop}')\n",
    "\n",
    "# Delete columns with {DOM_THRESHOLD} dominance of one value.\n",
    "DOM_THRESHOLD = 0.9\n",
    "cols_to_drop = [col for col, _, dom in col_val_dominance if dom > DOM_THRESHOLD]\n",
    "df = df.drop(columns=cols_to_drop)\n",
    "print(f'Dropped: {cols_to_drop}')\n",
    "\n",
    "# Delete rows with missing values.\n",
    "missing_count = df.isna().any(axis=1).sum()\n",
    "df = pd.DataFrame(df.dropna(), columns=df.columns)\n",
    "print(f'Dropped: {missing_count} rows with missing values')\n",
    "\n",
    "del DOM_THRESHOLD, col_val_dominance\n",
    "del cols_to_drop\n",
    "del missing, missing_count\n",
    "\n",
    "print(f'Cleaned-up.\\nAfter:\\n{get_df_shape_and_memory_str(df)}')"
   ],
   "id": "b24321e539097acb",
   "outputs": [],
   "execution_count": null
  }
 ],
 "metadata": {
  "kernelspec": {
   "display_name": "Python 3",
   "language": "python",
   "name": "python3"
  },
  "language_info": {
   "codemirror_mode": {
    "name": "ipython",
    "version": 2
   },
   "file_extension": ".py",
   "mimetype": "text/x-python",
   "name": "python",
   "nbconvert_exporter": "python",
   "pygments_lexer": "ipython2",
   "version": "2.7.6"
  }
 },
 "nbformat": 4,
 "nbformat_minor": 5
}
