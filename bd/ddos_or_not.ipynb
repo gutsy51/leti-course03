{
 "cells": [
  {
   "metadata": {},
   "cell_type": "markdown",
   "source": [
    "# Traffic classification - DDoS or benign.\n",
    "\n",
    "Log research of IDS systems (Intrusion Detection System) for \n",
    "detection of abnormal traffic using machine learning.\n",
    "\n",
    "DDoS data extracted from different public IDS's and concatenated with benign (normal) traffic flows. \n",
    "\n",
    "Base datasets:\n",
    "1. CSE-CIC-IDS2018-AWS: https://www.unb.ca/cic/datasets/ids-2017.html\n",
    "2. CICIDS2017: https://www.unb.ca/cic/datasets/ids-2018.html\n",
    "3. CIC DoS dataset(2016): https://www.unb.ca/cic/datasets/dos-dataset.html"
   ],
   "id": "9d8db468aed3c55"
  },
  {
   "metadata": {},
   "cell_type": "markdown",
   "source": "## Download dataset. Import libraries.",
   "id": "18c25263b0f263ce"
  },
  {
   "metadata": {
    "ExecuteTime": {
     "end_time": "2025-03-12T04:25:57.909507Z",
     "start_time": "2025-03-12T04:25:56.059376Z"
    }
   },
   "cell_type": "code",
   "source": "! pip install kaggle -q",
   "id": "f4369e59ea98fc06",
   "outputs": [],
   "execution_count": 12
  },
  {
   "metadata": {
    "ExecuteTime": {
     "end_time": "2025-03-12T04:26:00.762351Z",
     "start_time": "2025-03-12T04:25:57.909507Z"
    }
   },
   "cell_type": "code",
   "source": "! kaggle datasets download -d devendra416/ddos-datasets -f ddos_balanced/final_dataset.csv -p ./content/ --unzip",
   "id": "73907a7c5551dd1b",
   "outputs": [
    {
     "name": "stdout",
     "output_type": "stream",
     "text": [
      "Dataset URL: https://www.kaggle.com/datasets/devendra416/ddos-datasets\n",
      "License(s): other\n",
      "final_dataset.csv.zip: Skipping, found more recently modified local copy (use --force to force download)\n"
     ]
    }
   ],
   "execution_count": 13
  },
  {
   "metadata": {
    "ExecuteTime": {
     "end_time": "2025-03-12T04:26:00.766015Z",
     "start_time": "2025-03-12T04:26:00.762351Z"
    }
   },
   "cell_type": "code",
   "source": [
    "import zipfile\n",
    "import os\n",
    "\n",
    "if not os.path.exists('./content/final_dataset.csv'):\n",
    "    print('Extracting dataset...')\n",
    "    with zipfile.ZipFile('./content/final_dataset.csv.zip', 'r') as zip_ref:\n",
    "        zip_ref.extractall('./content/')\n",
    "    print('Success.')\n",
    "else:\n",
    "    print('Dataset already extracted.')"
   ],
   "id": "fc0519b35e90667e",
   "outputs": [
    {
     "name": "stdout",
     "output_type": "stream",
     "text": [
      "Dataset already extracted.\n"
     ]
    }
   ],
   "execution_count": 14
  },
  {
   "metadata": {
    "ExecuteTime": {
     "end_time": "2025-03-12T04:26:00.771945Z",
     "start_time": "2025-03-12T04:26:00.767032Z"
    }
   },
   "cell_type": "code",
   "source": "# Libraries.\n",
   "id": "3269ce19817597e9",
   "outputs": [],
   "execution_count": 15
  }
 ],
 "metadata": {
  "kernelspec": {
   "display_name": "Python 3",
   "language": "python",
   "name": "python3"
  },
  "language_info": {
   "codemirror_mode": {
    "name": "ipython",
    "version": 2
   },
   "file_extension": ".py",
   "mimetype": "text/x-python",
   "name": "python",
   "nbconvert_exporter": "python",
   "pygments_lexer": "ipython2",
   "version": "2.7.6"
  }
 },
 "nbformat": 4,
 "nbformat_minor": 5
}
