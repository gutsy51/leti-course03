{
 "cells": [
  {
   "metadata": {},
   "cell_type": "markdown",
   "source": [
    "# Traffic classification - DDoS or benign.\n",
    "\n",
    "Log research of IDS systems (Intrusion Detection System) for \n",
    "detection of abnormal traffic using machine learning.\n",
    "\n",
    "DDoS data extracted from different public IDS's and concatenated with benign (normal) traffic flows. \n",
    "\n",
    "Base datasets:\n",
    "1. `CSE-CIC-IDS2018-AWS`: https://www.unb.ca/cic/datasets/ids-2017.html\n",
    "2. `CICIDS2017`: https://www.unb.ca/cic/datasets/ids-2018.html\n",
    "3. `CIC DoS dataset(2016)`: https://www.unb.ca/cic/datasets/dos-dataset.html"
   ],
   "id": "9d8db468aed3c55"
  },
  {
   "metadata": {},
   "cell_type": "markdown",
   "source": "## Download dataset. Import libraries.",
   "id": "18c25263b0f263ce"
  },
  {
   "metadata": {
    "ExecuteTime": {
     "end_time": "2025-04-17T16:19:48.535315Z",
     "start_time": "2025-04-17T16:19:45.072717Z"
    }
   },
   "cell_type": "code",
   "source": [
    "# Use 1.6.17, because in the recently released v1.7.4 appeared an error in the `download` method.\n",
    "! pip install kaggle==1.6.17 -q"
   ],
   "id": "f4369e59ea98fc06",
   "outputs": [],
   "execution_count": 1
  },
  {
   "metadata": {
    "ExecuteTime": {
     "end_time": "2025-04-17T16:19:49.934875Z",
     "start_time": "2025-04-17T16:19:48.549825Z"
    }
   },
   "cell_type": "code",
   "source": "! kaggle datasets files devendra416/ddos-datasets",
   "id": "e8fa801e84ddc86e",
   "outputs": [
    {
     "name": "stdout",
     "output_type": "stream",
     "text": [
      "Warning: Looks like you're using an outdated API Version, please consider updating (server 1.7.4.2 / client 1.6.17)\n",
      "name                                         size  creationDate         \n",
      "-------------------------------------------  ----  -------------------  \n",
      "ddos_balanced/final_dataset.csv               6GB  2019-04-30 13:57:07  \n",
      "ddos_imbalanced/unbalaced_20_80_dataset.csv   4GB  2019-04-30 13:58:15  \n"
     ]
    }
   ],
   "execution_count": 2
  },
  {
   "metadata": {
    "ExecuteTime": {
     "end_time": "2025-04-17T16:19:52.279315Z",
     "start_time": "2025-04-17T16:19:50.400643Z"
    }
   },
   "cell_type": "code",
   "source": "! kaggle datasets download -d \"devendra416/ddos-datasets\" -f \"ddos_balanced/final_dataset.csv\" -p \"./content/\" -q",
   "id": "73907a7c5551dd1b",
   "outputs": [
    {
     "name": "stdout",
     "output_type": "stream",
     "text": [
      "Warning: Looks like you're using an outdated API Version, please consider updating (server 1.7.4.2 / client 1.6.17)\n",
      "Dataset URL: https://www.kaggle.com/datasets/devendra416/ddos-datasets\n",
      "License(s): other\n"
     ]
    }
   ],
   "execution_count": 3
  },
  {
   "metadata": {
    "ExecuteTime": {
     "end_time": "2025-04-17T16:19:52.291298Z",
     "start_time": "2025-04-17T16:19:52.285671Z"
    }
   },
   "cell_type": "code",
   "source": [
    "import zipfile\n",
    "import os\n",
    "\n",
    "CSV_PATH = './content/final_dataset.csv'\n",
    "\n",
    "if not os.path.exists(CSV_PATH):\n",
    "    print('Extracting dataset...')\n",
    "    with zipfile.ZipFile('./content/final_dataset.csv.zip', 'r') as zip_ref:\n",
    "        zip_ref.extractall('./content/')\n",
    "    print('Success.')\n",
    "else:\n",
    "    print('Dataset already extracted.')"
   ],
   "id": "fc0519b35e90667e",
   "outputs": [
    {
     "name": "stdout",
     "output_type": "stream",
     "text": [
      "Dataset already extracted.\n"
     ]
    }
   ],
   "execution_count": 4
  },
  {
   "metadata": {
    "ExecuteTime": {
     "end_time": "2025-04-17T16:19:52.411855Z",
     "start_time": "2025-04-17T16:19:52.374626Z"
    }
   },
   "cell_type": "code",
   "source": [
    "import numpy as np\n",
    "import pandas as pd\n",
    "\n",
    "from matplotlib import pyplot as plt\n",
    "import seaborn as sns\n",
    "\n",
    "from datetime import datetime\n",
    "\n",
    "import warnings\n",
    "\n",
    "\n",
    "warnings.filterwarnings('ignore')\n",
    "%matplotlib inline"
   ],
   "id": "3269ce19817597e9",
   "outputs": [],
   "execution_count": 5
  },
  {
   "metadata": {},
   "cell_type": "markdown",
   "source": "## Read dataset.",
   "id": "515dc40b953ae9c8"
  },
  {
   "metadata": {
    "ExecuteTime": {
     "end_time": "2025-04-17T16:19:52.433399Z",
     "start_time": "2025-04-17T16:19:52.425391Z"
    }
   },
   "cell_type": "code",
   "source": [
    "def get_dtypes() -> dict:\n",
    "    \"\"\"Return optimal data types for each column.\"\"\"\n",
    "    # Timestamp is not included as it will be parsed later.\n",
    "    return {\n",
    "        'Src IP': 'category',          # Source IP address (text).\n",
    "        'Src Port': 'uint16',          # Source port (integer in [0, 65535]).\n",
    "        'Dst IP': 'category',          # Destination IP (text).\n",
    "        'Dst Port': 'uint16',          # Destination port (integer in [0, 65535]).\n",
    "        'Protocol': 'category',        # Protocol type (3 categories).\n",
    "        'Flow Duration': 'uint32',     # Duration of flow in ms.\n",
    "        'Tot Fwd Pkts': 'uint32',      # Total forward-packets count.\n",
    "        'Tot Bwd Pkts': 'uint32',      # Total backward-packets count.\n",
    "        'TotLen Fwd Pkts': 'float32',  # Total forward-packets length in bytes.\n",
    "        'TotLen Bwd Pkts': 'float32',  # Total backward-packets length in bytes.\n",
    "        'Fwd Pkt Len Max': 'float32',  # Max forward-packets length in bytes.\n",
    "        'Fwd Pkt Len Min': 'float32',  # Min forward-packets length in bytes.\n",
    "        'Fwd Pkt Len Mean': 'float32', # Mean forward-packets length in bytes.\n",
    "        'Fwd Pkt Len Std': 'float32',  # Standard deviation of forward-packets length in bytes.\n",
    "        'Bwd Pkt Len Max': 'float32',  # Max backward-packets length in bytes.\n",
    "        'Bwd Pkt Len Min': 'float32',  # Min backward-packets length in bytes.\n",
    "        'Bwd Pkt Len Mean': 'float32', # Mean backward-packets length in bytes.\n",
    "        'Bwd Pkt Len Std': 'float32',  # Standard deviation of backward-packets length in bytes.\n",
    "        'Flow Byts/s': 'float32',      # Speed of flow in bytes per second.\n",
    "        'Flow Pkts/s': 'float32',      # Speed of flow in packets per second.\n",
    "        'Flow IAT Mean': 'float32',    # Mean time between packets in flow.\n",
    "        'Flow IAT Std': 'float32',     # Standard deviation of time between packets in flow.\n",
    "        'Flow IAT Max': 'float32',     # Max time between packets in flow.\n",
    "        'Flow IAT Min': 'float32',     # Min time between packets in flow.\n",
    "        'Fwd IAT Tot': 'float32',      # Total time between packets in forward direction.\n",
    "        'Fwd IAT Mean': 'float32',     # Mean time between packets in forward direction.\n",
    "        'Fwd IAT Std': 'float32',      # STD of time between packets in forward direction.\n",
    "        'Fwd IAT Max': 'float32',      # Max time between packets in forward direction.\n",
    "        'Fwd IAT Min': 'float32',      # Min time between packets in forward direction.\n",
    "        'Bwd IAT Tot': 'float32',      # Total time between packets in backward direction.\n",
    "        'Bwd IAT Mean': 'float32',     # Mean time between packets in backward direction.\n",
    "        'Bwd IAT Std': 'float32',      # STD of time between packets in backward direction.\n",
    "        'Bwd IAT Max': 'float32',      # Max time between packets in backward direction.\n",
    "        'Bwd IAT Min': 'float32',      # Min time between packets in backward direction.\n",
    "        'Fwd PSH Flags': 'uint8',      # PSH flags in forward direction.\n",
    "        'Bwd PSH Flags': 'uint8',      # PSH flags in backward direction.\n",
    "        'Fwd URG Flags': 'uint8',      # URG flags in forward direction.\n",
    "        'Bwd URG Flags': 'uint8',      # URG flags in backward direction.\n",
    "        'Fwd Header Len': 'uint32',    # Header length in forward direction.\n",
    "        'Bwd Header Len': 'uint32',    # Header length in backward direction.\n",
    "        'Fwd Pkts/s': 'float32',       # Speed of forward packets flow in packets per second.\n",
    "        'Bwd Pkts/s': 'float32',       # Speed of backward packets flow in packets per second.\n",
    "        'Pkt Len Min': 'float32',      # Min packet length in flow.\n",
    "        'Pkt Len Max': 'float32',      # Max packet length in flow.\n",
    "        'Pkt Len Mean': 'float32',     # Mean packet length in flow.\n",
    "        'Pkt Len Std': 'float32',      # STD packet length in flow.\n",
    "        'Pkt Len Var': 'float32',      # Variance of packet length in flow.\n",
    "        'FIN Flag Cnt': 'uint8',       # Count of FIN flags.\n",
    "        'SYN Flag Cnt': 'uint8',       # Count of SYN flags.\n",
    "        'RST Flag Cnt': 'uint8',       # Count of RST flags.\n",
    "        'PSH Flag Cnt': 'uint8',       # Count of PSH flags.\n",
    "        'ACK Flag Cnt': 'uint8',       # Count of ACK flags.\n",
    "        'URG Flag Cnt': 'uint8',       # Count of URG flags.\n",
    "        'CWE Flag Count': 'uint8',     # Count of CWE flags.\n",
    "        'ECE Flag Cnt': 'uint8',       # Count of ECE flags.\n",
    "        'Down/Up Ratio': 'float32',    # Ratio of incoming to outgoing traffic.\n",
    "        'Pkt Size Avg': 'float32',     # Average packet size in flow.\n",
    "        'Fwd Seg Size Avg': 'float32', # Average segment size in forward direction.\n",
    "        'Bwd Seg Size Avg': 'float32', # Average segment size in backward direction.\n",
    "        'Fwd Byts/b Avg': 'uint32',    # Average bytes per packet in forward direction.\n",
    "        'Fwd Pkts/b Avg': 'uint32',    # Average packets per byte in forward direction.\n",
    "        'Fwd Blk Rate Avg': 'uint32',  # Average block rate in forward direction.\n",
    "        'Bwd Byts/b Avg': 'uint32',    # Average bytes per packet in backward direction.\n",
    "        'Bwd Pkts/b Avg': 'uint32',    # Average packets per byte in backward direction.\n",
    "        'Bwd Blk Rate Avg': 'uint32',  # Average block rate in backward direction.\n",
    "        'Subflow Fwd Pkts': 'uint32',  # Number of packets in subflow in forward direction.\n",
    "        'Subflow Fwd Byts': 'uint32',  # Number of bytes in subflow in forward direction.\n",
    "        'Subflow Bwd Pkts': 'uint32',  # Number of packets in subflow in backward direction.\n",
    "        'Subflow Bwd Byts': 'uint32',  # Number of bytes in subflow in backward direction.\n",
    "        'Init Fwd Win Byts': 'uint32', # Initial window size in forward direction.\n",
    "        'Init Bwd Win Byts': 'uint32', # Initial window size in backward direction.\n",
    "        'Fwd Act Data Pkts': 'uint32', # Number of data packets in forward direction.\n",
    "        'Fwd Seg Size Min': 'uint32',  # Min segment size in forward direction.\n",
    "        'Active Mean': 'float32',      # Mean active time in flow.\n",
    "        'Active Std': 'float32',       # Standard deviation of active time.\n",
    "        'Active Max': 'float32',       # Max active time.\n",
    "        'Active Min': 'float32',       # Min active time.\n",
    "        'Idle Mean': 'float32',        # Mean idle time in flow.\n",
    "        'Idle Std': 'float32',         # Standard deviation of idle time.\n",
    "        'Idle Max': 'float32',         # Max idle time.\n",
    "        'Idle Min': 'float32',         # Min idle time.\n",
    "        'Label': 'category'            # Label (e.g., DDoS or Benign).\n",
    "    }"
   ],
   "id": "c73602a45e26ad02",
   "outputs": [],
   "execution_count": 6
  },
  {
   "metadata": {
    "ExecuteTime": {
     "end_time": "2025-04-17T16:19:52.443987Z",
     "start_time": "2025-04-17T16:19:52.440173Z"
    }
   },
   "cell_type": "code",
   "source": [
    "def get_df_info_str(dataframe: pd.DataFrame) -> str:\n",
    "    \"\"\"Return DataFrame shape and memory usage formatted string.\"\"\"\n",
    "    mem = round(dataframe.memory_usage().sum() / 1024**2, 2)\n",
    "    return f'\\t Shape: {dataframe.shape}\\n\\tMemory: {mem} MB'"
   ],
   "id": "39b976532b790689",
   "outputs": [],
   "execution_count": 7
  },
  {
   "metadata": {
    "ExecuteTime": {
     "end_time": "2025-04-17T16:19:52.453454Z",
     "start_time": "2025-04-17T16:19:52.450267Z"
    }
   },
   "cell_type": "code",
   "source": [
    "def parse_timestamp(timestamp_str: str) -> datetime:\n",
    "    \"\"\"Return parsed timestamp as datetime object.\"\"\"\n",
    "    fmt = '%d/%m/%Y %I:%M:%S'\n",
    "    if timestamp_str[-2:] in ['AM', 'PM']:\n",
    "        fmt += ' %p'\n",
    "    return datetime.strptime(timestamp_str, fmt)"
   ],
   "id": "6f62043f77393602",
   "outputs": [],
   "execution_count": 8
  },
  {
   "metadata": {
    "ExecuteTime": {
     "end_time": "2025-04-17T17:20:28.066792Z",
     "start_time": "2025-04-17T17:20:26.031363Z"
    }
   },
   "cell_type": "code",
   "source": [
    "# Read dataset.\n",
    "PARQUET_PATH = CSV_PATH[:-4] + '.parquet'\n",
    "FORCE_REWRITE = False  # Set True to rewrite parquet file.\n",
    "\n",
    "# Read dataset if parquet file does not exist.\n",
    "if FORCE_REWRITE or not os.path.exists(PARQUET_PATH):\n",
    "    \n",
    "    CHUNK_SIZE = 100_000  # Read {CHUNK_SIZE} rows at a time.\n",
    "    FRAC = 0.25  # Use 25% of dataset (about 1.5GB of RAM).\n",
    "    ROWS_COUNT = 12_700_000  # Approximate dataset size.\n",
    "    \n",
    "    chunks = []\n",
    "    dtypes = get_dtypes()\n",
    "    print('Reading CSV...')\n",
    "    for i, chunk in enumerate(pd.read_csv(\n",
    "            CSV_PATH,\n",
    "            dtype=dtypes,\n",
    "            parse_dates=['Timestamp'],\n",
    "            date_parser=parse_timestamp,\n",
    "            engine='c',\n",
    "            low_memory=True,\n",
    "            chunksize=CHUNK_SIZE\n",
    "    )):\n",
    "        chunk_ = chunk.sample(frac=FRAC, random_state=0)\n",
    "        chunks.append(chunk_)\n",
    "        print(f'Read: {int(i*CHUNK_SIZE / 1e3)}k '\n",
    "              f'of {int(ROWS_COUNT / 1e3)}k\\t'\n",
    "              f'Used: {int(i*CHUNK_SIZE*FRAC / 1e3)}k',\n",
    "              end='\\r')\n",
    "    \n",
    "    print('\\nRead.\\nConcatenating...')\n",
    "    df = pd.concat(chunks)\n",
    "    del dtypes\n",
    "    del chunks\n",
    "\n",
    "    print(f'Concatenated.\\n{get_df_info_str(df)}\\nConverting into parquet...')\n",
    "    df.to_parquet(PARQUET_PATH)\n",
    "    print(f'Converted.\\nDF saved into `{PARQUET_PATH}`.')\n",
    "\n",
    "print(f'Reading from parquet...')\n",
    "df = pd.read_parquet(PARQUET_PATH)\n",
    "print(f'Read.\\n{get_df_info_str(df)}')"
   ],
   "id": "4b90156c64886a83",
   "outputs": [
    {
     "name": "stdout",
     "output_type": "stream",
     "text": [
      "Reading from parquet...\n",
      "Read.\n",
      "\t Shape: (3198657, 85)\n",
      "\tMemory: 1024.96 MB\n"
     ]
    }
   ],
   "execution_count": 48
  },
  {
   "metadata": {},
   "cell_type": "markdown",
   "source": "## Preprocessing.",
   "id": "44c343203453d886"
  },
  {
   "metadata": {},
   "cell_type": "markdown",
   "source": "### Pre-analysis.",
   "id": "878f013cce739fbd"
  },
  {
   "metadata": {
    "ExecuteTime": {
     "end_time": "2025-04-17T17:20:28.185250Z",
     "start_time": "2025-04-17T17:20:28.074840Z"
    }
   },
   "cell_type": "code",
   "source": "df.sample(5, random_state=0)",
   "id": "f1e646c233859c8b",
   "outputs": [
    {
     "data": {
      "text/plain": [
       "          Unnamed: 0                                 Flow ID         Src IP  \\\n",
       "12388875     6426326  172.31.65.68-62.146.70.120-445-62494-6  62.146.70.120   \n",
       "3129205       278540   172.31.69.25-18.219.193.20-80-59464-6  18.219.193.20   \n",
       "2502067       227593     172.31.69.25-18.219.5.43-80-54451-6    18.219.5.43   \n",
       "6307514      3456849   172.31.69.25-18.219.193.20-80-34166-6   172.31.69.25   \n",
       "598118        491559      172.31.69.28-18.219.9.1-80-55063-6     18.219.9.1   \n",
       "\n",
       "          Src Port         Dst IP  Dst Port Protocol           Timestamp  \\\n",
       "12388875     62494   172.31.65.68       445        6 2018-02-20 11:34:15   \n",
       "3129205      59464   172.31.69.25        80        6 2018-02-16 23:16:36   \n",
       "2502067      54451   172.31.69.25        80        6 2018-02-20 10:21:27   \n",
       "6307514         80  18.219.193.20     34166        6 2018-02-16 23:27:06   \n",
       "598118       55063   172.31.69.28        80        6 2018-02-21 23:54:49   \n",
       "\n",
       "          Flow Duration  Tot Fwd Pkts  ...  Fwd Seg Size Min  Active Mean  \\\n",
       "12388875         104135             3  ...                20          0.0   \n",
       "3129205           25067             1  ...                 0          0.0   \n",
       "2502067         9990720             2  ...                20          0.0   \n",
       "6307514         4367247             4  ...                 0          0.0   \n",
       "598118              593             1  ...                 0          0.0   \n",
       "\n",
       "          Active Std  Active Max  Active Min  Idle Mean  Idle Std   Idle Max  \\\n",
       "12388875         0.0         0.0         0.0        0.0       0.0        0.0   \n",
       "3129205          0.0         0.0         0.0        0.0       0.0        0.0   \n",
       "2502067          0.0         0.0         0.0  9990720.0       0.0  9990720.0   \n",
       "6307514          0.0         0.0         0.0        0.0       0.0        0.0   \n",
       "598118           0.0         0.0         0.0        0.0       0.0        0.0   \n",
       "\n",
       "           Idle Min   Label  \n",
       "12388875        0.0  Benign  \n",
       "3129205         0.0    ddos  \n",
       "2502067   9990720.0    ddos  \n",
       "6307514         0.0    ddos  \n",
       "598118          0.0    ddos  \n",
       "\n",
       "[5 rows x 85 columns]"
      ],
      "text/html": [
       "<div>\n",
       "<style scoped>\n",
       "    .dataframe tbody tr th:only-of-type {\n",
       "        vertical-align: middle;\n",
       "    }\n",
       "\n",
       "    .dataframe tbody tr th {\n",
       "        vertical-align: top;\n",
       "    }\n",
       "\n",
       "    .dataframe thead th {\n",
       "        text-align: right;\n",
       "    }\n",
       "</style>\n",
       "<table border=\"1\" class=\"dataframe\">\n",
       "  <thead>\n",
       "    <tr style=\"text-align: right;\">\n",
       "      <th></th>\n",
       "      <th>Unnamed: 0</th>\n",
       "      <th>Flow ID</th>\n",
       "      <th>Src IP</th>\n",
       "      <th>Src Port</th>\n",
       "      <th>Dst IP</th>\n",
       "      <th>Dst Port</th>\n",
       "      <th>Protocol</th>\n",
       "      <th>Timestamp</th>\n",
       "      <th>Flow Duration</th>\n",
       "      <th>Tot Fwd Pkts</th>\n",
       "      <th>...</th>\n",
       "      <th>Fwd Seg Size Min</th>\n",
       "      <th>Active Mean</th>\n",
       "      <th>Active Std</th>\n",
       "      <th>Active Max</th>\n",
       "      <th>Active Min</th>\n",
       "      <th>Idle Mean</th>\n",
       "      <th>Idle Std</th>\n",
       "      <th>Idle Max</th>\n",
       "      <th>Idle Min</th>\n",
       "      <th>Label</th>\n",
       "    </tr>\n",
       "  </thead>\n",
       "  <tbody>\n",
       "    <tr>\n",
       "      <th>12388875</th>\n",
       "      <td>6426326</td>\n",
       "      <td>172.31.65.68-62.146.70.120-445-62494-6</td>\n",
       "      <td>62.146.70.120</td>\n",
       "      <td>62494</td>\n",
       "      <td>172.31.65.68</td>\n",
       "      <td>445</td>\n",
       "      <td>6</td>\n",
       "      <td>2018-02-20 11:34:15</td>\n",
       "      <td>104135</td>\n",
       "      <td>3</td>\n",
       "      <td>...</td>\n",
       "      <td>20</td>\n",
       "      <td>0.0</td>\n",
       "      <td>0.0</td>\n",
       "      <td>0.0</td>\n",
       "      <td>0.0</td>\n",
       "      <td>0.0</td>\n",
       "      <td>0.0</td>\n",
       "      <td>0.0</td>\n",
       "      <td>0.0</td>\n",
       "      <td>Benign</td>\n",
       "    </tr>\n",
       "    <tr>\n",
       "      <th>3129205</th>\n",
       "      <td>278540</td>\n",
       "      <td>172.31.69.25-18.219.193.20-80-59464-6</td>\n",
       "      <td>18.219.193.20</td>\n",
       "      <td>59464</td>\n",
       "      <td>172.31.69.25</td>\n",
       "      <td>80</td>\n",
       "      <td>6</td>\n",
       "      <td>2018-02-16 23:16:36</td>\n",
       "      <td>25067</td>\n",
       "      <td>1</td>\n",
       "      <td>...</td>\n",
       "      <td>0</td>\n",
       "      <td>0.0</td>\n",
       "      <td>0.0</td>\n",
       "      <td>0.0</td>\n",
       "      <td>0.0</td>\n",
       "      <td>0.0</td>\n",
       "      <td>0.0</td>\n",
       "      <td>0.0</td>\n",
       "      <td>0.0</td>\n",
       "      <td>ddos</td>\n",
       "    </tr>\n",
       "    <tr>\n",
       "      <th>2502067</th>\n",
       "      <td>227593</td>\n",
       "      <td>172.31.69.25-18.219.5.43-80-54451-6</td>\n",
       "      <td>18.219.5.43</td>\n",
       "      <td>54451</td>\n",
       "      <td>172.31.69.25</td>\n",
       "      <td>80</td>\n",
       "      <td>6</td>\n",
       "      <td>2018-02-20 10:21:27</td>\n",
       "      <td>9990720</td>\n",
       "      <td>2</td>\n",
       "      <td>...</td>\n",
       "      <td>20</td>\n",
       "      <td>0.0</td>\n",
       "      <td>0.0</td>\n",
       "      <td>0.0</td>\n",
       "      <td>0.0</td>\n",
       "      <td>9990720.0</td>\n",
       "      <td>0.0</td>\n",
       "      <td>9990720.0</td>\n",
       "      <td>9990720.0</td>\n",
       "      <td>ddos</td>\n",
       "    </tr>\n",
       "    <tr>\n",
       "      <th>6307514</th>\n",
       "      <td>3456849</td>\n",
       "      <td>172.31.69.25-18.219.193.20-80-34166-6</td>\n",
       "      <td>172.31.69.25</td>\n",
       "      <td>80</td>\n",
       "      <td>18.219.193.20</td>\n",
       "      <td>34166</td>\n",
       "      <td>6</td>\n",
       "      <td>2018-02-16 23:27:06</td>\n",
       "      <td>4367247</td>\n",
       "      <td>4</td>\n",
       "      <td>...</td>\n",
       "      <td>0</td>\n",
       "      <td>0.0</td>\n",
       "      <td>0.0</td>\n",
       "      <td>0.0</td>\n",
       "      <td>0.0</td>\n",
       "      <td>0.0</td>\n",
       "      <td>0.0</td>\n",
       "      <td>0.0</td>\n",
       "      <td>0.0</td>\n",
       "      <td>ddos</td>\n",
       "    </tr>\n",
       "    <tr>\n",
       "      <th>598118</th>\n",
       "      <td>491559</td>\n",
       "      <td>172.31.69.28-18.219.9.1-80-55063-6</td>\n",
       "      <td>18.219.9.1</td>\n",
       "      <td>55063</td>\n",
       "      <td>172.31.69.28</td>\n",
       "      <td>80</td>\n",
       "      <td>6</td>\n",
       "      <td>2018-02-21 23:54:49</td>\n",
       "      <td>593</td>\n",
       "      <td>1</td>\n",
       "      <td>...</td>\n",
       "      <td>0</td>\n",
       "      <td>0.0</td>\n",
       "      <td>0.0</td>\n",
       "      <td>0.0</td>\n",
       "      <td>0.0</td>\n",
       "      <td>0.0</td>\n",
       "      <td>0.0</td>\n",
       "      <td>0.0</td>\n",
       "      <td>0.0</td>\n",
       "      <td>ddos</td>\n",
       "    </tr>\n",
       "  </tbody>\n",
       "</table>\n",
       "<p>5 rows × 85 columns</p>\n",
       "</div>"
      ]
     },
     "execution_count": 49,
     "metadata": {},
     "output_type": "execute_result"
    }
   ],
   "execution_count": 49
  },
  {
   "metadata": {
    "ExecuteTime": {
     "end_time": "2025-04-17T17:20:35.468925Z",
     "start_time": "2025-04-17T17:20:28.250758Z"
    }
   },
   "cell_type": "code",
   "source": "df.describe(include='all').transpose()",
   "id": "3c6a3eb48f1f4f72",
   "outputs": [
    {
     "data": {
      "text/plain": [
       "                count   unique                    top     freq           mean  \\\n",
       "Unnamed: 0  3198657.0      NaN                    NaN      NaN  2663100.37692   \n",
       "Flow ID       3198657  1719404  8.0.6.4-8.6.0.1-0-0-0    18908            NaN   \n",
       "Src IP        3198657    25152           172.31.69.25   441858            NaN   \n",
       "Src Port    3198657.0      NaN                    NaN      NaN   37062.017538   \n",
       "Dst IP        3198657    24501           172.31.69.25   621315            NaN   \n",
       "...               ...      ...                    ...      ...            ...   \n",
       "Idle Mean   3198657.0      NaN                    NaN      NaN     3119173.25   \n",
       "Idle Std    3198657.0      NaN                    NaN      NaN  109250.890625   \n",
       "Idle Max    3198657.0      NaN                    NaN      NaN     3214718.75   \n",
       "Idle Min    3198657.0      NaN                    NaN      NaN     3018433.25   \n",
       "Label         3198657        2                   ddos  1618208            NaN   \n",
       "\n",
       "            min       25%        50%        75%          max             std  \n",
       "Unnamed: 0  0.0  898504.0  2041665.0  3906515.0    7902473.0  2170006.252904  \n",
       "Flow ID     NaN       NaN        NaN        NaN          NaN             NaN  \n",
       "Src IP      NaN       NaN        NaN        NaN          NaN             NaN  \n",
       "Src Port    0.0     443.0    50590.0    56224.0      65535.0    25223.515196  \n",
       "Dst IP      NaN       NaN        NaN        NaN          NaN             NaN  \n",
       "...         ...       ...        ...        ...          ...             ...  \n",
       "Idle Mean   0.0       0.0        0.0        0.0  119988720.0      12190516.0  \n",
       "Idle Std    0.0       0.0        0.0        0.0   73978656.0       1415605.5  \n",
       "Idle Max    0.0       0.0        0.0        0.0  119988720.0      12442321.0  \n",
       "Idle Min    0.0       0.0        0.0        0.0  119988720.0      12062840.0  \n",
       "Label       NaN       NaN        NaN        NaN          NaN             NaN  \n",
       "\n",
       "[85 rows x 11 columns]"
      ],
      "text/html": [
       "<div>\n",
       "<style scoped>\n",
       "    .dataframe tbody tr th:only-of-type {\n",
       "        vertical-align: middle;\n",
       "    }\n",
       "\n",
       "    .dataframe tbody tr th {\n",
       "        vertical-align: top;\n",
       "    }\n",
       "\n",
       "    .dataframe thead th {\n",
       "        text-align: right;\n",
       "    }\n",
       "</style>\n",
       "<table border=\"1\" class=\"dataframe\">\n",
       "  <thead>\n",
       "    <tr style=\"text-align: right;\">\n",
       "      <th></th>\n",
       "      <th>count</th>\n",
       "      <th>unique</th>\n",
       "      <th>top</th>\n",
       "      <th>freq</th>\n",
       "      <th>mean</th>\n",
       "      <th>min</th>\n",
       "      <th>25%</th>\n",
       "      <th>50%</th>\n",
       "      <th>75%</th>\n",
       "      <th>max</th>\n",
       "      <th>std</th>\n",
       "    </tr>\n",
       "  </thead>\n",
       "  <tbody>\n",
       "    <tr>\n",
       "      <th>Unnamed: 0</th>\n",
       "      <td>3198657.0</td>\n",
       "      <td>NaN</td>\n",
       "      <td>NaN</td>\n",
       "      <td>NaN</td>\n",
       "      <td>2663100.37692</td>\n",
       "      <td>0.0</td>\n",
       "      <td>898504.0</td>\n",
       "      <td>2041665.0</td>\n",
       "      <td>3906515.0</td>\n",
       "      <td>7902473.0</td>\n",
       "      <td>2170006.252904</td>\n",
       "    </tr>\n",
       "    <tr>\n",
       "      <th>Flow ID</th>\n",
       "      <td>3198657</td>\n",
       "      <td>1719404</td>\n",
       "      <td>8.0.6.4-8.6.0.1-0-0-0</td>\n",
       "      <td>18908</td>\n",
       "      <td>NaN</td>\n",
       "      <td>NaN</td>\n",
       "      <td>NaN</td>\n",
       "      <td>NaN</td>\n",
       "      <td>NaN</td>\n",
       "      <td>NaN</td>\n",
       "      <td>NaN</td>\n",
       "    </tr>\n",
       "    <tr>\n",
       "      <th>Src IP</th>\n",
       "      <td>3198657</td>\n",
       "      <td>25152</td>\n",
       "      <td>172.31.69.25</td>\n",
       "      <td>441858</td>\n",
       "      <td>NaN</td>\n",
       "      <td>NaN</td>\n",
       "      <td>NaN</td>\n",
       "      <td>NaN</td>\n",
       "      <td>NaN</td>\n",
       "      <td>NaN</td>\n",
       "      <td>NaN</td>\n",
       "    </tr>\n",
       "    <tr>\n",
       "      <th>Src Port</th>\n",
       "      <td>3198657.0</td>\n",
       "      <td>NaN</td>\n",
       "      <td>NaN</td>\n",
       "      <td>NaN</td>\n",
       "      <td>37062.017538</td>\n",
       "      <td>0.0</td>\n",
       "      <td>443.0</td>\n",
       "      <td>50590.0</td>\n",
       "      <td>56224.0</td>\n",
       "      <td>65535.0</td>\n",
       "      <td>25223.515196</td>\n",
       "    </tr>\n",
       "    <tr>\n",
       "      <th>Dst IP</th>\n",
       "      <td>3198657</td>\n",
       "      <td>24501</td>\n",
       "      <td>172.31.69.25</td>\n",
       "      <td>621315</td>\n",
       "      <td>NaN</td>\n",
       "      <td>NaN</td>\n",
       "      <td>NaN</td>\n",
       "      <td>NaN</td>\n",
       "      <td>NaN</td>\n",
       "      <td>NaN</td>\n",
       "      <td>NaN</td>\n",
       "    </tr>\n",
       "    <tr>\n",
       "      <th>...</th>\n",
       "      <td>...</td>\n",
       "      <td>...</td>\n",
       "      <td>...</td>\n",
       "      <td>...</td>\n",
       "      <td>...</td>\n",
       "      <td>...</td>\n",
       "      <td>...</td>\n",
       "      <td>...</td>\n",
       "      <td>...</td>\n",
       "      <td>...</td>\n",
       "      <td>...</td>\n",
       "    </tr>\n",
       "    <tr>\n",
       "      <th>Idle Mean</th>\n",
       "      <td>3198657.0</td>\n",
       "      <td>NaN</td>\n",
       "      <td>NaN</td>\n",
       "      <td>NaN</td>\n",
       "      <td>3119173.25</td>\n",
       "      <td>0.0</td>\n",
       "      <td>0.0</td>\n",
       "      <td>0.0</td>\n",
       "      <td>0.0</td>\n",
       "      <td>119988720.0</td>\n",
       "      <td>12190516.0</td>\n",
       "    </tr>\n",
       "    <tr>\n",
       "      <th>Idle Std</th>\n",
       "      <td>3198657.0</td>\n",
       "      <td>NaN</td>\n",
       "      <td>NaN</td>\n",
       "      <td>NaN</td>\n",
       "      <td>109250.890625</td>\n",
       "      <td>0.0</td>\n",
       "      <td>0.0</td>\n",
       "      <td>0.0</td>\n",
       "      <td>0.0</td>\n",
       "      <td>73978656.0</td>\n",
       "      <td>1415605.5</td>\n",
       "    </tr>\n",
       "    <tr>\n",
       "      <th>Idle Max</th>\n",
       "      <td>3198657.0</td>\n",
       "      <td>NaN</td>\n",
       "      <td>NaN</td>\n",
       "      <td>NaN</td>\n",
       "      <td>3214718.75</td>\n",
       "      <td>0.0</td>\n",
       "      <td>0.0</td>\n",
       "      <td>0.0</td>\n",
       "      <td>0.0</td>\n",
       "      <td>119988720.0</td>\n",
       "      <td>12442321.0</td>\n",
       "    </tr>\n",
       "    <tr>\n",
       "      <th>Idle Min</th>\n",
       "      <td>3198657.0</td>\n",
       "      <td>NaN</td>\n",
       "      <td>NaN</td>\n",
       "      <td>NaN</td>\n",
       "      <td>3018433.25</td>\n",
       "      <td>0.0</td>\n",
       "      <td>0.0</td>\n",
       "      <td>0.0</td>\n",
       "      <td>0.0</td>\n",
       "      <td>119988720.0</td>\n",
       "      <td>12062840.0</td>\n",
       "    </tr>\n",
       "    <tr>\n",
       "      <th>Label</th>\n",
       "      <td>3198657</td>\n",
       "      <td>2</td>\n",
       "      <td>ddos</td>\n",
       "      <td>1618208</td>\n",
       "      <td>NaN</td>\n",
       "      <td>NaN</td>\n",
       "      <td>NaN</td>\n",
       "      <td>NaN</td>\n",
       "      <td>NaN</td>\n",
       "      <td>NaN</td>\n",
       "      <td>NaN</td>\n",
       "    </tr>\n",
       "  </tbody>\n",
       "</table>\n",
       "<p>85 rows × 11 columns</p>\n",
       "</div>"
      ]
     },
     "execution_count": 50,
     "metadata": {},
     "output_type": "execute_result"
    }
   ],
   "execution_count": 50
  },
  {
   "metadata": {
    "ExecuteTime": {
     "end_time": "2025-04-17T17:20:35.539489Z",
     "start_time": "2025-04-17T17:20:35.511587Z"
    }
   },
   "cell_type": "code",
   "source": [
    "# There's some inf values in the columns which can't be true.\n",
    "df.replace({'Flow Byts/s': np.inf, 'Flow Pkts/s': np.inf}, np.nan, inplace=True)"
   ],
   "id": "acc266ce1427e623",
   "outputs": [],
   "execution_count": 51
  },
  {
   "metadata": {
    "ExecuteTime": {
     "end_time": "2025-04-17T17:20:36.223155Z",
     "start_time": "2025-04-17T17:20:35.651312Z"
    }
   },
   "cell_type": "code",
   "source": [
    "# Look for NaN values.\n",
    "missing = df.columns[df.isna().any()]\n",
    "print(f'Missing values:')\n",
    "for col in missing:\n",
    "    print(f'\\t{col}: {df[col].isna().sum()} | {df[col].isna().sum() / df.shape[0]:.2%} of {df.shape[0]} rows')"
   ],
   "id": "b9769fb5948102eb",
   "outputs": [
    {
     "name": "stdout",
     "output_type": "stream",
     "text": [
      "Missing values:\n",
      "\tFlow Byts/s: 11891 | 0.37% of 3198657 rows\n",
      "\tFlow Pkts/s: 11891 | 0.37% of 3198657 rows\n"
     ]
    }
   ],
   "execution_count": 52
  },
  {
   "metadata": {
    "ExecuteTime": {
     "end_time": "2025-04-17T17:20:39.938675Z",
     "start_time": "2025-04-17T17:20:36.231579Z"
    }
   },
   "cell_type": "code",
   "source": [
    "# Look for dominance % of one value in binary columns.\n",
    "cols_with_2_unique = [col for col in df.columns if df[col].nunique() == 2 and col != 'Label']\n",
    "col_val_dominance = [\n",
    "    [\n",
    "        col,\n",
    "        df[col].value_counts(normalize=True).idxmax(),\n",
    "        df[col].value_counts(normalize=True).max()\n",
    "    ] for col in cols_with_2_unique\n",
    "]\n",
    "\n",
    "for col, value, dominance in sorted(col_val_dominance, reverse=True, key=lambda x: x[2]):\n",
    "    print(f'{col}: {value} \\t| {dominance:.2%} dominance')"
   ],
   "id": "343ccc6d51b4fc7",
   "outputs": [
    {
     "name": "stdout",
     "output_type": "stream",
     "text": [
      "Bwd PSH Flags: 0 \t| 99.76% dominance\n",
      "FIN Flag Cnt: 0 \t| 98.45% dominance\n",
      "URG Flag Cnt: 0 \t| 98.09% dominance\n",
      "Fwd PSH Flags: 0 \t| 97.14% dominance\n",
      "CWE Flag Count: 0 \t| 91.54% dominance\n",
      "RST Flag Cnt: 0 \t| 88.91% dominance\n",
      "SYN Flag Cnt: 0 \t| 86.41% dominance\n",
      "ECE Flag Cnt: 0 \t| 80.55% dominance\n",
      "PSH Flag Cnt: 0 \t| 79.89% dominance\n",
      "ACK Flag Cnt: 1 \t| 51.08% dominance\n"
     ]
    }
   ],
   "execution_count": 53
  },
  {
   "metadata": {},
   "cell_type": "markdown",
   "source": [
    "### Clean data.\n",
    "\n",
    "Properties that can be deleted:\n",
    "- `Unnamed: 0` - Just an ID;\n",
    "- `Flow ID` - Union of `SRC IP`, `DST IP`, `SRC Port`, `DST Port`;\n",
    "- `Bwd URG Flags` & `Fwd URG Flags` - Only one unique value;\n",
    "- Some of the cols with 2 unique values as they have over 90% of one value dominance:\n",
    "`[CWE Flag Count,\n",
    "  URG Flag Cnt,\n",
    "  ACK Flag Cnt,\n",
    "  PSH Flag Cnt,\n",
    "  RST Flag Cnt,\n",
    "  SYN Flag Cnt,\n",
    "  FIN Flag Cnt,\n",
    "  Bwd PSH Flags,\n",
    "  Fwd PSH Flags,\n",
    "  ECE Flag Cnt]`;\n",
    "\n",
    "And some (less than 0.5%) of the rows with NaN values."
   ],
   "id": "f46c981e2b7c6842"
  },
  {
   "metadata": {
    "ExecuteTime": {
     "end_time": "2025-04-17T17:20:42.487276Z",
     "start_time": "2025-04-17T17:20:39.967311Z"
    }
   },
   "cell_type": "code",
   "source": [
    "# Proceed clean-up.\n",
    "print(f'Before:\\n{get_df_info_str(df)}\\nCleaning...')\n",
    "\n",
    "# Delete useless columns.\n",
    "cols_to_drop = ['Unnamed: 0', 'Flow ID', 'Bwd URG Flags', 'Fwd URG Flags']\n",
    "df = df.drop(columns=cols_to_drop)\n",
    "print(f'Dropped: {cols_to_drop}')\n",
    "\n",
    "# Delete columns with {DOM_THRESHOLD} dominance of one value.\n",
    "DOM_THRESHOLD = 0.9\n",
    "cols_to_drop = [col for col, _, dom in col_val_dominance if dom > DOM_THRESHOLD]\n",
    "df = df.drop(columns=cols_to_drop)\n",
    "print(f'Dropped: {cols_to_drop}')\n",
    "\n",
    "# Delete rows with missing values.\n",
    "missing_count = df.isna().any(axis=1).sum()\n",
    "df = pd.DataFrame(df.dropna(), columns=df.columns)\n",
    "print(f'Dropped: {missing_count} rows with missing values')\n",
    "\n",
    "del DOM_THRESHOLD, col_val_dominance\n",
    "del cols_to_drop\n",
    "del missing, missing_count\n",
    "\n",
    "print(f'Cleaned-up.\\nAfter:\\n{get_df_info_str(df)}')"
   ],
   "id": "b24321e539097acb",
   "outputs": [
    {
     "name": "stdout",
     "output_type": "stream",
     "text": [
      "Before:\n",
      "\t Shape: (3198657, 85)\n",
      "\tMemory: 1024.96 MB\n",
      "Cleaning...\n",
      "Dropped: ['Unnamed: 0', 'Flow ID', 'Bwd URG Flags', 'Fwd URG Flags']\n",
      "Dropped: ['Fwd PSH Flags', 'Bwd PSH Flags', 'FIN Flag Cnt', 'URG Flag Cnt', 'CWE Flag Count']\n",
      "Dropped: 11891 rows with missing values\n",
      "Cleaned-up.\n",
      "After:\n",
      "\t Shape: (3186766, 76)\n",
      "\tMemory: 951.25 MB\n"
     ]
    }
   ],
   "execution_count": 54
  },
  {
   "metadata": {
    "ExecuteTime": {
     "end_time": "2025-04-17T17:20:42.610452Z",
     "start_time": "2025-04-17T17:20:42.515311Z"
    }
   },
   "cell_type": "code",
   "source": "df.sample(5, random_state=0)",
   "id": "fa880fb1b2959820",
   "outputs": [
    {
     "data": {
      "text/plain": [
       "                  Src IP  Src Port         Dst IP  Dst Port Protocol  \\\n",
       "11653716    192.168.10.3     60669   192.168.10.1        53       17   \n",
       "9126493     172.31.69.10       445  46.98.134.198     56397        6   \n",
       "856710    18.216.200.189     61712   172.31.69.28        80        6   \n",
       "8064643     212.92.116.6     61405   172.31.64.88      3389        6   \n",
       "2998815    18.219.193.20     39756   172.31.69.25        80        6   \n",
       "\n",
       "                   Timestamp  Flow Duration  Tot Fwd Pkts  Tot Bwd Pkts  \\\n",
       "11653716 2017-07-03 20:09:42          47199             0             2   \n",
       "9126493  2018-02-20 05:44:47           1280             2             0   \n",
       "856710   2018-02-22 00:06:26           2230             1             1   \n",
       "8064643  2018-02-20 03:20:28       12619299             9             9   \n",
       "2998815  2018-02-16 23:15:38           1058             1             1   \n",
       "\n",
       "          TotLen Fwd Pkts  ...  Fwd Seg Size Min  Active Mean  Active Std  \\\n",
       "11653716              0.0  ...                 0          0.0         0.0   \n",
       "9126493               0.0  ...                20          0.0         0.0   \n",
       "856710                0.0  ...                 0          0.0         0.0   \n",
       "8064643            1821.0  ...                20     235271.0         0.0   \n",
       "2998815               0.0  ...                 0          0.0         0.0   \n",
       "\n",
       "          Active Max  Active Min   Idle Mean  Idle Std    Idle Max  \\\n",
       "11653716         0.0         0.0         0.0       0.0         0.0   \n",
       "9126493          0.0         0.0         0.0       0.0         0.0   \n",
       "856710           0.0         0.0         0.0       0.0         0.0   \n",
       "8064643     235271.0    235271.0  10455234.0       0.0  10455234.0   \n",
       "2998815          0.0         0.0         0.0       0.0         0.0   \n",
       "\n",
       "            Idle Min   Label  \n",
       "11653716         0.0  Benign  \n",
       "9126493          0.0  Benign  \n",
       "856710           0.0    ddos  \n",
       "8064643   10455234.0  Benign  \n",
       "2998815          0.0    ddos  \n",
       "\n",
       "[5 rows x 76 columns]"
      ],
      "text/html": [
       "<div>\n",
       "<style scoped>\n",
       "    .dataframe tbody tr th:only-of-type {\n",
       "        vertical-align: middle;\n",
       "    }\n",
       "\n",
       "    .dataframe tbody tr th {\n",
       "        vertical-align: top;\n",
       "    }\n",
       "\n",
       "    .dataframe thead th {\n",
       "        text-align: right;\n",
       "    }\n",
       "</style>\n",
       "<table border=\"1\" class=\"dataframe\">\n",
       "  <thead>\n",
       "    <tr style=\"text-align: right;\">\n",
       "      <th></th>\n",
       "      <th>Src IP</th>\n",
       "      <th>Src Port</th>\n",
       "      <th>Dst IP</th>\n",
       "      <th>Dst Port</th>\n",
       "      <th>Protocol</th>\n",
       "      <th>Timestamp</th>\n",
       "      <th>Flow Duration</th>\n",
       "      <th>Tot Fwd Pkts</th>\n",
       "      <th>Tot Bwd Pkts</th>\n",
       "      <th>TotLen Fwd Pkts</th>\n",
       "      <th>...</th>\n",
       "      <th>Fwd Seg Size Min</th>\n",
       "      <th>Active Mean</th>\n",
       "      <th>Active Std</th>\n",
       "      <th>Active Max</th>\n",
       "      <th>Active Min</th>\n",
       "      <th>Idle Mean</th>\n",
       "      <th>Idle Std</th>\n",
       "      <th>Idle Max</th>\n",
       "      <th>Idle Min</th>\n",
       "      <th>Label</th>\n",
       "    </tr>\n",
       "  </thead>\n",
       "  <tbody>\n",
       "    <tr>\n",
       "      <th>11653716</th>\n",
       "      <td>192.168.10.3</td>\n",
       "      <td>60669</td>\n",
       "      <td>192.168.10.1</td>\n",
       "      <td>53</td>\n",
       "      <td>17</td>\n",
       "      <td>2017-07-03 20:09:42</td>\n",
       "      <td>47199</td>\n",
       "      <td>0</td>\n",
       "      <td>2</td>\n",
       "      <td>0.0</td>\n",
       "      <td>...</td>\n",
       "      <td>0</td>\n",
       "      <td>0.0</td>\n",
       "      <td>0.0</td>\n",
       "      <td>0.0</td>\n",
       "      <td>0.0</td>\n",
       "      <td>0.0</td>\n",
       "      <td>0.0</td>\n",
       "      <td>0.0</td>\n",
       "      <td>0.0</td>\n",
       "      <td>Benign</td>\n",
       "    </tr>\n",
       "    <tr>\n",
       "      <th>9126493</th>\n",
       "      <td>172.31.69.10</td>\n",
       "      <td>445</td>\n",
       "      <td>46.98.134.198</td>\n",
       "      <td>56397</td>\n",
       "      <td>6</td>\n",
       "      <td>2018-02-20 05:44:47</td>\n",
       "      <td>1280</td>\n",
       "      <td>2</td>\n",
       "      <td>0</td>\n",
       "      <td>0.0</td>\n",
       "      <td>...</td>\n",
       "      <td>20</td>\n",
       "      <td>0.0</td>\n",
       "      <td>0.0</td>\n",
       "      <td>0.0</td>\n",
       "      <td>0.0</td>\n",
       "      <td>0.0</td>\n",
       "      <td>0.0</td>\n",
       "      <td>0.0</td>\n",
       "      <td>0.0</td>\n",
       "      <td>Benign</td>\n",
       "    </tr>\n",
       "    <tr>\n",
       "      <th>856710</th>\n",
       "      <td>18.216.200.189</td>\n",
       "      <td>61712</td>\n",
       "      <td>172.31.69.28</td>\n",
       "      <td>80</td>\n",
       "      <td>6</td>\n",
       "      <td>2018-02-22 00:06:26</td>\n",
       "      <td>2230</td>\n",
       "      <td>1</td>\n",
       "      <td>1</td>\n",
       "      <td>0.0</td>\n",
       "      <td>...</td>\n",
       "      <td>0</td>\n",
       "      <td>0.0</td>\n",
       "      <td>0.0</td>\n",
       "      <td>0.0</td>\n",
       "      <td>0.0</td>\n",
       "      <td>0.0</td>\n",
       "      <td>0.0</td>\n",
       "      <td>0.0</td>\n",
       "      <td>0.0</td>\n",
       "      <td>ddos</td>\n",
       "    </tr>\n",
       "    <tr>\n",
       "      <th>8064643</th>\n",
       "      <td>212.92.116.6</td>\n",
       "      <td>61405</td>\n",
       "      <td>172.31.64.88</td>\n",
       "      <td>3389</td>\n",
       "      <td>6</td>\n",
       "      <td>2018-02-20 03:20:28</td>\n",
       "      <td>12619299</td>\n",
       "      <td>9</td>\n",
       "      <td>9</td>\n",
       "      <td>1821.0</td>\n",
       "      <td>...</td>\n",
       "      <td>20</td>\n",
       "      <td>235271.0</td>\n",
       "      <td>0.0</td>\n",
       "      <td>235271.0</td>\n",
       "      <td>235271.0</td>\n",
       "      <td>10455234.0</td>\n",
       "      <td>0.0</td>\n",
       "      <td>10455234.0</td>\n",
       "      <td>10455234.0</td>\n",
       "      <td>Benign</td>\n",
       "    </tr>\n",
       "    <tr>\n",
       "      <th>2998815</th>\n",
       "      <td>18.219.193.20</td>\n",
       "      <td>39756</td>\n",
       "      <td>172.31.69.25</td>\n",
       "      <td>80</td>\n",
       "      <td>6</td>\n",
       "      <td>2018-02-16 23:15:38</td>\n",
       "      <td>1058</td>\n",
       "      <td>1</td>\n",
       "      <td>1</td>\n",
       "      <td>0.0</td>\n",
       "      <td>...</td>\n",
       "      <td>0</td>\n",
       "      <td>0.0</td>\n",
       "      <td>0.0</td>\n",
       "      <td>0.0</td>\n",
       "      <td>0.0</td>\n",
       "      <td>0.0</td>\n",
       "      <td>0.0</td>\n",
       "      <td>0.0</td>\n",
       "      <td>0.0</td>\n",
       "      <td>ddos</td>\n",
       "    </tr>\n",
       "  </tbody>\n",
       "</table>\n",
       "<p>5 rows × 76 columns</p>\n",
       "</div>"
      ]
     },
     "execution_count": 55,
     "metadata": {},
     "output_type": "execute_result"
    }
   ],
   "execution_count": 55
  },
  {
   "metadata": {},
   "cell_type": "markdown",
   "source": "### Analysis.",
   "id": "dcc888ee9d520b51"
  },
  {
   "metadata": {
    "ExecuteTime": {
     "end_time": "2025-04-17T17:20:43.222348Z",
     "start_time": "2025-04-17T17:20:42.673893Z"
    }
   },
   "cell_type": "code",
   "source": [
    "# Replace 'Label' with bool 'Is ddos' column.\n",
    "df['Is ddos'] = np.where(df['Label'] == 'ddos', 1, 0)\n",
    "df = df.drop(columns=['Label', ])\n",
    "\n",
    "TARGET_COL = 'Is ddos'"
   ],
   "id": "eb1b0122475342cd",
   "outputs": [],
   "execution_count": 56
  },
  {
   "metadata": {
    "ExecuteTime": {
     "end_time": "2025-04-17T17:20:43.263334Z",
     "start_time": "2025-04-17T17:20:43.244043Z"
    }
   },
   "cell_type": "code",
   "source": [
    "# Show distribution of target class.\n",
    "print(round(df[TARGET_COL].value_counts(normalize=True) * 100, 2))"
   ],
   "id": "f408fd6a5ea89173",
   "outputs": [
    {
     "name": "stdout",
     "output_type": "stream",
     "text": [
      "Is ddos\n",
      "1    50.78\n",
      "0    49.22\n",
      "Name: proportion, dtype: float64\n"
     ]
    }
   ],
   "execution_count": 57
  },
  {
   "metadata": {
    "ExecuteTime": {
     "end_time": "2025-04-17T17:20:44.874036Z",
     "start_time": "2025-04-17T17:20:43.380601Z"
    }
   },
   "cell_type": "code",
   "source": [
    "# Balance distribution of target class.\n",
    "df_ddos_balanced = df[df[TARGET_COL] == 1].sample(\n",
    "    n=df[TARGET_COL].value_counts()[0], \n",
    "    random_state=0\n",
    ")\n",
    "df = pd.concat([df_ddos_balanced, df[df[TARGET_COL] == 0]], axis=0)\n",
    "\n",
    "del df_ddos_balanced\n",
    "\n",
    "print(f'Target class distribution\\n{df[TARGET_COL].value_counts(normalize=True) * 100}')"
   ],
   "id": "7b1058f642a1164d",
   "outputs": [
    {
     "name": "stdout",
     "output_type": "stream",
     "text": [
      "Target class distribution\n",
      "Is ddos\n",
      "1    50.0\n",
      "0    50.0\n",
      "Name: proportion, dtype: float64\n"
     ]
    }
   ],
   "execution_count": 58
  },
  {
   "metadata": {
    "ExecuteTime": {
     "end_time": "2025-04-17T17:20:45.415902Z",
     "start_time": "2025-04-17T17:20:44.921622Z"
    }
   },
   "cell_type": "code",
   "source": [
    "# Relation between Protocol and DDoS status.\n",
    "cross = pd.crosstab(index=df['Protocol'], columns=df['Is ddos'])\n",
    "print(cross)\n",
    "\n",
    "stacked = cross.stack().reset_index().rename(columns={0: 'Amount'})\n",
    "sns.barplot(\n",
    "    x=stacked['Protocol'],\n",
    "    y=stacked['Amount'],\n",
    "    hue=stacked['Is ddos']\n",
    ")\n",
    "plt.title(f'Protocol vs DDoS status')\n",
    "\n",
    "del cross\n",
    "del stacked\n",
    "\n",
    "plt.show()"
   ],
   "id": "e7ae7ede6e3e43c",
   "outputs": [
    {
     "name": "stdout",
     "output_type": "stream",
     "text": [
      "Is ddos        0        1\n",
      "Protocol                 \n",
      "0          28962        0\n",
      "17        546832     1013\n",
      "6         992773  1567554\n"
     ]
    },
    {
     "data": {
      "text/plain": [
       "<Figure size 640x480 with 1 Axes>"
      ],
      "image/png": "[encoded data removed]"
     },
     "metadata": {},
     "output_type": "display_data"
    }
   ],
   "execution_count": 59
  },
  {
   "metadata": {
    "ExecuteTime": {
     "end_time": "2025-04-17T17:20:45.769718Z",
     "start_time": "2025-04-17T17:20:45.442581Z"
    }
   },
   "cell_type": "code",
   "source": [
    "# Show Timestamp distribution.\n",
    "plt.figure(figsize=(12, 6))\n",
    "plt.hist(df['Timestamp'], color='blue', edgecolor='black')\n",
    "plt.title('Data per year distribution')\n",
    "plt.xticks(rotation=45)\n",
    "plt.tight_layout()\n",
    "plt.show()"
   ],
   "id": "566c60519d66e19f",
   "outputs": [
    {
     "data": {
      "text/plain": [
       "<Figure size 1200x600 with 1 Axes>"
      ],
      "image/png": "[encoded data removed]"
     },
     "metadata": {},
     "output_type": "display_data"
    }
   ],
   "execution_count": 60
  },
  {
   "metadata": {
    "ExecuteTime": {
     "end_time": "2025-04-17T17:20:52.401372Z",
     "start_time": "2025-04-17T17:20:45.800391Z"
    }
   },
   "cell_type": "code",
   "source": [
    "# The vast majority of records were made in 2018.\n",
    "\n",
    "# Show DDoS/Time correlation in 2018:\n",
    "# - Linear plot: Timestamp distribution;\n",
    "# - Bar plot: DDoS entries at the Timestamp.\n",
    "\n",
    "# DF filtered by Timestamp.year == 2018, grouped by Timestamp.\n",
    "ts_2018 = df[df['Timestamp'].dt.year == 2018]  # Filter by 2018.\n",
    "ts_2018_group = ts_2018.resample('D', on='Timestamp').agg(  # Resample by hour.\n",
    "    total_count=('Is ddos', 'size'),  # Total count of specific Timestamp.\n",
    "    ddos_count=('Is ddos', 'sum')     # Total count of DDoS at specific Timestamp.\n",
    ").reset_index()\n",
    "\n",
    "plt.figure(figsize=(12, 6))\n",
    "plt.plot(ts_2018_group['Timestamp'], ts_2018_group['total_count'], label='Total Records', color='blue')\n",
    "plt.bar(ts_2018_group['Timestamp'], ts_2018_group['ddos_count'], label='DDoS Entries', color='red', alpha=0.5)\n",
    "\n",
    "plt.xlabel('Timestamp')\n",
    "plt.ylabel('Count')\n",
    "plt.title('DDoS Attacks Over Time')\n",
    "plt.legend()\n",
    "plt.xticks(rotation=45)\n",
    "plt.tight_layout()\n",
    "\n",
    "del ts_2018\n",
    "del ts_2018_group\n",
    "\n",
    "plt.show()"
   ],
   "id": "64baae573e347b38",
   "outputs": [
    {
     "data": {
      "text/plain": [
       "<Figure size 1200x600 with 1 Axes>"
      ],
      "image/png": "[encoded data removed]"
     },
     "metadata": {},
     "output_type": "display_data"
    }
   ],
   "execution_count": 61
  },
  {
   "metadata": {
    "ExecuteTime": {
     "end_time": "2025-04-17T17:20:54.045249Z",
     "start_time": "2025-04-17T17:20:52.449192Z"
    }
   },
   "cell_type": "code",
   "source": [
    "# One of the important parameters should be the number of packages transferred.\n",
    "# Show the dependence of the DDoS status on the number of sent and obtained packages.\n",
    "sns.scatterplot(\n",
    "    x='Tot Fwd Pkts', y='Tot Bwd Pkts',\n",
    "    hue='Is ddos', data=df.sample(n=100_000, random_state=0)\n",
    ")\n",
    "plt.title('Number of packages transferred vs DDoS status')\n",
    "plt.show()"
   ],
   "id": "d6fa12050e3772a6",
   "outputs": [
    {
     "data": {
      "text/plain": [
       "<Figure size 640x480 with 1 Axes>"
      ],
      "image/png": "[encoded data removed]"
     },
     "metadata": {},
     "output_type": "display_data"
    }
   ],
   "execution_count": 62
  },
  {
   "metadata": {
    "ExecuteTime": {
     "end_time": "2025-04-17T17:20:54.080622Z",
     "start_time": "2025-04-17T17:20:54.074599Z"
    }
   },
   "cell_type": "code",
   "source": [
    "def get_cross_net_classes_vs_ddos(dataframe: pd.DataFrame, column_name: str) -> pd.DataFrame:\n",
    "    \"\"\"Return cross tabulation of network classes and DDoS status.\"\"\"\n",
    "    classes = dataframe[column_name].str\\\n",
    "                                    .split('.', n=1, expand=True)[0]\\\n",
    "                                    .astype('uint8')\n",
    "    classes = pd.cut(classes,\n",
    "                     bins=[0, 127, 191, 223, 239, np.inf],\n",
    "                     labels=['A', 'B', 'C', 'D', 'E'],\n",
    "                     include_lowest=True)\n",
    "    cross_tab = pd.crosstab(index=classes,\n",
    "                            columns=dataframe['Is ddos'],\n",
    "                            rownames=['Class', ])\n",
    "    return cross_tab.stack().reset_index().rename(columns={0: 'Amount'})"
   ],
   "id": "57f838605a66341a",
   "outputs": [],
   "execution_count": 63
  },
  {
   "metadata": {
    "ExecuteTime": {
     "end_time": "2025-04-17T17:21:01.990015Z",
     "start_time": "2025-04-17T17:20:54.140620Z"
    }
   },
   "cell_type": "code",
   "source": [
    "# Show the dependence of the DDoS status on the network class.\n",
    "cross_src = get_cross_net_classes_vs_ddos(df, 'Src IP')\n",
    "cross_dst = get_cross_net_classes_vs_ddos(df, 'Dst IP')\n",
    "\n",
    "plt.figure(figsize=(18, 6))\n",
    "plt.subplot(1, 2, 1)\n",
    "sns.barplot(x=cross_src['Class'], y=cross_src['Amount'], hue=cross_src['Is ddos'])\n",
    "plt.title('SRC Network Class VS DDoS Status')\n",
    "\n",
    "plt.subplot(1, 2, 2)\n",
    "sns.barplot(x=cross_dst['Class'], y=cross_dst['Amount'], hue=cross_dst['Is ddos'])\n",
    "plt.title('DST Network Class VS DDoS Status')\n",
    "\n",
    "plt.tight_layout()\n",
    "plt.show()"
   ],
   "id": "fe06555aa3e06817",
   "outputs": [
    {
     "data": {
      "text/plain": [
       "<Figure size 1800x600 with 2 Axes>"
      ],
      "image/png": "[encoded data removed]"
     },
     "metadata": {},
     "output_type": "display_data"
    }
   ],
   "execution_count": 64
  },
  {
   "metadata": {
    "ExecuteTime": {
     "end_time": "2025-04-17T17:21:28.487255Z",
     "start_time": "2025-04-17T17:21:01.994967Z"
    }
   },
   "cell_type": "code",
   "source": [
    "# Remove over-correlated features (corr >= THRESHOLD).\n",
    "THRESHOLD = 0.9\n",
    "\n",
    "# Get correlation.\n",
    "corr_matrix = df.select_dtypes(include=[np.number, ]).corr()\n",
    "over_correlated = []\n",
    "for i in range(len(corr_matrix.columns)):\n",
    "    for j in range(i):\n",
    "        correlation = abs(corr_matrix.iloc[i, j])\n",
    "        if correlation > THRESHOLD:\n",
    "            over_correlated.append([\n",
    "                corr_matrix.columns[i],\n",
    "                corr_matrix.columns[j],\n",
    "                correlation\n",
    "            ])\n",
    "\n",
    "# Show over-correlated features.\n",
    "cols_to_drop = set()\n",
    "print('Over-correlated features:')\n",
    "for c1, c2, corr in over_correlated:\n",
    "    print(f'[{corr:.2%}] \\t`{c1}` ~= `{c2}`')\n",
    "    cols_to_drop.add(c2)\n",
    "\n",
    "# Remove them.\n",
    "df = df.drop(columns=cols_to_drop)\n",
    "print(f'\\nDropped: {cols_to_drop}')\n",
    "\n",
    "del over_correlated\n",
    "del cols_to_drop\n",
    "\n",
    "print('\\nAfter:\\n', get_df_info_str(df))"
   ],
   "id": "bf7af7ee36d47322",
   "outputs": [
    {
     "name": "stdout",
     "output_type": "stream",
     "text": [
      "Over-correlated features:\n",
      "[99.34%] \t`TotLen Fwd Pkts` ~= `Tot Fwd Pkts`\n",
      "[98.56%] \t`TotLen Bwd Pkts` ~= `Tot Bwd Pkts`\n",
      "[94.84%] \t`Fwd Pkt Len Mean` ~= `Fwd Pkt Len Max`\n",
      "[97.39%] \t`Fwd Pkt Len Std` ~= `Fwd Pkt Len Max`\n",
      "[96.51%] \t`Fwd Pkt Len Std` ~= `Fwd Pkt Len Mean`\n",
      "[96.72%] \t`Bwd Pkt Len Std` ~= `Bwd Pkt Len Max`\n",
      "[98.27%] \t`Flow IAT Min` ~= `Flow IAT Mean`\n",
      "[97.51%] \t`Fwd IAT Tot` ~= `Flow Duration`\n",
      "[97.29%] \t`Fwd IAT Mean` ~= `Flow IAT Mean`\n",
      "[95.35%] \t`Fwd IAT Mean` ~= `Flow IAT Min`\n",
      "[92.83%] \t`Fwd IAT Max` ~= `Flow IAT Max`\n",
      "[97.08%] \t`Fwd IAT Min` ~= `Flow IAT Mean`\n",
      "[97.89%] \t`Fwd IAT Min` ~= `Flow IAT Min`\n",
      "[97.49%] \t`Fwd IAT Min` ~= `Fwd IAT Mean`\n",
      "[98.52%] \t`Fwd Header Len` ~= `Tot Fwd Pkts`\n",
      "[96.04%] \t`Fwd Header Len` ~= `TotLen Fwd Pkts`\n",
      "[99.99%] \t`Bwd Header Len` ~= `Tot Bwd Pkts`\n",
      "[98.55%] \t`Bwd Header Len` ~= `TotLen Bwd Pkts`\n",
      "[97.58%] \t`Pkt Len Std` ~= `Pkt Len Max`\n",
      "[99.38%] \t`Pkt Size Avg` ~= `Pkt Len Mean`\n",
      "[94.84%] \t`Fwd Seg Size Avg` ~= `Fwd Pkt Len Max`\n",
      "[100.00%] \t`Fwd Seg Size Avg` ~= `Fwd Pkt Len Mean`\n",
      "[96.51%] \t`Fwd Seg Size Avg` ~= `Fwd Pkt Len Std`\n",
      "[100.00%] \t`Bwd Seg Size Avg` ~= `Bwd Pkt Len Mean`\n",
      "[100.00%] \t`Subflow Fwd Pkts` ~= `Tot Fwd Pkts`\n",
      "[99.34%] \t`Subflow Fwd Pkts` ~= `TotLen Fwd Pkts`\n",
      "[98.52%] \t`Subflow Fwd Pkts` ~= `Fwd Header Len`\n",
      "[99.34%] \t`Subflow Fwd Byts` ~= `Tot Fwd Pkts`\n",
      "[100.00%] \t`Subflow Fwd Byts` ~= `TotLen Fwd Pkts`\n",
      "[96.04%] \t`Subflow Fwd Byts` ~= `Fwd Header Len`\n",
      "[99.34%] \t`Subflow Fwd Byts` ~= `Subflow Fwd Pkts`\n",
      "[100.00%] \t`Subflow Bwd Pkts` ~= `Tot Bwd Pkts`\n",
      "[98.56%] \t`Subflow Bwd Pkts` ~= `TotLen Bwd Pkts`\n",
      "[99.99%] \t`Subflow Bwd Pkts` ~= `Bwd Header Len`\n",
      "[98.56%] \t`Subflow Bwd Byts` ~= `Tot Bwd Pkts`\n",
      "[100.00%] \t`Subflow Bwd Byts` ~= `TotLen Bwd Pkts`\n",
      "[98.55%] \t`Subflow Bwd Byts` ~= `Bwd Header Len`\n",
      "[98.56%] \t`Subflow Bwd Byts` ~= `Subflow Bwd Pkts`\n",
      "[99.41%] \t`Fwd Act Data Pkts` ~= `Tot Fwd Pkts`\n",
      "[99.93%] \t`Fwd Act Data Pkts` ~= `TotLen Fwd Pkts`\n",
      "[96.07%] \t`Fwd Act Data Pkts` ~= `Fwd Header Len`\n",
      "[99.41%] \t`Fwd Act Data Pkts` ~= `Subflow Fwd Pkts`\n",
      "[99.93%] \t`Fwd Act Data Pkts` ~= `Subflow Fwd Byts`\n",
      "[94.67%] \t`Fwd Seg Size Min` ~= `Init Fwd Win Byts`\n",
      "[94.95%] \t`Active Max` ~= `Active Mean`\n",
      "[90.52%] \t`Active Min` ~= `Active Mean`\n",
      "[92.88%] \t`Idle Mean` ~= `Flow IAT Max`\n",
      "[93.37%] \t`Idle Max` ~= `Flow IAT Max`\n",
      "[99.46%] \t`Idle Max` ~= `Idle Mean`\n",
      "[91.69%] \t`Idle Min` ~= `Flow IAT Max`\n",
      "[99.58%] \t`Idle Min` ~= `Idle Mean`\n",
      "[98.17%] \t`Idle Min` ~= `Idle Max`\n",
      "\n",
      "Dropped: {'Fwd Header Len', 'Subflow Fwd Pkts', 'Flow IAT Mean', 'Bwd Pkt Len Mean', 'Tot Fwd Pkts', 'Pkt Len Max', 'Flow Duration', 'Fwd Pkt Len Std', 'Subflow Bwd Pkts', 'Pkt Len Mean', 'Active Mean', 'Flow IAT Max', 'Fwd Pkt Len Max', 'Tot Bwd Pkts', 'Idle Mean', 'Fwd IAT Mean', 'Init Fwd Win Byts', 'Idle Max', 'Subflow Fwd Byts', 'Bwd Pkt Len Max', 'TotLen Fwd Pkts', 'Flow IAT Min', 'Fwd Pkt Len Mean', 'Bwd Header Len', 'TotLen Bwd Pkts'}\n",
      "\n",
      "After:\n",
      " \t Shape: (3137134, 51)\n",
      "\tMemory: 637.25 MB\n"
     ]
    }
   ],
   "execution_count": 65
  },
  {
   "metadata": {
    "ExecuteTime": {
     "end_time": "2025-04-17T17:21:39.603201Z",
     "start_time": "2025-04-17T17:21:28.522495Z"
    }
   },
   "cell_type": "code",
   "source": [
    "# Show correlation.\n",
    "THRESHOLD = 0.3  # Set THRESHOLD = 0 if no filtration needed.\n",
    "\n",
    "corr_matrix = df.select_dtypes(include=[np.number, ]).corr()\n",
    "corr_matrix = corr_matrix.mask(abs(corr_matrix) < THRESHOLD, np.nan)\n",
    "\n",
    "plt.figure(figsize=(14, 12))\n",
    "sns.heatmap(corr_matrix, annot=False, cmap='coolwarm', center=0, linewidths=0.5)\n",
    "plt.title('Correlation Matrix')\n",
    "plt.show()\n",
    "corr_matrix"
   ],
   "id": "8473c5e0c30906e9",
   "outputs": [
    {
     "ename": "KeyboardInterrupt",
     "evalue": "",
     "output_type": "error",
     "traceback": [
      "\u001B[1;31m---------------------------------------------------------------------------\u001B[0m",
      "\u001B[1;31mKeyboardInterrupt\u001B[0m                         Traceback (most recent call last)",
      "\u001B[1;32m~\\AppData\\Local\\Temp\\ipykernel_21848\\3401028640.py\u001B[0m in \u001B[0;36m?\u001B[1;34m()\u001B[0m\n\u001B[0;32m      1\u001B[0m \u001B[1;31m# Show correlation.\u001B[0m\u001B[1;33m\u001B[0m\u001B[1;33m\u001B[0m\u001B[0m\n\u001B[0;32m      2\u001B[0m \u001B[0mTHRESHOLD\u001B[0m \u001B[1;33m=\u001B[0m \u001B[1;36m0.3\u001B[0m  \u001B[1;31m# Set THRESHOLD = 0 if no filtration needed.\u001B[0m\u001B[1;33m\u001B[0m\u001B[1;33m\u001B[0m\u001B[0m\n\u001B[0;32m      3\u001B[0m \u001B[1;33m\u001B[0m\u001B[0m\n\u001B[1;32m----> 4\u001B[1;33m \u001B[0mcorr_matrix\u001B[0m \u001B[1;33m=\u001B[0m \u001B[0mdf\u001B[0m\u001B[1;33m.\u001B[0m\u001B[0mselect_dtypes\u001B[0m\u001B[1;33m(\u001B[0m\u001B[0minclude\u001B[0m\u001B[1;33m=\u001B[0m\u001B[1;33m[\u001B[0m\u001B[0mnp\u001B[0m\u001B[1;33m.\u001B[0m\u001B[0mnumber\u001B[0m\u001B[1;33m,\u001B[0m \u001B[1;33m]\u001B[0m\u001B[1;33m)\u001B[0m\u001B[1;33m.\u001B[0m\u001B[0mcorr\u001B[0m\u001B[1;33m(\u001B[0m\u001B[1;33m)\u001B[0m\u001B[1;33m\u001B[0m\u001B[1;33m\u001B[0m\u001B[0m\n\u001B[0m\u001B[0;32m      5\u001B[0m \u001B[0mcorr_matrix\u001B[0m \u001B[1;33m=\u001B[0m \u001B[0mcorr_matrix\u001B[0m\u001B[1;33m.\u001B[0m\u001B[0mmask\u001B[0m\u001B[1;33m(\u001B[0m\u001B[0mabs\u001B[0m\u001B[1;33m(\u001B[0m\u001B[0mcorr_matrix\u001B[0m\u001B[1;33m)\u001B[0m \u001B[1;33m<\u001B[0m \u001B[0mTHRESHOLD\u001B[0m\u001B[1;33m,\u001B[0m \u001B[0mnp\u001B[0m\u001B[1;33m.\u001B[0m\u001B[0mnan\u001B[0m\u001B[1;33m)\u001B[0m\u001B[1;33m\u001B[0m\u001B[1;33m\u001B[0m\u001B[0m\n\u001B[0;32m      6\u001B[0m \u001B[1;33m\u001B[0m\u001B[0m\n\u001B[0;32m      7\u001B[0m \u001B[0mplt\u001B[0m\u001B[1;33m.\u001B[0m\u001B[0mfigure\u001B[0m\u001B[1;33m(\u001B[0m\u001B[0mfigsize\u001B[0m\u001B[1;33m=\u001B[0m\u001B[1;33m(\u001B[0m\u001B[1;36m14\u001B[0m\u001B[1;33m,\u001B[0m \u001B[1;36m12\u001B[0m\u001B[1;33m)\u001B[0m\u001B[1;33m)\u001B[0m\u001B[1;33m\u001B[0m\u001B[1;33m\u001B[0m\u001B[0m\n",
      "\u001B[1;32mD:\\Development\\university\\course03\\venv\\Lib\\site-packages\\pandas\\core\\frame.py\u001B[0m in \u001B[0;36m?\u001B[1;34m(self, method, min_periods, numeric_only)\u001B[0m\n\u001B[0;32m  11048\u001B[0m         \u001B[0midx\u001B[0m \u001B[1;33m=\u001B[0m \u001B[0mcols\u001B[0m\u001B[1;33m.\u001B[0m\u001B[0mcopy\u001B[0m\u001B[1;33m(\u001B[0m\u001B[1;33m)\u001B[0m\u001B[1;33m\u001B[0m\u001B[1;33m\u001B[0m\u001B[0m\n\u001B[0;32m  11049\u001B[0m         \u001B[0mmat\u001B[0m \u001B[1;33m=\u001B[0m \u001B[0mdata\u001B[0m\u001B[1;33m.\u001B[0m\u001B[0mto_numpy\u001B[0m\u001B[1;33m(\u001B[0m\u001B[0mdtype\u001B[0m\u001B[1;33m=\u001B[0m\u001B[0mfloat\u001B[0m\u001B[1;33m,\u001B[0m \u001B[0mna_value\u001B[0m\u001B[1;33m=\u001B[0m\u001B[0mnp\u001B[0m\u001B[1;33m.\u001B[0m\u001B[0mnan\u001B[0m\u001B[1;33m,\u001B[0m \u001B[0mcopy\u001B[0m\u001B[1;33m=\u001B[0m\u001B[1;32mFalse\u001B[0m\u001B[1;33m)\u001B[0m\u001B[1;33m\u001B[0m\u001B[1;33m\u001B[0m\u001B[0m\n\u001B[0;32m  11050\u001B[0m \u001B[1;33m\u001B[0m\u001B[0m\n\u001B[0;32m  11051\u001B[0m         \u001B[1;32mif\u001B[0m \u001B[0mmethod\u001B[0m \u001B[1;33m==\u001B[0m \u001B[1;34m\"pearson\"\u001B[0m\u001B[1;33m:\u001B[0m\u001B[1;33m\u001B[0m\u001B[1;33m\u001B[0m\u001B[0m\n\u001B[1;32m> 11052\u001B[1;33m             \u001B[0mcorrel\u001B[0m \u001B[1;33m=\u001B[0m \u001B[0mlibalgos\u001B[0m\u001B[1;33m.\u001B[0m\u001B[0mnancorr\u001B[0m\u001B[1;33m(\u001B[0m\u001B[0mmat\u001B[0m\u001B[1;33m,\u001B[0m \u001B[0mminp\u001B[0m\u001B[1;33m=\u001B[0m\u001B[0mmin_periods\u001B[0m\u001B[1;33m)\u001B[0m\u001B[1;33m\u001B[0m\u001B[1;33m\u001B[0m\u001B[0m\n\u001B[0m\u001B[0;32m  11053\u001B[0m         \u001B[1;32melif\u001B[0m \u001B[0mmethod\u001B[0m \u001B[1;33m==\u001B[0m \u001B[1;34m\"spearman\"\u001B[0m\u001B[1;33m:\u001B[0m\u001B[1;33m\u001B[0m\u001B[1;33m\u001B[0m\u001B[0m\n\u001B[0;32m  11054\u001B[0m             \u001B[0mcorrel\u001B[0m \u001B[1;33m=\u001B[0m \u001B[0mlibalgos\u001B[0m\u001B[1;33m.\u001B[0m\u001B[0mnancorr_spearman\u001B[0m\u001B[1;33m(\u001B[0m\u001B[0mmat\u001B[0m\u001B[1;33m,\u001B[0m \u001B[0mminp\u001B[0m\u001B[1;33m=\u001B[0m\u001B[0mmin_periods\u001B[0m\u001B[1;33m)\u001B[0m\u001B[1;33m\u001B[0m\u001B[1;33m\u001B[0m\u001B[0m\n\u001B[0;32m  11055\u001B[0m         \u001B[1;32melif\u001B[0m \u001B[0mmethod\u001B[0m \u001B[1;33m==\u001B[0m \u001B[1;34m\"kendall\"\u001B[0m \u001B[1;32mor\u001B[0m \u001B[0mcallable\u001B[0m\u001B[1;33m(\u001B[0m\u001B[0mmethod\u001B[0m\u001B[1;33m)\u001B[0m\u001B[1;33m:\u001B[0m\u001B[1;33m\u001B[0m\u001B[1;33m\u001B[0m\u001B[0m\n",
      "\u001B[1;31mKeyboardInterrupt\u001B[0m: "
     ]
    }
   ],
   "execution_count": 66
  },
  {
   "metadata": {},
   "cell_type": "markdown",
   "source": "## Modeling.",
   "id": "2697f4da76357b8"
  },
  {
   "metadata": {},
   "cell_type": "markdown",
   "source": "### Preparation.",
   "id": "6fa84ed78a3c467f"
  },
  {
   "metadata": {},
   "cell_type": "code",
   "outputs": [],
   "execution_count": null,
   "source": [
    "# Timer.\n",
    "from timeit import default_timer as timer\n",
    "\n",
    "# Preprocessing.\n",
    "from sklearn.model_selection import train_test_split\n",
    "from sklearn.preprocessing import StandardScaler\n",
    "\n",
    "# ML Classifiers.\n",
    "from sklearn.neighbors import KNeighborsClassifier\n",
    "from sklearn.ensemble import RandomForestClassifier\n",
    "\n",
    "# Metrics.\n",
    "from sklearn.metrics import (\n",
    "    confusion_matrix,\n",
    "    accuracy_score, roc_auc_score,\n",
    "    precision_score, recall_score, f1_score,\n",
    ")\n",
    "\n",
    "# Parallelization.\n",
    "from joblib import Parallel, delayed"
   ],
   "id": "aaadf50e3ceef3ca"
  },
  {
   "metadata": {},
   "cell_type": "code",
   "outputs": [],
   "execution_count": null,
   "source": [
    "def show_metrics(test, pred):\n",
    "    \"\"\"Display confusion matrix and metrics (accuracy, precision, recall, f1, roc).\"\"\"\n",
    "    # Confusion matrix plot.\n",
    "    cm = confusion_matrix(test, pred)\n",
    "    sns.heatmap(cm, annot=True, fmt='d', cmap='Blues', cbar=False)\n",
    "    plt.xlabel('Predicted')\n",
    "    plt.ylabel('Actual')\n",
    "    plt.show()\n",
    "\n",
    "    # Compute metrics.\n",
    "    get_rounded = lambda x: round(x, 100)\n",
    "    accuracy = get_rounded(accuracy_score(test, pred))\n",
    "    precision = get_rounded(precision_score(test, pred))\n",
    "    recall = get_rounded(recall_score(test, pred))\n",
    "    f1 = get_rounded(f1_score(test, pred))\n",
    "    roc = get_rounded(roc_auc_score(test, pred))\n",
    "\n",
    "    # Show metrics as table.\n",
    "    metrics_df = pd.DataFrame({\n",
    "        'Metric': ['Accuracy', 'Precision', 'Recall', 'F1', 'ROC-AUC'],\n",
    "        'Score': [accuracy, precision, recall, f1, roc]\n",
    "    })\n",
    "    print(metrics_df.to_string(index=False))"
   ],
   "id": "de6de10655cd0d0b"
  },
  {
   "metadata": {},
   "cell_type": "code",
   "outputs": [],
   "execution_count": null,
   "source": [
    "def ip_str_to_int(ip: str) -> int:\n",
    "    \"\"\"Return integer representation of IP address.\"\"\"\n",
    "    octets = list(map(int, ip.split('.')))\n",
    "    return sum((octet << 8 * (3-ind)) for ind, octet in enumerate(octets))"
   ],
   "id": "6bfa14f5f64db3ba"
  },
  {
   "metadata": {},
   "cell_type": "code",
   "outputs": [],
   "execution_count": null,
   "source": [
    "df['Src IP'] = df['Src IP'].apply(ip_str_to_int)\n",
    "df['Dst IP'] = df['Dst IP'].apply(ip_str_to_int)\n",
    "df['Protocol'] = df['Protocol'].astype('category').cat.codes\n",
    "df['Timestamp'] = df['Timestamp'].apply(lambda t: t.timestamp())"
   ],
   "id": "2648f7573d7a269d"
  },
  {
   "metadata": {},
   "cell_type": "code",
   "outputs": [],
   "execution_count": null,
   "source": [
    "# Split data.\n",
    "DF_SAMPLE_SIZE = 0.05  # Use only part of the data.\n",
    "TEST_SIZE = 0.3        # Split data into train and test sets.\n",
    "\n",
    "df_sample = df.sample(frac=DF_SAMPLE_SIZE, random_state=0)\n",
    "df_sample = df_sample.drop_duplicates()\n",
    "df_sample = df_sample.drop(['Timestamp'], axis=1)\n",
    "\n",
    "x, y = df_sample.drop(TARGET_COL, axis=1), df_sample[TARGET_COL]\n",
    "x_train, x_test, y_train, y_test = train_test_split(\n",
    "    x, y, test_size=TEST_SIZE, random_state=0\n",
    ")\n",
    "\n",
    "scaler = StandardScaler()\n",
    "x_train = scaler.fit_transform(x_train)\n",
    "x_test = scaler.transform(x_test)\n",
    "\n",
    "print(f'Using {DF_SAMPLE_SIZE:.0%} of the data\\n'\n",
    "      f'Train size: {len(x_train)}\\n'\n",
    "      f' Test size: {len(x_test)}\\n'\n",
    "      f'DF sample shape:\\n{get_df_info_str(df_sample)}\\n'\n",
    "      f'Class balance:\\n{y_train.value_counts(normalize=True)}')"
   ],
   "id": "6730be66656824a0"
  },
  {
   "metadata": {},
   "cell_type": "markdown",
   "source": "### kNN.",
   "id": "31e4ba2869c95d15"
  },
  {
   "metadata": {},
   "cell_type": "code",
   "outputs": [],
   "execution_count": null,
   "source": [
    "def get_knn(n_neighbors):\n",
    "    return KNeighborsClassifier(\n",
    "        n_neighbors=n_neighbors,\n",
    "        weights='distance',\n",
    "        algorithm='brute',\n",
    "        n_jobs=-1\n",
    "    )"
   ],
   "id": "bd39e65c054e3e4a"
  },
  {
   "metadata": {
    "ExecuteTime": {
     "end_time": "2025-04-17T18:32:33.950097Z",
     "start_time": "2025-04-17T18:32:33.946178Z"
    }
   },
   "cell_type": "code",
   "source": [
    "def evaluate_k(n_neighbors, x_tr, y_tr, x_tst, y_tst):\n",
    "    \"\"\"Evaluate KNN and return results.\"\"\"\n",
    "    time_iter_start = timer()\n",
    "    model = get_knn(n_neighbors)\n",
    "    model.fit(x_tr, y_tr)\n",
    "    scr = accuracy_score(y_tst, model.predict(x_tst))\n",
    "    return {'k': n_neighbors, 'score': scr, 'time': timer()-time_iter_start}"
   ],
   "id": "153c2134ac4027e9",
   "outputs": [],
   "execution_count": 147
  },
  {
   "metadata": {
    "ExecuteTime": {
     "end_time": "2025-04-17T18:40:33.017956Z",
     "start_time": "2025-04-17T18:37:30.430530Z"
    }
   },
   "cell_type": "code",
   "source": [
    "# Optimized kNN learning.\n",
    "# Using: n_jobs to use all cores, pipeline to optimize, joblib for parallel.\n",
    "\n",
    "SKIP_FIRST_N_ITERS = 2  # Skip k=[1, 2] to get more stable model.\n",
    "K_RANGE = range(1, 8+1)\n",
    "\n",
    "# Learn models and get scores.\n",
    "print('Learning...')\n",
    "time_total_start = timer()\n",
    "results = Parallel(n_jobs=-1)(\n",
    "    delayed(evaluate_k)(k, x_train, y_train, x_test, y_test) for k in K_RANGE\n",
    ")\n",
    "time_total_end = timer()\n",
    "\n",
    "# Save results.\n",
    "results = {\n",
    "    'k': [x['k'] for x in results],\n",
    "    'score': [x['score'] for x in results],\n",
    "    'time': [x['time'] for x in results],\n",
    "}\n",
    "best_k = results['k'][2:][np.argmax(results['score'][2:])]\n",
    "\n",
    "# Show each iteration & total results.\n",
    "for k, acc, time in zip(results['k'], results['score'], results['time']):\n",
    "    print(f'\\tk={k}\\tscore={acc:.4%} | elapsed={time:.2f}s')\n",
    "print(f'Done. Total time: {time_total_end - time_total_start:.2f}s')"
   ],
   "id": "3f6333061043a720",
   "outputs": [
    {
     "name": "stdout",
     "output_type": "stream",
     "text": [
      "Learning...\n",
      "\tk=1\tscore=99.9320% | elapsed=179.94s\n",
      "\tk=2\tscore=99.9320% | elapsed=180.54s\n",
      "\tk=3\tscore=99.9256% | elapsed=178.28s\n",
      "\tk=4\tscore=99.9235% | elapsed=178.55s\n",
      "\tk=5\tscore=99.9235% | elapsed=180.22s\n",
      "\tk=6\tscore=99.9214% | elapsed=181.09s\n",
      "\tk=7\tscore=99.9129% | elapsed=180.72s\n",
      "\tk=8\tscore=99.9150% | elapsed=180.03s\n",
      "Done. Total time: 182.58s\n"
     ]
    }
   ],
   "execution_count": 152
  },
  {
   "metadata": {
    "ExecuteTime": {
     "end_time": "2025-04-17T18:08:54.573105Z",
     "start_time": "2025-04-17T18:08:54.494797Z"
    }
   },
   "cell_type": "code",
   "source": [
    "plt.figure(figsize=(10, 5))\n",
    "result = results\n",
    "plt.errorbar(results['k'], results['score'], fmt='-o', capsize=5)\n",
    "plt.xticks(results['k'])\n",
    "plt.xlabel('Number of neighbors (k)')\n",
    "plt.ylabel('Accuracy')\n",
    "plt.title(f'KNN Performance')\n",
    "plt.grid(True)\n",
    "plt.show()"
   ],
   "id": "9eb9a6f5e983d8e",
   "outputs": [
    {
     "data": {
      "text/plain": [
       "<Figure size 1000x500 with 1 Axes>"
      ],
      "image/png": "[encoded data removed]"
     },
     "metadata": {},
     "output_type": "display_data"
    }
   ],
   "execution_count": 127
  },
  {
   "metadata": {
    "ExecuteTime": {
     "end_time": "2025-04-17T18:44:17.935131Z",
     "start_time": "2025-04-17T18:44:03.471816Z"
    }
   },
   "cell_type": "code",
   "source": [
    "# Resulting model.\n",
    "knn = get_knn(best_k)\n",
    "knn.fit(x_train, y_train)\n",
    "knn_pred = knn.predict(x_test)\n",
    "\n",
    "print(f'KNN with k={best_k} results:')\n",
    "show_metrics(y_test, knn_pred)"
   ],
   "id": "7f88a15627d2b178",
   "outputs": [
    {
     "name": "stdout",
     "output_type": "stream",
     "text": [
      "KNN with k=3 results:\n"
     ]
    },
    {
     "data": {
      "text/plain": [
       "<Figure size 640x480 with 1 Axes>"
      ],
      "image/png": "[encoded data removed]"
     },
     "metadata": {},
     "output_type": "display_data"
    },
    {
     "name": "stdout",
     "output_type": "stream",
     "text": [
      "   Metric    Score\n",
      " Accuracy 0.999256\n",
      "Precision 0.998818\n",
      "   Recall 0.999704\n",
      "       F1 0.999261\n",
      "  ROC-AUC 0.999253\n"
     ]
    }
   ],
   "execution_count": 153
  },
  {
   "metadata": {},
   "cell_type": "markdown",
   "source": "### Random Forest.",
   "id": "906d6490f80e61c2"
  },
  {
   "metadata": {
    "ExecuteTime": {
     "end_time": "2025-04-17T18:52:45.486920Z",
     "start_time": "2025-04-17T18:52:43.982816Z"
    }
   },
   "cell_type": "code",
   "source": [
    "time_total_start = timer()\n",
    "print('Learning...')\n",
    "rf = RandomForestClassifier(\n",
    "    n_estimators=200,\n",
    "    max_depth=5,\n",
    "    min_samples_split=5,\n",
    "    max_features='log2',\n",
    "    random_state=0,\n",
    "    n_jobs=-1,\n",
    "    class_weight='balanced'\n",
    ")\n",
    "rf.fit(x_train, y_train)\n",
    "rf_pred = rf.predict(x_test)\n",
    "\n",
    "print(f'Done. Total time: {timer()-time_total_start:.0f}s')\n",
    "print('Random Forest results:')\n",
    "show_metrics(y_test, rf_pred)"
   ],
   "id": "bc95cec98499c451",
   "outputs": [
    {
     "name": "stdout",
     "output_type": "stream",
     "text": [
      "Learning...\n",
      "Done. Total time: 1s\n",
      "Random Forest results:\n"
     ]
    },
    {
     "data": {
      "text/plain": [
       "<Figure size 640x480 with 1 Axes>"
      ],
      "image/png": "[encoded data removed]"
     },
     "metadata": {},
     "output_type": "display_data"
    },
    {
     "name": "stdout",
     "output_type": "stream",
     "text": [
      "   Metric    Score\n",
      " Accuracy 0.995962\n",
      "Precision 0.997542\n",
      "   Recall 0.994424\n",
      "       F1 0.995981\n",
      "  ROC-AUC 0.995972\n"
     ]
    }
   ],
   "execution_count": 154
  },
  {
   "metadata": {
    "ExecuteTime": {
     "end_time": "2025-04-17T18:52:49.544046Z",
     "start_time": "2025-04-17T18:52:49.267715Z"
    }
   },
   "cell_type": "code",
   "source": [
    "# Show feature importance.\n",
    "features_df = pd.DataFrame({\n",
    "    'Feature': df_sample.drop(TARGET_COL, axis=1).columns,\n",
    "    'Importance': rf.feature_importances_\n",
    "}).sort_values('Importance', ascending=False)\n",
    "\n",
    "# Plot the top 20 features.\n",
    "plt.figure(figsize=(10, 8))\n",
    "sns.barplot(x='Importance', y='Feature', data=features_df.head(20), palette='viridis')\n",
    "plt.title('Top 20 Important Features - Random Forest')\n",
    "plt.xlabel('Importance Score')\n",
    "plt.ylabel('Feature Name')\n",
    "plt.tight_layout()\n",
    "plt.show()"
   ],
   "id": "6693948c5eb4c0d0",
   "outputs": [
    {
     "data": {
      "text/plain": [
       "<Figure size 1000x800 with 1 Axes>"
      ],
      "image/png": "[encoded data removed]"
     },
     "metadata": {},
     "output_type": "display_data"
    }
   ],
   "execution_count": 155
  }
 ],
 "metadata": {
  "kernelspec": {
   "display_name": "Python 3",
   "language": "python",
   "name": "python3"
  },
  "language_info": {
   "codemirror_mode": {
    "name": "ipython",
    "version": 2
   },
   "file_extension": ".py",
   "mimetype": "text/x-python",
   "name": "python",
   "nbconvert_exporter": "python",
   "pygments_lexer": "ipython2",
   "version": "2.7.6"
  }
 },
 "nbformat": 4,
 "nbformat_minor": 5
}
